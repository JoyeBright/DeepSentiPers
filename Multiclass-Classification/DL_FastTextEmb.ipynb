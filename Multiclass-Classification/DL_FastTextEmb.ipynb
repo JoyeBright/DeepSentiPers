{
  "cells": [
    {
      "cell_type": "markdown",
      "metadata": {
        "colab_type": "text",
        "id": "view-in-github"
      },
      "source": [
        "<a href=\"https://colab.research.google.com/github/parsa-abbasi/Sentiment-Analysis/blob/master/Multiclass-Classification/DL_FastTextEmb.ipynb\" target=\"_parent\"><img src=\"https://colab.research.google.com/assets/colab-badge.svg\" alt=\"Open In Colab\"/></a>"
      ]
    },
    {
      "cell_type": "markdown",
      "metadata": {
        "colab_type": "text",
        "id": "QthdEc8Cp5Nt"
      },
      "source": [
        "# Requirements"
      ]
    },
    {
      "cell_type": "markdown",
      "metadata": {
        "colab_type": "text",
        "id": "m1eImT5Ehsfs"
      },
      "source": [
        "## Install required libraries"
      ]
    },
    {
      "cell_type": "code",
      "execution_count": 1,
      "metadata": {
        "colab": {
          "base_uri": "https://localhost:8080/",
          "height": 158
        },
        "colab_type": "code",
        "id": "YYUgxQ8TQ0RM",
        "outputId": "8a36a3df-613f-435d-c446-c850dfe9fe14"
      },
      "outputs": [
        {
          "name": "stdout",
          "output_type": "stream",
          "text": [
            "Collecting matplotlib==3.1.0\n",
            "  Using cached matplotlib-3.1.0.tar.gz (37.2 MB)\n",
            "  Preparing metadata (setup.py): started\n",
            "  Preparing metadata (setup.py): finished with status 'done'\n",
            "Requirement already satisfied: cycler>=0.10 in h:\\vafatech\\code\\sentiment-analysis\\venv\\lib\\site-packages (from matplotlib==3.1.0) (0.11.0)\n",
            "Requirement already satisfied: kiwisolver>=1.0.1 in h:\\vafatech\\code\\sentiment-analysis\\venv\\lib\\site-packages (from matplotlib==3.1.0) (1.4.4)\n",
            "Requirement already satisfied: pyparsing!=2.0.4,!=2.1.2,!=2.1.6,>=2.0.1 in h:\\vafatech\\code\\sentiment-analysis\\venv\\lib\\site-packages (from matplotlib==3.1.0) (3.0.9)\n",
            "Requirement already satisfied: python-dateutil>=2.1 in h:\\vafatech\\code\\sentiment-analysis\\venv\\lib\\site-packages (from matplotlib==3.1.0) (2.8.2)\n",
            "Requirement already satisfied: numpy>=1.11 in h:\\vafatech\\code\\sentiment-analysis\\venv\\lib\\site-packages (from matplotlib==3.1.0) (1.23.4)\n",
            "Requirement already satisfied: six>=1.5 in h:\\vafatech\\code\\sentiment-analysis\\venv\\lib\\site-packages (from python-dateutil>=2.1->matplotlib==3.1.0) (1.16.0)\n",
            "Building wheels for collected packages: matplotlib\n",
            "  Building wheel for matplotlib (setup.py): started\n",
            "  Building wheel for matplotlib (setup.py): finished with status 'error'\n",
            "  Running setup.py clean for matplotlib\n",
            "Failed to build matplotlib\n",
            "Installing collected packages: matplotlib\n",
            "  Running setup.py install for matplotlib: started\n",
            "  Running setup.py install for matplotlib: finished with status 'error'\n"
          ]
        },
        {
          "name": "stderr",
          "output_type": "stream",
          "text": [
            "  error: subprocess-exited-with-error\n",
            "  \n",
            "  × python setup.py bdist_wheel did not run successfully.\n",
            "  │ exit code: 1\n",
            "  ╰─> [505 lines of output]\n",
            "      ================================================================================\n",
            "      Edit setup.cfg to change the build options\n",
            "      \n",
            "      BUILDING MATPLOTLIB\n",
            "        matplotlib: yes [3.1.0]\n",
            "            python: yes [3.8.0 (tags/v3.8.0:fa919fd, Oct 14 2019, 19:37:50) [MSC\n",
            "                        v.1916 64 bit (AMD64)]]\n",
            "          platform: yes [win32]\n",
            "      \n",
            "      OPTIONAL SUBPACKAGES\n",
            "       sample_data: yes [installing]\n",
            "             tests: no  [skipping due to configuration]\n",
            "      \n",
            "      OPTIONAL BACKEND EXTENSIONS\n",
            "               agg: yes [installing]\n",
            "             tkagg: yes [installing; run-time loading from Python Tcl/Tk]\n",
            "            macosx: no  [Mac OS-X only]\n",
            "      \n",
            "      OPTIONAL PACKAGE DATA\n",
            "              dlls: no  [skipping due to configuration]\n",
            "      \n",
            "      running bdist_wheel\n",
            "      running build\n",
            "      running build_py\n",
            "      creating build\n",
            "      creating build\\lib.win-amd64-3.8\n",
            "      copying lib\\pylab.py -> build\\lib.win-amd64-3.8\n",
            "      creating build\\lib.win-amd64-3.8\\matplotlib\n",
            "      copying lib\\matplotlib\\afm.py -> build\\lib.win-amd64-3.8\\matplotlib\n",
            "      copying lib\\matplotlib\\animation.py -> build\\lib.win-amd64-3.8\\matplotlib\n",
            "      copying lib\\matplotlib\\artist.py -> build\\lib.win-amd64-3.8\\matplotlib\n",
            "      copying lib\\matplotlib\\axis.py -> build\\lib.win-amd64-3.8\\matplotlib\n",
            "      copying lib\\matplotlib\\backend_bases.py -> build\\lib.win-amd64-3.8\\matplotlib\n",
            "      copying lib\\matplotlib\\backend_managers.py -> build\\lib.win-amd64-3.8\\matplotlib\n",
            "      copying lib\\matplotlib\\backend_tools.py -> build\\lib.win-amd64-3.8\\matplotlib\n",
            "      copying lib\\matplotlib\\bezier.py -> build\\lib.win-amd64-3.8\\matplotlib\n",
            "      copying lib\\matplotlib\\blocking_input.py -> build\\lib.win-amd64-3.8\\matplotlib\n",
            "      copying lib\\matplotlib\\category.py -> build\\lib.win-amd64-3.8\\matplotlib\n",
            "      copying lib\\matplotlib\\cm.py -> build\\lib.win-amd64-3.8\\matplotlib\n",
            "      copying lib\\matplotlib\\collections.py -> build\\lib.win-amd64-3.8\\matplotlib\n",
            "      copying lib\\matplotlib\\colorbar.py -> build\\lib.win-amd64-3.8\\matplotlib\n",
            "      copying lib\\matplotlib\\colors.py -> build\\lib.win-amd64-3.8\\matplotlib\n",
            "      copying lib\\matplotlib\\container.py -> build\\lib.win-amd64-3.8\\matplotlib\n",
            "      copying lib\\matplotlib\\contour.py -> build\\lib.win-amd64-3.8\\matplotlib\n",
            "      copying lib\\matplotlib\\dates.py -> build\\lib.win-amd64-3.8\\matplotlib\n",
            "      copying lib\\matplotlib\\docstring.py -> build\\lib.win-amd64-3.8\\matplotlib\n",
            "      copying lib\\matplotlib\\dviread.py -> build\\lib.win-amd64-3.8\\matplotlib\n",
            "      copying lib\\matplotlib\\figure.py -> build\\lib.win-amd64-3.8\\matplotlib\n",
            "      copying lib\\matplotlib\\fontconfig_pattern.py -> build\\lib.win-amd64-3.8\\matplotlib\n",
            "      copying lib\\matplotlib\\font_manager.py -> build\\lib.win-amd64-3.8\\matplotlib\n",
            "      copying lib\\matplotlib\\gridspec.py -> build\\lib.win-amd64-3.8\\matplotlib\n",
            "      copying lib\\matplotlib\\hatch.py -> build\\lib.win-amd64-3.8\\matplotlib\n",
            "      copying lib\\matplotlib\\image.py -> build\\lib.win-amd64-3.8\\matplotlib\n",
            "      copying lib\\matplotlib\\legend.py -> build\\lib.win-amd64-3.8\\matplotlib\n",
            "      copying lib\\matplotlib\\legend_handler.py -> build\\lib.win-amd64-3.8\\matplotlib\n",
            "      copying lib\\matplotlib\\lines.py -> build\\lib.win-amd64-3.8\\matplotlib\n",
            "      copying lib\\matplotlib\\markers.py -> build\\lib.win-amd64-3.8\\matplotlib\n",
            "      copying lib\\matplotlib\\mathtext.py -> build\\lib.win-amd64-3.8\\matplotlib\n",
            "      copying lib\\matplotlib\\mlab.py -> build\\lib.win-amd64-3.8\\matplotlib\n",
            "      copying lib\\matplotlib\\offsetbox.py -> build\\lib.win-amd64-3.8\\matplotlib\n",
            "      copying lib\\matplotlib\\patches.py -> build\\lib.win-amd64-3.8\\matplotlib\n",
            "      copying lib\\matplotlib\\path.py -> build\\lib.win-amd64-3.8\\matplotlib\n",
            "      copying lib\\matplotlib\\patheffects.py -> build\\lib.win-amd64-3.8\\matplotlib\n",
            "      copying lib\\matplotlib\\pylab.py -> build\\lib.win-amd64-3.8\\matplotlib\n",
            "      copying lib\\matplotlib\\pyplot.py -> build\\lib.win-amd64-3.8\\matplotlib\n",
            "      copying lib\\matplotlib\\quiver.py -> build\\lib.win-amd64-3.8\\matplotlib\n",
            "      copying lib\\matplotlib\\rcsetup.py -> build\\lib.win-amd64-3.8\\matplotlib\n",
            "      copying lib\\matplotlib\\sankey.py -> build\\lib.win-amd64-3.8\\matplotlib\n",
            "      copying lib\\matplotlib\\scale.py -> build\\lib.win-amd64-3.8\\matplotlib\n",
            "      copying lib\\matplotlib\\spines.py -> build\\lib.win-amd64-3.8\\matplotlib\n",
            "      copying lib\\matplotlib\\stackplot.py -> build\\lib.win-amd64-3.8\\matplotlib\n",
            "      copying lib\\matplotlib\\streamplot.py -> build\\lib.win-amd64-3.8\\matplotlib\n",
            "      copying lib\\matplotlib\\table.py -> build\\lib.win-amd64-3.8\\matplotlib\n",
            "      copying lib\\matplotlib\\texmanager.py -> build\\lib.win-amd64-3.8\\matplotlib\n",
            "      copying lib\\matplotlib\\text.py -> build\\lib.win-amd64-3.8\\matplotlib\n",
            "      copying lib\\matplotlib\\textpath.py -> build\\lib.win-amd64-3.8\\matplotlib\n",
            "      copying lib\\matplotlib\\ticker.py -> build\\lib.win-amd64-3.8\\matplotlib\n",
            "      copying lib\\matplotlib\\tight_bbox.py -> build\\lib.win-amd64-3.8\\matplotlib\n",
            "      copying lib\\matplotlib\\tight_layout.py -> build\\lib.win-amd64-3.8\\matplotlib\n",
            "      copying lib\\matplotlib\\transforms.py -> build\\lib.win-amd64-3.8\\matplotlib\n",
            "      copying lib\\matplotlib\\type1font.py -> build\\lib.win-amd64-3.8\\matplotlib\n",
            "      copying lib\\matplotlib\\units.py -> build\\lib.win-amd64-3.8\\matplotlib\n",
            "      copying lib\\matplotlib\\widgets.py -> build\\lib.win-amd64-3.8\\matplotlib\n",
            "      copying lib\\matplotlib\\_animation_data.py -> build\\lib.win-amd64-3.8\\matplotlib\n",
            "      copying lib\\matplotlib\\_cm.py -> build\\lib.win-amd64-3.8\\matplotlib\n",
            "      copying lib\\matplotlib\\_cm_listed.py -> build\\lib.win-amd64-3.8\\matplotlib\n",
            "      copying lib\\matplotlib\\_color_data.py -> build\\lib.win-amd64-3.8\\matplotlib\n",
            "      copying lib\\matplotlib\\_constrained_layout.py -> build\\lib.win-amd64-3.8\\matplotlib\n",
            "      copying lib\\matplotlib\\_layoutbox.py -> build\\lib.win-amd64-3.8\\matplotlib\n",
            "      copying lib\\matplotlib\\_mathtext_data.py -> build\\lib.win-amd64-3.8\\matplotlib\n",
            "      copying lib\\matplotlib\\_pylab_helpers.py -> build\\lib.win-amd64-3.8\\matplotlib\n",
            "      copying lib\\matplotlib\\_version.py -> build\\lib.win-amd64-3.8\\matplotlib\n",
            "      copying lib\\matplotlib\\__init__.py -> build\\lib.win-amd64-3.8\\matplotlib\n",
            "      creating build\\lib.win-amd64-3.8\\mpl_toolkits\n",
            "      copying lib\\mpl_toolkits\\__init__.py -> build\\lib.win-amd64-3.8\\mpl_toolkits\n",
            "      creating build\\lib.win-amd64-3.8\\matplotlib\\axes\n",
            "      copying lib\\matplotlib\\axes\\_axes.py -> build\\lib.win-amd64-3.8\\matplotlib\\axes\n",
            "      copying lib\\matplotlib\\axes\\_base.py -> build\\lib.win-amd64-3.8\\matplotlib\\axes\n",
            "      copying lib\\matplotlib\\axes\\_secondary_axes.py -> build\\lib.win-amd64-3.8\\matplotlib\\axes\n",
            "      copying lib\\matplotlib\\axes\\_subplots.py -> build\\lib.win-amd64-3.8\\matplotlib\\axes\n",
            "      copying lib\\matplotlib\\axes\\__init__.py -> build\\lib.win-amd64-3.8\\matplotlib\\axes\n",
            "      creating build\\lib.win-amd64-3.8\\matplotlib\\backends\n",
            "      copying lib\\matplotlib\\backends\\backend_agg.py -> build\\lib.win-amd64-3.8\\matplotlib\\backends\n",
            "      copying lib\\matplotlib\\backends\\backend_cairo.py -> build\\lib.win-amd64-3.8\\matplotlib\\backends\n",
            "      copying lib\\matplotlib\\backends\\backend_gtk3.py -> build\\lib.win-amd64-3.8\\matplotlib\\backends\n",
            "      copying lib\\matplotlib\\backends\\backend_gtk3agg.py -> build\\lib.win-amd64-3.8\\matplotlib\\backends\n",
            "      copying lib\\matplotlib\\backends\\backend_gtk3cairo.py -> build\\lib.win-amd64-3.8\\matplotlib\\backends\n",
            "      copying lib\\matplotlib\\backends\\backend_macosx.py -> build\\lib.win-amd64-3.8\\matplotlib\\backends\n",
            "      copying lib\\matplotlib\\backends\\backend_mixed.py -> build\\lib.win-amd64-3.8\\matplotlib\\backends\n",
            "      copying lib\\matplotlib\\backends\\backend_nbagg.py -> build\\lib.win-amd64-3.8\\matplotlib\\backends\n",
            "      copying lib\\matplotlib\\backends\\backend_pdf.py -> build\\lib.win-amd64-3.8\\matplotlib\\backends\n",
            "      copying lib\\matplotlib\\backends\\backend_pgf.py -> build\\lib.win-amd64-3.8\\matplotlib\\backends\n",
            "      copying lib\\matplotlib\\backends\\backend_ps.py -> build\\lib.win-amd64-3.8\\matplotlib\\backends\n",
            "      copying lib\\matplotlib\\backends\\backend_qt4.py -> build\\lib.win-amd64-3.8\\matplotlib\\backends\n",
            "      copying lib\\matplotlib\\backends\\backend_qt4agg.py -> build\\lib.win-amd64-3.8\\matplotlib\\backends\n",
            "      copying lib\\matplotlib\\backends\\backend_qt4cairo.py -> build\\lib.win-amd64-3.8\\matplotlib\\backends\n",
            "      copying lib\\matplotlib\\backends\\backend_qt5.py -> build\\lib.win-amd64-3.8\\matplotlib\\backends\n",
            "      copying lib\\matplotlib\\backends\\backend_qt5agg.py -> build\\lib.win-amd64-3.8\\matplotlib\\backends\n",
            "      copying lib\\matplotlib\\backends\\backend_qt5cairo.py -> build\\lib.win-amd64-3.8\\matplotlib\\backends\n",
            "      copying lib\\matplotlib\\backends\\backend_svg.py -> build\\lib.win-amd64-3.8\\matplotlib\\backends\n",
            "      copying lib\\matplotlib\\backends\\backend_template.py -> build\\lib.win-amd64-3.8\\matplotlib\\backends\n",
            "      copying lib\\matplotlib\\backends\\backend_tkagg.py -> build\\lib.win-amd64-3.8\\matplotlib\\backends\n",
            "      copying lib\\matplotlib\\backends\\backend_tkcairo.py -> build\\lib.win-amd64-3.8\\matplotlib\\backends\n",
            "      copying lib\\matplotlib\\backends\\backend_webagg.py -> build\\lib.win-amd64-3.8\\matplotlib\\backends\n",
            "      copying lib\\matplotlib\\backends\\backend_webagg_core.py -> build\\lib.win-amd64-3.8\\matplotlib\\backends\n",
            "      copying lib\\matplotlib\\backends\\backend_wx.py -> build\\lib.win-amd64-3.8\\matplotlib\\backends\n",
            "      copying lib\\matplotlib\\backends\\backend_wxagg.py -> build\\lib.win-amd64-3.8\\matplotlib\\backends\n",
            "      copying lib\\matplotlib\\backends\\backend_wxcairo.py -> build\\lib.win-amd64-3.8\\matplotlib\\backends\n",
            "      copying lib\\matplotlib\\backends\\qt_compat.py -> build\\lib.win-amd64-3.8\\matplotlib\\backends\n",
            "      copying lib\\matplotlib\\backends\\tkagg.py -> build\\lib.win-amd64-3.8\\matplotlib\\backends\n",
            "      copying lib\\matplotlib\\backends\\windowing.py -> build\\lib.win-amd64-3.8\\matplotlib\\backends\n",
            "      copying lib\\matplotlib\\backends\\wx_compat.py -> build\\lib.win-amd64-3.8\\matplotlib\\backends\n",
            "      copying lib\\matplotlib\\backends\\_backend_pdf_ps.py -> build\\lib.win-amd64-3.8\\matplotlib\\backends\n",
            "      copying lib\\matplotlib\\backends\\_backend_tk.py -> build\\lib.win-amd64-3.8\\matplotlib\\backends\n",
            "      copying lib\\matplotlib\\backends\\__init__.py -> build\\lib.win-amd64-3.8\\matplotlib\\backends\n",
            "      creating build\\lib.win-amd64-3.8\\matplotlib\\cbook\n",
            "      copying lib\\matplotlib\\cbook\\deprecation.py -> build\\lib.win-amd64-3.8\\matplotlib\\cbook\n",
            "      copying lib\\matplotlib\\cbook\\__init__.py -> build\\lib.win-amd64-3.8\\matplotlib\\cbook\n",
            "      creating build\\lib.win-amd64-3.8\\matplotlib\\compat\n",
            "      copying lib\\matplotlib\\compat\\subprocess.py -> build\\lib.win-amd64-3.8\\matplotlib\\compat\n",
            "      copying lib\\matplotlib\\compat\\__init__.py -> build\\lib.win-amd64-3.8\\matplotlib\\compat\n",
            "      creating build\\lib.win-amd64-3.8\\matplotlib\\projections\n",
            "      copying lib\\matplotlib\\projections\\geo.py -> build\\lib.win-amd64-3.8\\matplotlib\\projections\n",
            "      copying lib\\matplotlib\\projections\\polar.py -> build\\lib.win-amd64-3.8\\matplotlib\\projections\n",
            "      copying lib\\matplotlib\\projections\\__init__.py -> build\\lib.win-amd64-3.8\\matplotlib\\projections\n",
            "      creating build\\lib.win-amd64-3.8\\matplotlib\\sphinxext\n",
            "      copying lib\\matplotlib\\sphinxext\\mathmpl.py -> build\\lib.win-amd64-3.8\\matplotlib\\sphinxext\n",
            "      copying lib\\matplotlib\\sphinxext\\plot_directive.py -> build\\lib.win-amd64-3.8\\matplotlib\\sphinxext\n",
            "      copying lib\\matplotlib\\sphinxext\\__init__.py -> build\\lib.win-amd64-3.8\\matplotlib\\sphinxext\n",
            "      creating build\\lib.win-amd64-3.8\\matplotlib\\style\n",
            "      copying lib\\matplotlib\\style\\core.py -> build\\lib.win-amd64-3.8\\matplotlib\\style\n",
            "      copying lib\\matplotlib\\style\\__init__.py -> build\\lib.win-amd64-3.8\\matplotlib\\style\n",
            "      creating build\\lib.win-amd64-3.8\\matplotlib\\testing\n",
            "      copying lib\\matplotlib\\testing\\compare.py -> build\\lib.win-amd64-3.8\\matplotlib\\testing\n",
            "      copying lib\\matplotlib\\testing\\conftest.py -> build\\lib.win-amd64-3.8\\matplotlib\\testing\n",
            "      copying lib\\matplotlib\\testing\\decorators.py -> build\\lib.win-amd64-3.8\\matplotlib\\testing\n",
            "      copying lib\\matplotlib\\testing\\determinism.py -> build\\lib.win-amd64-3.8\\matplotlib\\testing\n",
            "      copying lib\\matplotlib\\testing\\disable_internet.py -> build\\lib.win-amd64-3.8\\matplotlib\\testing\n",
            "      copying lib\\matplotlib\\testing\\exceptions.py -> build\\lib.win-amd64-3.8\\matplotlib\\testing\n",
            "      copying lib\\matplotlib\\testing\\__init__.py -> build\\lib.win-amd64-3.8\\matplotlib\\testing\n",
            "      creating build\\lib.win-amd64-3.8\\matplotlib\\tri\n",
            "      copying lib\\matplotlib\\tri\\triangulation.py -> build\\lib.win-amd64-3.8\\matplotlib\\tri\n",
            "      copying lib\\matplotlib\\tri\\tricontour.py -> build\\lib.win-amd64-3.8\\matplotlib\\tri\n",
            "      copying lib\\matplotlib\\tri\\trifinder.py -> build\\lib.win-amd64-3.8\\matplotlib\\tri\n",
            "      copying lib\\matplotlib\\tri\\triinterpolate.py -> build\\lib.win-amd64-3.8\\matplotlib\\tri\n",
            "      copying lib\\matplotlib\\tri\\tripcolor.py -> build\\lib.win-amd64-3.8\\matplotlib\\tri\n",
            "      copying lib\\matplotlib\\tri\\triplot.py -> build\\lib.win-amd64-3.8\\matplotlib\\tri\n",
            "      copying lib\\matplotlib\\tri\\trirefine.py -> build\\lib.win-amd64-3.8\\matplotlib\\tri\n",
            "      copying lib\\matplotlib\\tri\\tritools.py -> build\\lib.win-amd64-3.8\\matplotlib\\tri\n",
            "      copying lib\\matplotlib\\tri\\__init__.py -> build\\lib.win-amd64-3.8\\matplotlib\\tri\n",
            "      creating build\\lib.win-amd64-3.8\\matplotlib\\backends\\qt_editor\n",
            "      copying lib\\matplotlib\\backends\\qt_editor\\figureoptions.py -> build\\lib.win-amd64-3.8\\matplotlib\\backends\\qt_editor\n",
            "      copying lib\\matplotlib\\backends\\qt_editor\\formlayout.py -> build\\lib.win-amd64-3.8\\matplotlib\\backends\\qt_editor\n",
            "      copying lib\\matplotlib\\backends\\qt_editor\\formsubplottool.py -> build\\lib.win-amd64-3.8\\matplotlib\\backends\\qt_editor\n",
            "      copying lib\\matplotlib\\backends\\qt_editor\\_formlayout.py -> build\\lib.win-amd64-3.8\\matplotlib\\backends\\qt_editor\n",
            "      copying lib\\matplotlib\\backends\\qt_editor\\__init__.py -> build\\lib.win-amd64-3.8\\matplotlib\\backends\\qt_editor\n",
            "      creating build\\lib.win-amd64-3.8\\matplotlib\\testing\\jpl_units\n",
            "      copying lib\\matplotlib\\testing\\jpl_units\\Duration.py -> build\\lib.win-amd64-3.8\\matplotlib\\testing\\jpl_units\n",
            "      copying lib\\matplotlib\\testing\\jpl_units\\Epoch.py -> build\\lib.win-amd64-3.8\\matplotlib\\testing\\jpl_units\n",
            "      copying lib\\matplotlib\\testing\\jpl_units\\EpochConverter.py -> build\\lib.win-amd64-3.8\\matplotlib\\testing\\jpl_units\n",
            "      copying lib\\matplotlib\\testing\\jpl_units\\StrConverter.py -> build\\lib.win-amd64-3.8\\matplotlib\\testing\\jpl_units\n",
            "      copying lib\\matplotlib\\testing\\jpl_units\\UnitDbl.py -> build\\lib.win-amd64-3.8\\matplotlib\\testing\\jpl_units\n",
            "      copying lib\\matplotlib\\testing\\jpl_units\\UnitDblConverter.py -> build\\lib.win-amd64-3.8\\matplotlib\\testing\\jpl_units\n",
            "      copying lib\\matplotlib\\testing\\jpl_units\\UnitDblFormatter.py -> build\\lib.win-amd64-3.8\\matplotlib\\testing\\jpl_units\n",
            "      copying lib\\matplotlib\\testing\\jpl_units\\__init__.py -> build\\lib.win-amd64-3.8\\matplotlib\\testing\\jpl_units\n",
            "      creating build\\lib.win-amd64-3.8\\mpl_toolkits\\axes_grid\n",
            "      copying lib\\mpl_toolkits\\axes_grid\\anchored_artists.py -> build\\lib.win-amd64-3.8\\mpl_toolkits\\axes_grid\n",
            "      copying lib\\mpl_toolkits\\axes_grid\\angle_helper.py -> build\\lib.win-amd64-3.8\\mpl_toolkits\\axes_grid\n",
            "      copying lib\\mpl_toolkits\\axes_grid\\axes_divider.py -> build\\lib.win-amd64-3.8\\mpl_toolkits\\axes_grid\n",
            "      copying lib\\mpl_toolkits\\axes_grid\\axes_grid.py -> build\\lib.win-amd64-3.8\\mpl_toolkits\\axes_grid\n",
            "      copying lib\\mpl_toolkits\\axes_grid\\axes_rgb.py -> build\\lib.win-amd64-3.8\\mpl_toolkits\\axes_grid\n",
            "      copying lib\\mpl_toolkits\\axes_grid\\axes_size.py -> build\\lib.win-amd64-3.8\\mpl_toolkits\\axes_grid\n",
            "      copying lib\\mpl_toolkits\\axes_grid\\axislines.py -> build\\lib.win-amd64-3.8\\mpl_toolkits\\axes_grid\n",
            "      copying lib\\mpl_toolkits\\axes_grid\\axisline_style.py -> build\\lib.win-amd64-3.8\\mpl_toolkits\\axes_grid\n",
            "      copying lib\\mpl_toolkits\\axes_grid\\axis_artist.py -> build\\lib.win-amd64-3.8\\mpl_toolkits\\axes_grid\n",
            "      copying lib\\mpl_toolkits\\axes_grid\\clip_path.py -> build\\lib.win-amd64-3.8\\mpl_toolkits\\axes_grid\n",
            "      copying lib\\mpl_toolkits\\axes_grid\\colorbar.py -> build\\lib.win-amd64-3.8\\mpl_toolkits\\axes_grid\n",
            "      copying lib\\mpl_toolkits\\axes_grid\\floating_axes.py -> build\\lib.win-amd64-3.8\\mpl_toolkits\\axes_grid\n",
            "      copying lib\\mpl_toolkits\\axes_grid\\grid_finder.py -> build\\lib.win-amd64-3.8\\mpl_toolkits\\axes_grid\n",
            "      copying lib\\mpl_toolkits\\axes_grid\\grid_helper_curvelinear.py -> build\\lib.win-amd64-3.8\\mpl_toolkits\\axes_grid\n",
            "      copying lib\\mpl_toolkits\\axes_grid\\inset_locator.py -> build\\lib.win-amd64-3.8\\mpl_toolkits\\axes_grid\n",
            "      copying lib\\mpl_toolkits\\axes_grid\\parasite_axes.py -> build\\lib.win-amd64-3.8\\mpl_toolkits\\axes_grid\n",
            "      copying lib\\mpl_toolkits\\axes_grid\\__init__.py -> build\\lib.win-amd64-3.8\\mpl_toolkits\\axes_grid\n",
            "      creating build\\lib.win-amd64-3.8\\mpl_toolkits\\axes_grid1\n",
            "      copying lib\\mpl_toolkits\\axes_grid1\\anchored_artists.py -> build\\lib.win-amd64-3.8\\mpl_toolkits\\axes_grid1\n",
            "      copying lib\\mpl_toolkits\\axes_grid1\\axes_divider.py -> build\\lib.win-amd64-3.8\\mpl_toolkits\\axes_grid1\n",
            "      copying lib\\mpl_toolkits\\axes_grid1\\axes_grid.py -> build\\lib.win-amd64-3.8\\mpl_toolkits\\axes_grid1\n",
            "      copying lib\\mpl_toolkits\\axes_grid1\\axes_rgb.py -> build\\lib.win-amd64-3.8\\mpl_toolkits\\axes_grid1\n",
            "      copying lib\\mpl_toolkits\\axes_grid1\\axes_size.py -> build\\lib.win-amd64-3.8\\mpl_toolkits\\axes_grid1\n",
            "      copying lib\\mpl_toolkits\\axes_grid1\\colorbar.py -> build\\lib.win-amd64-3.8\\mpl_toolkits\\axes_grid1\n",
            "      copying lib\\mpl_toolkits\\axes_grid1\\inset_locator.py -> build\\lib.win-amd64-3.8\\mpl_toolkits\\axes_grid1\n",
            "      copying lib\\mpl_toolkits\\axes_grid1\\mpl_axes.py -> build\\lib.win-amd64-3.8\\mpl_toolkits\\axes_grid1\n",
            "      copying lib\\mpl_toolkits\\axes_grid1\\parasite_axes.py -> build\\lib.win-amd64-3.8\\mpl_toolkits\\axes_grid1\n",
            "      copying lib\\mpl_toolkits\\axes_grid1\\__init__.py -> build\\lib.win-amd64-3.8\\mpl_toolkits\\axes_grid1\n",
            "      creating build\\lib.win-amd64-3.8\\mpl_toolkits\\axisartist\n",
            "      copying lib\\mpl_toolkits\\axisartist\\angle_helper.py -> build\\lib.win-amd64-3.8\\mpl_toolkits\\axisartist\n",
            "      copying lib\\mpl_toolkits\\axisartist\\axes_divider.py -> build\\lib.win-amd64-3.8\\mpl_toolkits\\axisartist\n",
            "      copying lib\\mpl_toolkits\\axisartist\\axes_grid.py -> build\\lib.win-amd64-3.8\\mpl_toolkits\\axisartist\n",
            "      copying lib\\mpl_toolkits\\axisartist\\axes_rgb.py -> build\\lib.win-amd64-3.8\\mpl_toolkits\\axisartist\n",
            "      copying lib\\mpl_toolkits\\axisartist\\axislines.py -> build\\lib.win-amd64-3.8\\mpl_toolkits\\axisartist\n",
            "      copying lib\\mpl_toolkits\\axisartist\\axisline_style.py -> build\\lib.win-amd64-3.8\\mpl_toolkits\\axisartist\n",
            "      copying lib\\mpl_toolkits\\axisartist\\axis_artist.py -> build\\lib.win-amd64-3.8\\mpl_toolkits\\axisartist\n",
            "      copying lib\\mpl_toolkits\\axisartist\\clip_path.py -> build\\lib.win-amd64-3.8\\mpl_toolkits\\axisartist\n",
            "      copying lib\\mpl_toolkits\\axisartist\\floating_axes.py -> build\\lib.win-amd64-3.8\\mpl_toolkits\\axisartist\n",
            "      copying lib\\mpl_toolkits\\axisartist\\grid_finder.py -> build\\lib.win-amd64-3.8\\mpl_toolkits\\axisartist\n",
            "      copying lib\\mpl_toolkits\\axisartist\\grid_helper_curvelinear.py -> build\\lib.win-amd64-3.8\\mpl_toolkits\\axisartist\n",
            "      copying lib\\mpl_toolkits\\axisartist\\parasite_axes.py -> build\\lib.win-amd64-3.8\\mpl_toolkits\\axisartist\n",
            "      copying lib\\mpl_toolkits\\axisartist\\__init__.py -> build\\lib.win-amd64-3.8\\mpl_toolkits\\axisartist\n",
            "      creating build\\lib.win-amd64-3.8\\mpl_toolkits\\mplot3d\n",
            "      copying lib\\mpl_toolkits\\mplot3d\\art3d.py -> build\\lib.win-amd64-3.8\\mpl_toolkits\\mplot3d\n",
            "      copying lib\\mpl_toolkits\\mplot3d\\axes3d.py -> build\\lib.win-amd64-3.8\\mpl_toolkits\\mplot3d\n",
            "      copying lib\\mpl_toolkits\\mplot3d\\axis3d.py -> build\\lib.win-amd64-3.8\\mpl_toolkits\\mplot3d\n",
            "      copying lib\\mpl_toolkits\\mplot3d\\proj3d.py -> build\\lib.win-amd64-3.8\\mpl_toolkits\\mplot3d\n",
            "      copying lib\\mpl_toolkits\\mplot3d\\__init__.py -> build\\lib.win-amd64-3.8\\mpl_toolkits\\mplot3d\n",
            "      creating build\\lib.win-amd64-3.8\\matplotlib\\mpl-data\n",
            "      creating build\\lib.win-amd64-3.8\\matplotlib\\mpl-data\\images\n",
            "      copying lib\\matplotlib\\mpl-data\\images\\home_large.png -> build\\lib.win-amd64-3.8\\matplotlib\\mpl-data\\images\n",
            "      creating build\\lib.win-amd64-3.8\\matplotlib\\mpl-data\\stylelib\n",
            "      copying lib\\matplotlib\\mpl-data\\stylelib\\seaborn-muted.mplstyle -> build\\lib.win-amd64-3.8\\matplotlib\\mpl-data\\stylelib\n",
            "      creating build\\lib.win-amd64-3.8\\matplotlib\\backends\\web_backend\n",
            "      copying lib\\matplotlib\\backends\\web_backend\\ipython_inline_figure.html -> build\\lib.win-amd64-3.8\\matplotlib\\backends\\web_backend\n",
            "      creating build\\lib.win-amd64-3.8\\matplotlib\\mpl-data\\fonts\n",
            "      creating build\\lib.win-amd64-3.8\\matplotlib\\mpl-data\\fonts\\pdfcorefonts\n",
            "      copying lib\\matplotlib\\mpl-data\\fonts\\pdfcorefonts\\Times-BoldItalic.afm -> build\\lib.win-amd64-3.8\\matplotlib\\mpl-data\\fonts\\pdfcorefonts\n",
            "      creating build\\lib.win-amd64-3.8\\matplotlib\\mpl-data\\sample_data\n",
            "      copying lib\\matplotlib\\mpl-data\\sample_data\\eeg.dat -> build\\lib.win-amd64-3.8\\matplotlib\\mpl-data\\sample_data\n",
            "      creating build\\lib.win-amd64-3.8\\matplotlib\\backends\\web_backend\\jquery-ui-1.12.1\n",
            "      creating build\\lib.win-amd64-3.8\\matplotlib\\backends\\web_backend\\jquery-ui-1.12.1\\images\n",
            "      copying lib\\matplotlib\\backends\\web_backend\\jquery-ui-1.12.1\\images\\ui-icons_cc0000_256x240.png -> build\\lib.win-amd64-3.8\\matplotlib\\backends\\web_backend\\jquery-ui-1.12.1\\images\n",
            "      creating build\\lib.win-amd64-3.8\\matplotlib\\mpl-data\\fonts\\afm\n",
            "      copying lib\\matplotlib\\mpl-data\\fonts\\afm\\phvro8a.afm -> build\\lib.win-amd64-3.8\\matplotlib\\mpl-data\\fonts\\afm\n",
            "      copying lib\\matplotlib\\mpl-data\\stylelib\\seaborn-poster.mplstyle -> build\\lib.win-amd64-3.8\\matplotlib\\mpl-data\\stylelib\n",
            "      copying lib\\matplotlib\\backends\\web_backend\\jquery-ui-1.12.1\\jquery-ui.min.js -> build\\lib.win-amd64-3.8\\matplotlib\\backends\\web_backend\\jquery-ui-1.12.1\n",
            "      copying lib\\matplotlib\\backends\\web_backend\\jquery-ui-1.12.1\\images\\ui-icons_777777_256x240.png -> build\\lib.win-amd64-3.8\\matplotlib\\backends\\web_backend\\jquery-ui-1.12.1\\images\n",
            "      copying lib\\matplotlib\\mpl-data\\fonts\\afm\\pzcmi8a.afm -> build\\lib.win-amd64-3.8\\matplotlib\\mpl-data\\fonts\\afm\n",
            "      copying lib\\matplotlib\\mpl-data\\fonts\\afm\\ptmri8a.afm -> build\\lib.win-amd64-3.8\\matplotlib\\mpl-data\\fonts\\afm\n",
            "      copying lib\\matplotlib\\mpl-data\\fonts\\pdfcorefonts\\Times-Roman.afm -> build\\lib.win-amd64-3.8\\matplotlib\\mpl-data\\fonts\\pdfcorefonts\n",
            "      copying lib\\matplotlib\\mpl-data\\fonts\\pdfcorefonts\\readme.txt -> build\\lib.win-amd64-3.8\\matplotlib\\mpl-data\\fonts\\pdfcorefonts\n",
            "      creating build\\lib.win-amd64-3.8\\matplotlib\\backends\\web_backend\\jquery\n",
            "      creating build\\lib.win-amd64-3.8\\matplotlib\\backends\\web_backend\\jquery\\js\n",
            "      copying lib\\matplotlib\\backends\\web_backend\\jquery\\js\\jquery.min.js -> build\\lib.win-amd64-3.8\\matplotlib\\backends\\web_backend\\jquery\\js\n",
            "      creating build\\lib.win-amd64-3.8\\matplotlib\\mpl-data\\fonts\\ttf\n",
            "      copying lib\\matplotlib\\mpl-data\\fonts\\ttf\\cmmi10.ttf -> build\\lib.win-amd64-3.8\\matplotlib\\mpl-data\\fonts\\ttf\n",
            "      copying lib\\matplotlib\\mpl-data\\fonts\\afm\\pbkdi8a.afm -> build\\lib.win-amd64-3.8\\matplotlib\\mpl-data\\fonts\\afm\n",
            "      copying lib\\matplotlib\\mpl-data\\fonts\\ttf\\DejaVuSansDisplay.ttf -> build\\lib.win-amd64-3.8\\matplotlib\\mpl-data\\fonts\\ttf\n",
            "      copying lib\\matplotlib\\mpl-data\\fonts\\afm\\phvro8an.afm -> build\\lib.win-amd64-3.8\\matplotlib\\mpl-data\\fonts\\afm\n",
            "      copying lib\\matplotlib\\mpl-data\\images\\forward.png -> build\\lib.win-amd64-3.8\\matplotlib\\mpl-data\\images\n",
            "      copying lib\\matplotlib\\mpl-data\\fonts\\ttf\\STIXGeneralBol.ttf -> build\\lib.win-amd64-3.8\\matplotlib\\mpl-data\\fonts\\ttf\n",
            "      copying lib\\matplotlib\\mpl-data\\images\\hand_large.gif -> build\\lib.win-amd64-3.8\\matplotlib\\mpl-data\\images\n",
            "      copying lib\\matplotlib\\mpl-data\\images\\back.png -> build\\lib.win-amd64-3.8\\matplotlib\\mpl-data\\images\n",
            "      copying lib\\matplotlib\\mpl-data\\fonts\\afm\\pzdr.afm -> build\\lib.win-amd64-3.8\\matplotlib\\mpl-data\\fonts\\afm\n",
            "      copying lib\\matplotlib\\mpl-data\\fonts\\afm\\pcrro8a.afm -> build\\lib.win-amd64-3.8\\matplotlib\\mpl-data\\fonts\\afm\n",
            "      copying lib\\matplotlib\\mpl-data\\fonts\\pdfcorefonts\\Helvetica.afm -> build\\lib.win-amd64-3.8\\matplotlib\\mpl-data\\fonts\\pdfcorefonts\n",
            "      copying lib\\matplotlib\\mpl-data\\sample_data\\jacksboro_fault_dem.npz -> build\\lib.win-amd64-3.8\\matplotlib\\mpl-data\\sample_data\n",
            "      copying lib\\matplotlib\\mpl-data\\images\\subplots.pdf -> build\\lib.win-amd64-3.8\\matplotlib\\mpl-data\\images\n",
            "      copying lib\\matplotlib\\mpl-data\\fonts\\pdfcorefonts\\Times-Bold.afm -> build\\lib.win-amd64-3.8\\matplotlib\\mpl-data\\fonts\\pdfcorefonts\n",
            "      copying lib\\matplotlib\\mpl-data\\images\\back.pdf -> build\\lib.win-amd64-3.8\\matplotlib\\mpl-data\\images\n",
            "      copying lib\\matplotlib\\mpl-data\\images\\back.svg -> build\\lib.win-amd64-3.8\\matplotlib\\mpl-data\\images\n",
            "      copying lib\\matplotlib\\mpl-data\\images\\subplots_large.png -> build\\lib.win-amd64-3.8\\matplotlib\\mpl-data\\images\n",
            "      copying lib\\matplotlib\\mpl-data\\images\\move.png -> build\\lib.win-amd64-3.8\\matplotlib\\mpl-data\\images\n",
            "      copying lib\\matplotlib\\backends\\web_backend\\jquery-ui-1.12.1\\jquery-ui.css -> build\\lib.win-amd64-3.8\\matplotlib\\backends\\web_backend\\jquery-ui-1.12.1\n",
            "      copying lib\\matplotlib\\mpl-data\\sample_data\\ct.raw.gz -> build\\lib.win-amd64-3.8\\matplotlib\\mpl-data\\sample_data\n",
            "      copying lib\\matplotlib\\mpl-data\\sample_data\\README.txt -> build\\lib.win-amd64-3.8\\matplotlib\\mpl-data\\sample_data\n",
            "      copying lib\\matplotlib\\mpl-data\\fonts\\afm\\psyr.afm -> build\\lib.win-amd64-3.8\\matplotlib\\mpl-data\\fonts\\afm\n",
            "      copying lib\\matplotlib\\mpl-data\\fonts\\ttf\\DejaVuSerif.ttf -> build\\lib.win-amd64-3.8\\matplotlib\\mpl-data\\fonts\\ttf\n",
            "      copying lib\\matplotlib\\mpl-data\\fonts\\afm\\phvl8a.afm -> build\\lib.win-amd64-3.8\\matplotlib\\mpl-data\\fonts\\afm\n",
            "      copying lib\\matplotlib\\mpl-data\\fonts\\pdfcorefonts\\Courier.afm -> build\\lib.win-amd64-3.8\\matplotlib\\mpl-data\\fonts\\pdfcorefonts\n",
            "      copying lib\\matplotlib\\mpl-data\\sample_data\\goog.npz -> build\\lib.win-amd64-3.8\\matplotlib\\mpl-data\\sample_data\n",
            "      copying lib\\matplotlib\\mpl-data\\fonts\\ttf\\DejaVuSans-Oblique.ttf -> build\\lib.win-amd64-3.8\\matplotlib\\mpl-data\\fonts\\ttf\n",
            "      copying lib\\matplotlib\\backends\\web_backend\\jquery-ui-1.12.1\\images\\ui-icons_777620_256x240.png -> build\\lib.win-amd64-3.8\\matplotlib\\backends\\web_backend\\jquery-ui-1.12.1\\images\n",
            "      copying lib\\matplotlib\\mpl-data\\fonts\\pdfcorefonts\\Helvetica-Oblique.afm -> build\\lib.win-amd64-3.8\\matplotlib\\mpl-data\\fonts\\pdfcorefonts\n",
            "      copying lib\\matplotlib\\mpl-data\\sample_data\\demodata.csv -> build\\lib.win-amd64-3.8\\matplotlib\\mpl-data\\sample_data\n",
            "      copying lib\\matplotlib\\mpl-data\\images\\subplots.gif -> build\\lib.win-amd64-3.8\\matplotlib\\mpl-data\\images\n",
            "      copying lib\\matplotlib\\mpl-data\\images\\back_large.gif -> build\\lib.win-amd64-3.8\\matplotlib\\mpl-data\\images\n",
            "      copying lib\\matplotlib\\mpl-data\\stylelib\\ggplot.mplstyle -> build\\lib.win-amd64-3.8\\matplotlib\\mpl-data\\stylelib\n",
            "      copying lib\\matplotlib\\mpl-data\\sample_data\\data_x_x2_x3.csv -> build\\lib.win-amd64-3.8\\matplotlib\\mpl-data\\sample_data\n",
            "      copying lib\\matplotlib\\mpl-data\\fonts\\ttf\\STIXSizOneSymBol.ttf -> build\\lib.win-amd64-3.8\\matplotlib\\mpl-data\\fonts\\ttf\n",
            "      copying lib\\matplotlib\\mpl-data\\images\\matplotlib_large.png -> build\\lib.win-amd64-3.8\\matplotlib\\mpl-data\\images\n",
            "      copying lib\\matplotlib\\backends\\web_backend\\jquery-ui-1.12.1\\jquery-ui.min.css -> build\\lib.win-amd64-3.8\\matplotlib\\backends\\web_backend\\jquery-ui-1.12.1\n",
            "      copying lib\\matplotlib\\backends\\web_backend\\jquery-ui-1.12.1\\index.html -> build\\lib.win-amd64-3.8\\matplotlib\\backends\\web_backend\\jquery-ui-1.12.1\n",
            "      copying lib\\matplotlib\\mpl-data\\fonts\\afm\\phvb8a.afm -> build\\lib.win-amd64-3.8\\matplotlib\\mpl-data\\fonts\\afm\n",
            "      copying lib\\matplotlib\\mpl-data\\fonts\\afm\\phvlo8a.afm -> build\\lib.win-amd64-3.8\\matplotlib\\mpl-data\\fonts\\afm\n",
            "      copying lib\\matplotlib\\mpl-data\\fonts\\afm\\pcrbo8a.afm -> build\\lib.win-amd64-3.8\\matplotlib\\mpl-data\\fonts\\afm\n",
            "      copying lib\\matplotlib\\mpl-data\\fonts\\afm\\phvbo8a.afm -> build\\lib.win-amd64-3.8\\matplotlib\\mpl-data\\fonts\\afm\n",
            "      copying lib\\matplotlib\\mpl-data\\fonts\\ttf\\STIXNonUni.ttf -> build\\lib.win-amd64-3.8\\matplotlib\\mpl-data\\fonts\\ttf\n",
            "      copying lib\\matplotlib\\mpl-data\\fonts\\ttf\\STIXSizFourSymReg.ttf -> build\\lib.win-amd64-3.8\\matplotlib\\mpl-data\\fonts\\ttf\n",
            "      copying lib\\matplotlib\\mpl-data\\fonts\\afm\\phvr8an.afm -> build\\lib.win-amd64-3.8\\matplotlib\\mpl-data\\fonts\\afm\n",
            "      copying lib\\matplotlib\\mpl-data\\images\\move_large.png -> build\\lib.win-amd64-3.8\\matplotlib\\mpl-data\\images\n",
            "      copying lib\\matplotlib\\mpl-data\\images\\subplots_large.gif -> build\\lib.win-amd64-3.8\\matplotlib\\mpl-data\\images\n",
            "      copying lib\\matplotlib\\mpl-data\\stylelib\\seaborn-ticks.mplstyle -> build\\lib.win-amd64-3.8\\matplotlib\\mpl-data\\stylelib\n",
            "      copying lib\\matplotlib\\backends\\web_backend\\jquery-ui-1.12.1\\LICENSE.txt -> build\\lib.win-amd64-3.8\\matplotlib\\backends\\web_backend\\jquery-ui-1.12.1\n",
            "      copying lib\\matplotlib\\mpl-data\\fonts\\ttf\\STIXSizThreeSymBol.ttf -> build\\lib.win-amd64-3.8\\matplotlib\\mpl-data\\fonts\\ttf\n",
            "      copying lib\\matplotlib\\mpl-data\\images\\matplotlib.pdf -> build\\lib.win-amd64-3.8\\matplotlib\\mpl-data\\images\n",
            "      copying lib\\matplotlib\\mpl-data\\fonts\\pdfcorefonts\\Symbol.afm -> build\\lib.win-amd64-3.8\\matplotlib\\mpl-data\\fonts\\pdfcorefonts\n",
            "      copying lib\\matplotlib\\mpl-data\\fonts\\pdfcorefonts\\Times-Italic.afm -> build\\lib.win-amd64-3.8\\matplotlib\\mpl-data\\fonts\\pdfcorefonts\n",
            "      copying lib\\matplotlib\\mpl-data\\images\\back_large.png -> build\\lib.win-amd64-3.8\\matplotlib\\mpl-data\\images\n",
            "      copying lib\\matplotlib\\mpl-data\\fonts\\afm\\pcrr8a.afm -> build\\lib.win-amd64-3.8\\matplotlib\\mpl-data\\fonts\\afm\n",
            "      copying lib\\matplotlib\\mpl-data\\fonts\\afm\\cmex10.afm -> build\\lib.win-amd64-3.8\\matplotlib\\mpl-data\\fonts\\afm\n",
            "      copying lib\\matplotlib\\mpl-data\\fonts\\afm\\cmmi10.afm -> build\\lib.win-amd64-3.8\\matplotlib\\mpl-data\\fonts\\afm\n",
            "      copying lib\\matplotlib\\mpl-data\\fonts\\afm\\pagd8a.afm -> build\\lib.win-amd64-3.8\\matplotlib\\mpl-data\\fonts\\afm\n",
            "      copying lib\\matplotlib\\mpl-data\\images\\filesave.png -> build\\lib.win-amd64-3.8\\matplotlib\\mpl-data\\images\n",
            "      copying lib\\matplotlib\\mpl-data\\stylelib\\seaborn-colorblind.mplstyle -> build\\lib.win-amd64-3.8\\matplotlib\\mpl-data\\stylelib\n",
            "      creating build\\lib.win-amd64-3.8\\matplotlib\\backends\\web_backend\\jquery-ui-1.12.1\\external\n",
            "      creating build\\lib.win-amd64-3.8\\matplotlib\\backends\\web_backend\\jquery-ui-1.12.1\\external\\jquery\n",
            "      copying lib\\matplotlib\\backends\\web_backend\\jquery-ui-1.12.1\\external\\jquery\\jquery.js -> build\\lib.win-amd64-3.8\\matplotlib\\backends\\web_backend\\jquery-ui-1.12.1\\external\\jquery\n",
            "      copying lib\\matplotlib\\mpl-data\\stylelib\\seaborn-whitegrid.mplstyle -> build\\lib.win-amd64-3.8\\matplotlib\\mpl-data\\stylelib\n",
            "      copying lib\\matplotlib\\mpl-data\\images\\hand.png -> build\\lib.win-amd64-3.8\\matplotlib\\mpl-data\\images\n",
            "      copying lib\\matplotlib\\mpl-data\\fonts\\afm\\pagk8a.afm -> build\\lib.win-amd64-3.8\\matplotlib\\mpl-data\\fonts\\afm\n",
            "      creating build\\lib.win-amd64-3.8\\matplotlib\\backends\\web_backend\\js\n",
            "      copying lib\\matplotlib\\backends\\web_backend\\js\\nbagg_mpl.js -> build\\lib.win-amd64-3.8\\matplotlib\\backends\\web_backend\\js\n",
            "      copying lib\\matplotlib\\mpl-data\\images\\filesave_large.gif -> build\\lib.win-amd64-3.8\\matplotlib\\mpl-data\\images\n",
            "      copying lib\\matplotlib\\mpl-data\\images\\zoom_to_rect.pdf -> build\\lib.win-amd64-3.8\\matplotlib\\mpl-data\\images\n",
            "      copying lib\\matplotlib\\mpl-data\\stylelib\\seaborn-dark.mplstyle -> build\\lib.win-amd64-3.8\\matplotlib\\mpl-data\\stylelib\n",
            "      copying lib\\matplotlib\\mpl-data\\images\\zoom_to_rect.png -> build\\lib.win-amd64-3.8\\matplotlib\\mpl-data\\images\n",
            "      copying lib\\matplotlib\\mpl-data\\fonts\\ttf\\DejaVuSans-Bold.ttf -> build\\lib.win-amd64-3.8\\matplotlib\\mpl-data\\fonts\\ttf\n",
            "      copying lib\\matplotlib\\mpl-data\\images\\qt4_editor_options_large.png -> build\\lib.win-amd64-3.8\\matplotlib\\mpl-data\\images\n",
            "      copying lib\\matplotlib\\mpl-data\\fonts\\afm\\pbkl8a.afm -> build\\lib.win-amd64-3.8\\matplotlib\\mpl-data\\fonts\\afm\n",
            "      copying lib\\matplotlib\\mpl-data\\fonts\\ttf\\DejaVuSerif-Bold.ttf -> build\\lib.win-amd64-3.8\\matplotlib\\mpl-data\\fonts\\ttf\n",
            "      copying lib\\matplotlib\\backends\\web_backend\\jquery-ui-1.12.1\\AUTHORS.txt -> build\\lib.win-amd64-3.8\\matplotlib\\backends\\web_backend\\jquery-ui-1.12.1\n",
            "      copying lib\\matplotlib\\backends\\web_backend\\jquery-ui-1.12.1\\package.json -> build\\lib.win-amd64-3.8\\matplotlib\\backends\\web_backend\\jquery-ui-1.12.1\n",
            "      copying lib\\matplotlib\\mpl-data\\fonts\\pdfcorefonts\\Helvetica-BoldOblique.afm -> build\\lib.win-amd64-3.8\\matplotlib\\mpl-data\\fonts\\pdfcorefonts\n",
            "      copying lib\\matplotlib\\mpl-data\\fonts\\afm\\phvbo8an.afm -> build\\lib.win-amd64-3.8\\matplotlib\\mpl-data\\fonts\\afm\n",
            "      copying lib\\matplotlib\\mpl-data\\fonts\\ttf\\LICENSE_DEJAVU -> build\\lib.win-amd64-3.8\\matplotlib\\mpl-data\\fonts\\ttf\n",
            "      copying lib\\matplotlib\\mpl-data\\fonts\\ttf\\DejaVuSans.ttf -> build\\lib.win-amd64-3.8\\matplotlib\\mpl-data\\fonts\\ttf\n",
            "      copying lib\\matplotlib\\mpl-data\\stylelib\\seaborn-pastel.mplstyle -> build\\lib.win-amd64-3.8\\matplotlib\\mpl-data\\stylelib\n",
            "      copying lib\\matplotlib\\backends\\web_backend\\jquery\\js\\jquery.js -> build\\lib.win-amd64-3.8\\matplotlib\\backends\\web_backend\\jquery\\js\n",
            "      copying lib\\matplotlib\\mpl-data\\stylelib\\_classic_test.mplstyle -> build\\lib.win-amd64-3.8\\matplotlib\\mpl-data\\stylelib\n",
            "      copying lib\\matplotlib\\mpl-data\\fonts\\ttf\\cmex10.ttf -> build\\lib.win-amd64-3.8\\matplotlib\\mpl-data\\fonts\\ttf\n",
            "      copying lib\\matplotlib\\mpl-data\\images\\home.pdf -> build\\lib.win-amd64-3.8\\matplotlib\\mpl-data\\images\n",
            "      copying lib\\matplotlib\\mpl-data\\stylelib\\seaborn-deep.mplstyle -> build\\lib.win-amd64-3.8\\matplotlib\\mpl-data\\stylelib\n",
            "      copying lib\\matplotlib\\mpl-data\\fonts\\afm\\putb8a.afm -> build\\lib.win-amd64-3.8\\matplotlib\\mpl-data\\fonts\\afm\n",
            "      copying lib\\matplotlib\\mpl-data\\fonts\\ttf\\STIXSizFiveSymReg.ttf -> build\\lib.win-amd64-3.8\\matplotlib\\mpl-data\\fonts\\ttf\n",
            "      copying lib\\matplotlib\\mpl-data\\stylelib\\tableau-colorblind10.mplstyle -> build\\lib.win-amd64-3.8\\matplotlib\\mpl-data\\stylelib\n",
            "      copying lib\\matplotlib\\mpl-data\\fonts\\ttf\\STIXSizOneSymReg.ttf -> build\\lib.win-amd64-3.8\\matplotlib\\mpl-data\\fonts\\ttf\n",
            "      copying lib\\matplotlib\\mpl-data\\images\\filesave.pdf -> build\\lib.win-amd64-3.8\\matplotlib\\mpl-data\\images\n",
            "      copying lib\\matplotlib\\mpl-data\\fonts\\ttf\\DejaVuSansMono.ttf -> build\\lib.win-amd64-3.8\\matplotlib\\mpl-data\\fonts\\ttf\n",
            "      copying lib\\matplotlib\\mpl-data\\fonts\\ttf\\DejaVuSans-BoldOblique.ttf -> build\\lib.win-amd64-3.8\\matplotlib\\mpl-data\\fonts\\ttf\n",
            "      creating build\\lib.win-amd64-3.8\\matplotlib\\backends\\web_backend\\css\n",
            "      copying lib\\matplotlib\\backends\\web_backend\\css\\page.css -> build\\lib.win-amd64-3.8\\matplotlib\\backends\\web_backend\\css\n",
            "      copying lib\\matplotlib\\mpl-data\\images\\hand.pdf -> build\\lib.win-amd64-3.8\\matplotlib\\mpl-data\\images\n",
            "      copying lib\\matplotlib\\mpl-data\\images\\hand.svg -> build\\lib.win-amd64-3.8\\matplotlib\\mpl-data\\images\n",
            "      copying lib\\matplotlib\\mpl-data\\fonts\\ttf\\cmsy10.ttf -> build\\lib.win-amd64-3.8\\matplotlib\\mpl-data\\fonts\\ttf\n",
            "      copying lib\\matplotlib\\mpl-data\\fonts\\ttf\\STIXNonUniIta.ttf -> build\\lib.win-amd64-3.8\\matplotlib\\mpl-data\\fonts\\ttf\n",
            "      copying lib\\matplotlib\\backends\\web_backend\\jquery-ui-1.12.1\\images\\ui-icons_ffffff_256x240.png -> build\\lib.win-amd64-3.8\\matplotlib\\backends\\web_backend\\jquery-ui-1.12.1\\images\n",
            "      copying lib\\matplotlib\\mpl-data\\fonts\\ttf\\STIXSizThreeSymReg.ttf -> build\\lib.win-amd64-3.8\\matplotlib\\mpl-data\\fonts\\ttf\n",
            "      copying lib\\matplotlib\\mpl-data\\stylelib\\fivethirtyeight.mplstyle -> build\\lib.win-amd64-3.8\\matplotlib\\mpl-data\\stylelib\n",
            "      copying lib\\matplotlib\\backends\\web_backend\\jquery-ui-1.12.1\\jquery-ui.structure.min.css -> build\\lib.win-amd64-3.8\\matplotlib\\backends\\web_backend\\jquery-ui-1.12.1\n",
            "      copying lib\\matplotlib\\mpl-data\\fonts\\ttf\\STIXGeneralBolIta.ttf -> build\\lib.win-amd64-3.8\\matplotlib\\mpl-data\\fonts\\ttf\n",
            "      copying lib\\matplotlib\\mpl-data\\sample_data\\Minduka_Present_Blue_Pack.png -> build\\lib.win-amd64-3.8\\matplotlib\\mpl-data\\sample_data\n",
            "      copying lib\\matplotlib\\mpl-data\\fonts\\afm\\putr8a.afm -> build\\lib.win-amd64-3.8\\matplotlib\\mpl-data\\fonts\\afm\n",
            "      copying lib\\matplotlib\\mpl-data\\images\\home.png -> build\\lib.win-amd64-3.8\\matplotlib\\mpl-data\\images\n",
            "      copying lib\\matplotlib\\mpl-data\\fonts\\ttf\\LICENSE_STIX -> build\\lib.win-amd64-3.8\\matplotlib\\mpl-data\\fonts\\ttf\n",
            "      copying lib\\matplotlib\\mpl-data\\fonts\\afm\\pncri8a.afm -> build\\lib.win-amd64-3.8\\matplotlib\\mpl-data\\fonts\\afm\n",
            "      copying lib\\matplotlib\\mpl-data\\fonts\\ttf\\cmr10.ttf -> build\\lib.win-amd64-3.8\\matplotlib\\mpl-data\\fonts\\ttf\n",
            "      copying lib\\matplotlib\\mpl-data\\fonts\\ttf\\STIXGeneral.ttf -> build\\lib.win-amd64-3.8\\matplotlib\\mpl-data\\fonts\\ttf\n",
            "      copying lib\\matplotlib\\mpl-data\\images\\matplotlib.png -> build\\lib.win-amd64-3.8\\matplotlib\\mpl-data\\images\n",
            "      copying lib\\matplotlib\\mpl-data\\stylelib\\Solarize_Light2.mplstyle -> build\\lib.win-amd64-3.8\\matplotlib\\mpl-data\\stylelib\n",
            "      copying lib\\matplotlib\\backends\\web_backend\\jquery-ui-1.12.1\\jquery-ui.structure.css -> build\\lib.win-amd64-3.8\\matplotlib\\backends\\web_backend\\jquery-ui-1.12.1\n",
            "      copying lib\\matplotlib\\mpl-data\\images\\home.gif -> build\\lib.win-amd64-3.8\\matplotlib\\mpl-data\\images\n",
            "      copying lib\\matplotlib\\mpl-data\\images\\help.pdf -> build\\lib.win-amd64-3.8\\matplotlib\\mpl-data\\images\n",
            "      copying lib\\matplotlib\\mpl-data\\images\\home.svg -> build\\lib.win-amd64-3.8\\matplotlib\\mpl-data\\images\n",
            "      copying lib\\matplotlib\\mpl-data\\images\\qt4_editor_options.pdf -> build\\lib.win-amd64-3.8\\matplotlib\\mpl-data\\images\n",
            "      copying lib\\matplotlib\\mpl-data\\fonts\\afm\\pagdo8a.afm -> build\\lib.win-amd64-3.8\\matplotlib\\mpl-data\\fonts\\afm\n",
            "      copying lib\\matplotlib\\mpl-data\\matplotlibrc -> build\\lib.win-amd64-3.8\\matplotlib\\mpl-data\n",
            "      copying lib\\matplotlib\\mpl-data\\sample_data\\None_vs_nearest-pdf.png -> build\\lib.win-amd64-3.8\\matplotlib\\mpl-data\\sample_data\n",
            "      copying lib\\matplotlib\\backends\\web_backend\\jquery-ui-1.12.1\\jquery-ui.theme.css -> build\\lib.win-amd64-3.8\\matplotlib\\backends\\web_backend\\jquery-ui-1.12.1\n",
            "      copying lib\\matplotlib\\mpl-data\\images\\forward.svg -> build\\lib.win-amd64-3.8\\matplotlib\\mpl-data\\images\n",
            "      copying lib\\matplotlib\\mpl-data\\images\\zoom_to_rect.gif -> build\\lib.win-amd64-3.8\\matplotlib\\mpl-data\\images\n",
            "      copying lib\\matplotlib\\mpl-data\\fonts\\afm\\pncb8a.afm -> build\\lib.win-amd64-3.8\\matplotlib\\mpl-data\\fonts\\afm\n",
            "      copying lib\\matplotlib\\mpl-data\\sample_data\\aapl.npz -> build\\lib.win-amd64-3.8\\matplotlib\\mpl-data\\sample_data\n",
            "      copying lib\\matplotlib\\mpl-data\\stylelib\\seaborn-darkgrid.mplstyle -> build\\lib.win-amd64-3.8\\matplotlib\\mpl-data\\stylelib\n",
            "      copying lib\\matplotlib\\mpl-data\\images\\move_large.gif -> build\\lib.win-amd64-3.8\\matplotlib\\mpl-data\\images\n",
            "      copying lib\\matplotlib\\mpl-data\\fonts\\afm\\pcrb8a.afm -> build\\lib.win-amd64-3.8\\matplotlib\\mpl-data\\fonts\\afm\n",
            "      copying lib\\matplotlib\\mpl-data\\stylelib\\seaborn-dark-palette.mplstyle -> build\\lib.win-amd64-3.8\\matplotlib\\mpl-data\\stylelib\n",
            "      copying lib\\matplotlib\\mpl-data\\fonts\\afm\\ptmb8a.afm -> build\\lib.win-amd64-3.8\\matplotlib\\mpl-data\\fonts\\afm\n",
            "      copying lib\\matplotlib\\mpl-data\\stylelib\\grayscale.mplstyle -> build\\lib.win-amd64-3.8\\matplotlib\\mpl-data\\stylelib\n",
            "      copying lib\\matplotlib\\mpl-data\\fonts\\afm\\pplb8a.afm -> build\\lib.win-amd64-3.8\\matplotlib\\mpl-data\\fonts\\afm\n",
            "      copying lib\\matplotlib\\mpl-data\\images\\zoom_to_rect_large.png -> build\\lib.win-amd64-3.8\\matplotlib\\mpl-data\\images\n",
            "      copying lib\\matplotlib\\mpl-data\\images\\qt4_editor_options.svg -> build\\lib.win-amd64-3.8\\matplotlib\\mpl-data\\images\n",
            "      copying lib\\matplotlib\\mpl-data\\images\\help.ppm -> build\\lib.win-amd64-3.8\\matplotlib\\mpl-data\\images\n",
            "      copying lib\\matplotlib\\mpl-data\\sample_data\\grace_hopper.png -> build\\lib.win-amd64-3.8\\matplotlib\\mpl-data\\sample_data\n",
            "      copying lib\\matplotlib\\mpl-data\\images\\move.svg -> build\\lib.win-amd64-3.8\\matplotlib\\mpl-data\\images\n",
            "      copying lib\\matplotlib\\mpl-data\\fonts\\ttf\\DejaVuSerif-BoldItalic.ttf -> build\\lib.win-amd64-3.8\\matplotlib\\mpl-data\\fonts\\ttf\n",
            "      copying lib\\matplotlib\\mpl-data\\fonts\\afm\\pplr8a.afm -> build\\lib.win-amd64-3.8\\matplotlib\\mpl-data\\fonts\\afm\n",
            "      copying lib\\matplotlib\\backends\\web_backend\\all_figures.html -> build\\lib.win-amd64-3.8\\matplotlib\\backends\\web_backend\n",
            "      copying lib\\matplotlib\\mpl-data\\images\\help_large.png -> build\\lib.win-amd64-3.8\\matplotlib\\mpl-data\\images\n",
            "      copying lib\\matplotlib\\mpl-data\\stylelib\\seaborn-bright.mplstyle -> build\\lib.win-amd64-3.8\\matplotlib\\mpl-data\\stylelib\n",
            "      copying lib\\matplotlib\\backends\\web_backend\\css\\fbm.css -> build\\lib.win-amd64-3.8\\matplotlib\\backends\\web_backend\\css\n",
            "      copying lib\\matplotlib\\mpl-data\\fonts\\ttf\\STIXSizTwoSymBol.ttf -> build\\lib.win-amd64-3.8\\matplotlib\\mpl-data\\fonts\\ttf\n",
            "      copying lib\\matplotlib\\mpl-data\\fonts\\ttf\\cmb10.ttf -> build\\lib.win-amd64-3.8\\matplotlib\\mpl-data\\fonts\\ttf\n",
            "      copying lib\\matplotlib\\mpl-data\\fonts\\afm\\cmr10.afm -> build\\lib.win-amd64-3.8\\matplotlib\\mpl-data\\fonts\\afm\n",
            "      copying lib\\matplotlib\\mpl-data\\fonts\\ttf\\STIXGeneralItalic.ttf -> build\\lib.win-amd64-3.8\\matplotlib\\mpl-data\\fonts\\ttf\n",
            "      copying lib\\matplotlib\\mpl-data\\fonts\\ttf\\STIXNonUniBol.ttf -> build\\lib.win-amd64-3.8\\matplotlib\\mpl-data\\fonts\\ttf\n",
            "      copying lib\\matplotlib\\mpl-data\\fonts\\pdfcorefonts\\Courier-BoldOblique.afm -> build\\lib.win-amd64-3.8\\matplotlib\\mpl-data\\fonts\\pdfcorefonts\n",
            "      copying lib\\matplotlib\\mpl-data\\images\\move.pdf -> build\\lib.win-amd64-3.8\\matplotlib\\mpl-data\\images\n",
            "      copying lib\\matplotlib\\mpl-data\\fonts\\afm\\pagko8a.afm -> build\\lib.win-amd64-3.8\\matplotlib\\mpl-data\\fonts\\afm\n",
            "      copying lib\\matplotlib\\backends\\web_backend\\jquery-ui-1.12.1\\jquery-ui.js -> build\\lib.win-amd64-3.8\\matplotlib\\backends\\web_backend\\jquery-ui-1.12.1\n",
            "      copying lib\\matplotlib\\mpl-data\\images\\subplots.svg -> build\\lib.win-amd64-3.8\\matplotlib\\mpl-data\\images\n",
            "      copying lib\\matplotlib\\backends\\web_backend\\single_figure.html -> build\\lib.win-amd64-3.8\\matplotlib\\backends\\web_backend\n",
            "      copying lib\\matplotlib\\mpl-data\\fonts\\afm\\pbkd8a.afm -> build\\lib.win-amd64-3.8\\matplotlib\\mpl-data\\fonts\\afm\n",
            "      copying lib\\matplotlib\\mpl-data\\fonts\\pdfcorefonts\\Helvetica-Bold.afm -> build\\lib.win-amd64-3.8\\matplotlib\\mpl-data\\fonts\\pdfcorefonts\n",
            "      copying lib\\matplotlib\\mpl-data\\images\\forward_large.gif -> build\\lib.win-amd64-3.8\\matplotlib\\mpl-data\\images\n",
            "      copying lib\\matplotlib\\mpl-data\\images\\filesave_large.png -> build\\lib.win-amd64-3.8\\matplotlib\\mpl-data\\images\n",
            "      copying lib\\matplotlib\\backends\\web_backend\\nbagg_uat.ipynb -> build\\lib.win-amd64-3.8\\matplotlib\\backends\\web_backend\n",
            "      copying lib\\matplotlib\\mpl-data\\fonts\\afm\\phvr8a.afm -> build\\lib.win-amd64-3.8\\matplotlib\\mpl-data\\fonts\\afm\n",
            "      copying lib\\matplotlib\\mpl-data\\fonts\\afm\\ptmr8a.afm -> build\\lib.win-amd64-3.8\\matplotlib\\mpl-data\\fonts\\afm\n",
            "      copying lib\\matplotlib\\backends\\web_backend\\js\\mpl_tornado.js -> build\\lib.win-amd64-3.8\\matplotlib\\backends\\web_backend\\js\n",
            "      copying lib\\matplotlib\\mpl-data\\fonts\\pdfcorefonts\\Courier-Bold.afm -> build\\lib.win-amd64-3.8\\matplotlib\\mpl-data\\fonts\\pdfcorefonts\n",
            "      copying lib\\matplotlib\\mpl-data\\fonts\\afm\\cmsy10.afm -> build\\lib.win-amd64-3.8\\matplotlib\\mpl-data\\fonts\\afm\n",
            "      copying lib\\matplotlib\\mpl-data\\images\\subplots.png -> build\\lib.win-amd64-3.8\\matplotlib\\mpl-data\\images\n",
            "      copying lib\\matplotlib\\mpl-data\\images\\zoom_to_rect_large.gif -> build\\lib.win-amd64-3.8\\matplotlib\\mpl-data\\images\n",
            "      copying lib\\matplotlib\\backends\\web_backend\\jquery-ui-1.12.1\\images\\ui-icons_444444_256x240.png -> build\\lib.win-amd64-3.8\\matplotlib\\backends\\web_backend\\jquery-ui-1.12.1\\images\n",
            "      copying lib\\matplotlib\\mpl-data\\stylelib\\dark_background.mplstyle -> build\\lib.win-amd64-3.8\\matplotlib\\mpl-data\\stylelib\n",
            "      copying lib\\matplotlib\\backends\\web_backend\\jquery-ui-1.12.1\\images\\ui-icons_555555_256x240.png -> build\\lib.win-amd64-3.8\\matplotlib\\backends\\web_backend\\jquery-ui-1.12.1\\images\n",
            "      copying lib\\matplotlib\\mpl-data\\fonts\\afm\\putbi8a.afm -> build\\lib.win-amd64-3.8\\matplotlib\\mpl-data\\fonts\\afm\n",
            "      copying lib\\matplotlib\\backends\\web_backend\\jquery-ui-1.12.1\\jquery-ui.theme.min.css -> build\\lib.win-amd64-3.8\\matplotlib\\backends\\web_backend\\jquery-ui-1.12.1\n",
            "      copying lib\\matplotlib\\mpl-data\\images\\forward_large.png -> build\\lib.win-amd64-3.8\\matplotlib\\mpl-data\\images\n",
            "      creating build\\lib.win-amd64-3.8\\matplotlib\\mpl-data\\sample_data\\axes_grid\n",
            "      copying lib\\matplotlib\\mpl-data\\sample_data\\axes_grid\\bivariate_normal.npy -> build\\lib.win-amd64-3.8\\matplotlib\\mpl-data\\sample_data\\axes_grid\n",
            "      copying lib\\matplotlib\\mpl-data\\fonts\\afm\\pncbi8a.afm -> build\\lib.win-amd64-3.8\\matplotlib\\mpl-data\\fonts\\afm\n",
            "      copying lib\\matplotlib\\mpl-data\\images\\forward.gif -> build\\lib.win-amd64-3.8\\matplotlib\\mpl-data\\images\n",
            "      copying lib\\matplotlib\\mpl-data\\fonts\\ttf\\DejaVuSerif-Italic.ttf -> build\\lib.win-amd64-3.8\\matplotlib\\mpl-data\\fonts\\ttf\n",
            "      copying lib\\matplotlib\\mpl-data\\images\\back.gif -> build\\lib.win-amd64-3.8\\matplotlib\\mpl-data\\images\n",
            "      copying lib\\matplotlib\\mpl-data\\fonts\\afm\\cmtt10.afm -> build\\lib.win-amd64-3.8\\matplotlib\\mpl-data\\fonts\\afm\n",
            "      copying lib\\matplotlib\\mpl-data\\fonts\\ttf\\STIXSizTwoSymReg.ttf -> build\\lib.win-amd64-3.8\\matplotlib\\mpl-data\\fonts\\ttf\n",
            "      copying lib\\matplotlib\\backends\\web_backend\\css\\boilerplate.css -> build\\lib.win-amd64-3.8\\matplotlib\\backends\\web_backend\\css\n",
            "      copying lib\\matplotlib\\mpl-data\\stylelib\\seaborn-white.mplstyle -> build\\lib.win-amd64-3.8\\matplotlib\\mpl-data\\stylelib\n",
            "      copying lib\\matplotlib\\mpl-data\\fonts\\afm\\pbkli8a.afm -> build\\lib.win-amd64-3.8\\matplotlib\\mpl-data\\fonts\\afm\n",
            "      copying lib\\matplotlib\\mpl-data\\fonts\\ttf\\cmtt10.ttf -> build\\lib.win-amd64-3.8\\matplotlib\\mpl-data\\fonts\\ttf\n",
            "      copying lib\\matplotlib\\mpl-data\\fonts\\ttf\\DejaVuSansMono-Bold.ttf -> build\\lib.win-amd64-3.8\\matplotlib\\mpl-data\\fonts\\ttf\n",
            "      copying lib\\matplotlib\\mpl-data\\sample_data\\logo2.png -> build\\lib.win-amd64-3.8\\matplotlib\\mpl-data\\sample_data\n",
            "      copying lib\\matplotlib\\mpl-data\\sample_data\\membrane.dat -> build\\lib.win-amd64-3.8\\matplotlib\\mpl-data\\sample_data\n",
            "      copying lib\\matplotlib\\backends\\web_backend\\js\\mpl.js -> build\\lib.win-amd64-3.8\\matplotlib\\backends\\web_backend\\js\n",
            "      copying lib\\matplotlib\\mpl-data\\fonts\\afm\\pncr8a.afm -> build\\lib.win-amd64-3.8\\matplotlib\\mpl-data\\fonts\\afm\n",
            "      copying lib\\matplotlib\\mpl-data\\images\\hand.gif -> build\\lib.win-amd64-3.8\\matplotlib\\mpl-data\\images\n",
            "      copying lib\\matplotlib\\mpl-data\\stylelib\\classic.mplstyle -> build\\lib.win-amd64-3.8\\matplotlib\\mpl-data\\stylelib\n",
            "      copying lib\\matplotlib\\mpl-data\\stylelib\\fast.mplstyle -> build\\lib.win-amd64-3.8\\matplotlib\\mpl-data\\stylelib\n",
            "      copying lib\\matplotlib\\mpl-data\\sample_data\\grace_hopper.jpg -> build\\lib.win-amd64-3.8\\matplotlib\\mpl-data\\sample_data\n",
            "      copying lib\\matplotlib\\mpl-data\\sample_data\\embedding_in_wx3.xrc -> build\\lib.win-amd64-3.8\\matplotlib\\mpl-data\\sample_data\n",
            "      copying lib\\matplotlib\\mpl-data\\images\\filesave.svg -> build\\lib.win-amd64-3.8\\matplotlib\\mpl-data\\images\n",
            "      copying lib\\matplotlib\\mpl-data\\fonts\\ttf\\STIXNonUniBolIta.ttf -> build\\lib.win-amd64-3.8\\matplotlib\\mpl-data\\fonts\\ttf\n",
            "      copying lib\\matplotlib\\mpl-data\\stylelib\\seaborn-paper.mplstyle -> build\\lib.win-amd64-3.8\\matplotlib\\mpl-data\\stylelib\n",
            "      copying lib\\matplotlib\\mpl-data\\fonts\\pdfcorefonts\\ZapfDingbats.afm -> build\\lib.win-amd64-3.8\\matplotlib\\mpl-data\\fonts\\pdfcorefonts\n",
            "      copying lib\\matplotlib\\mpl-data\\fonts\\afm\\phvb8an.afm -> build\\lib.win-amd64-3.8\\matplotlib\\mpl-data\\fonts\\afm\n",
            "      copying lib\\matplotlib\\mpl-data\\images\\zoom_to_rect.svg -> build\\lib.win-amd64-3.8\\matplotlib\\mpl-data\\images\n",
            "      copying lib\\matplotlib\\mpl-data\\images\\help_large.ppm -> build\\lib.win-amd64-3.8\\matplotlib\\mpl-data\\images\n",
            "      copying lib\\matplotlib\\mpl-data\\fonts\\ttf\\cmss10.ttf -> build\\lib.win-amd64-3.8\\matplotlib\\mpl-data\\fonts\\ttf\n",
            "      copying lib\\matplotlib\\mpl-data\\images\\filesave.gif -> build\\lib.win-amd64-3.8\\matplotlib\\mpl-data\\images\n",
            "      copying lib\\matplotlib\\mpl-data\\fonts\\ttf\\STIXSizFourSymBol.ttf -> build\\lib.win-amd64-3.8\\matplotlib\\mpl-data\\fonts\\ttf\n",
            "      copying lib\\matplotlib\\mpl-data\\images\\matplotlib.svg -> build\\lib.win-amd64-3.8\\matplotlib\\mpl-data\\images\n",
            "      copying lib\\matplotlib\\mpl-data\\fonts\\afm\\pplri8a.afm -> build\\lib.win-amd64-3.8\\matplotlib\\mpl-data\\fonts\\afm\n",
            "      copying lib\\matplotlib\\mpl-data\\sample_data\\ada.png -> build\\lib.win-amd64-3.8\\matplotlib\\mpl-data\\sample_data\n",
            "      copying lib\\matplotlib\\mpl-data\\sample_data\\percent_bachelors_degrees_women_usa.csv -> build\\lib.win-amd64-3.8\\matplotlib\\mpl-data\\sample_data\n",
            "      copying lib\\matplotlib\\mpl-data\\fonts\\ttf\\DejaVuSansMono-BoldOblique.ttf -> build\\lib.win-amd64-3.8\\matplotlib\\mpl-data\\fonts\\ttf\n",
            "      copying lib\\matplotlib\\mpl-data\\images\\help.png -> build\\lib.win-amd64-3.8\\matplotlib\\mpl-data\\images\n",
            "      copying lib\\matplotlib\\mpl-data\\images\\matplotlib.ppm -> build\\lib.win-amd64-3.8\\matplotlib\\mpl-data\\images\n",
            "      copying lib\\matplotlib\\mpl-data\\images\\home_large.gif -> build\\lib.win-amd64-3.8\\matplotlib\\mpl-data\\images\n",
            "      copying lib\\matplotlib\\mpl-data\\images\\move.gif -> build\\lib.win-amd64-3.8\\matplotlib\\mpl-data\\images\n",
            "      copying lib\\matplotlib\\mpl-data\\fonts\\ttf\\DejaVuSerifDisplay.ttf -> build\\lib.win-amd64-3.8\\matplotlib\\mpl-data\\fonts\\ttf\n",
            "      copying lib\\matplotlib\\mpl-data\\fonts\\afm\\putri8a.afm -> build\\lib.win-amd64-3.8\\matplotlib\\mpl-data\\fonts\\afm\n",
            "      copying lib\\matplotlib\\mpl-data\\sample_data\\topobathy.npz -> build\\lib.win-amd64-3.8\\matplotlib\\mpl-data\\sample_data\n",
            "      copying lib\\matplotlib\\mpl-data\\fonts\\pdfcorefonts\\Courier-Oblique.afm -> build\\lib.win-amd64-3.8\\matplotlib\\mpl-data\\fonts\\pdfcorefonts\n",
            "      copying lib\\matplotlib\\mpl-data\\images\\help.svg -> build\\lib.win-amd64-3.8\\matplotlib\\mpl-data\\images\n",
            "      copying lib\\matplotlib\\mpl-data\\images\\qt4_editor_options.png -> build\\lib.win-amd64-3.8\\matplotlib\\mpl-data\\images\n",
            "      copying lib\\matplotlib\\mpl-data\\stylelib\\seaborn-notebook.mplstyle -> build\\lib.win-amd64-3.8\\matplotlib\\mpl-data\\stylelib\n",
            "      copying lib\\matplotlib\\mpl-data\\sample_data\\msft.csv -> build\\lib.win-amd64-3.8\\matplotlib\\mpl-data\\sample_data\n",
            "      copying lib\\matplotlib\\mpl-data\\stylelib\\seaborn-talk.mplstyle -> build\\lib.win-amd64-3.8\\matplotlib\\mpl-data\\stylelib\n",
            "      copying lib\\matplotlib\\mpl-data\\stylelib\\seaborn.mplstyle -> build\\lib.win-amd64-3.8\\matplotlib\\mpl-data\\stylelib\n",
            "      copying lib\\matplotlib\\mpl-data\\images\\forward.pdf -> build\\lib.win-amd64-3.8\\matplotlib\\mpl-data\\images\n",
            "      copying lib\\matplotlib\\mpl-data\\fonts\\afm\\ptmbi8a.afm -> build\\lib.win-amd64-3.8\\matplotlib\\mpl-data\\fonts\\afm\n",
            "      copying lib\\matplotlib\\mpl-data\\stylelib\\bmh.mplstyle -> build\\lib.win-amd64-3.8\\matplotlib\\mpl-data\\stylelib\n",
            "      copying lib\\matplotlib\\mpl-data\\fonts\\afm\\pplbi8a.afm -> build\\lib.win-amd64-3.8\\matplotlib\\mpl-data\\fonts\\afm\n",
            "      copying lib\\matplotlib\\mpl-data\\fonts\\ttf\\DejaVuSansMono-Oblique.ttf -> build\\lib.win-amd64-3.8\\matplotlib\\mpl-data\\fonts\\ttf\n",
            "      copying lib\\matplotlib\\mpl-data\\sample_data\\s1045.ima.gz -> build\\lib.win-amd64-3.8\\matplotlib\\mpl-data\\sample_data\n",
            "      UPDATING build\\lib.win-amd64-3.8\\matplotlib\\_version.py\n",
            "      set build\\lib.win-amd64-3.8\\matplotlib\\_version.py to '3.1.0'\n",
            "      running build_ext\n",
            "      building 'matplotlib.ft2font' extension\n",
            "      creating build\\temp.win-amd64-3.8\n",
            "      creating build\\temp.win-amd64-3.8\\Release\n",
            "      creating build\\temp.win-amd64-3.8\\Release\\src\n",
            "      C:\\Program Files (x86)\\Microsoft Visual Studio\\2019\\BuildTools\\VC\\Tools\\MSVC\\14.28.29333\\bin\\HostX86\\x64\\cl.exe /c /nologo /Ox /W3 /GL /DNDEBUG /MD -DFREETYPE_BUILD_TYPE=system -DPY_ARRAY_UNIQUE_SYMBOL=MPL_matplotlib_ft2font_ARRAY_API -DNPY_NO_DEPRECATED_API=NPY_1_7_API_VERSION -D__STDC_FORMAT_MACROS=1 -Iextern/agg24-svn/include -Ih:\\vafatech\\code\\sentiment-analysis\\venv\\lib\\site-packages\\numpy\\core\\include -Ih:\\vafatech\\code\\sentiment-analysis\\venv\\include -IC:\\Users\\Hamid\\AppData\\Local\\Programs\\Python\\Python38\\include -IC:\\Users\\Hamid\\AppData\\Local\\Programs\\Python\\Python38\\include \"-IC:\\Program Files (x86)\\Microsoft Visual Studio\\2019\\BuildTools\\VC\\Tools\\MSVC\\14.28.29333\\include\" \"-IC:\\Program Files (x86)\\Windows Kits\\10\\include\\10.0.18362.0\\ucrt\" \"-IC:\\Program Files (x86)\\Windows Kits\\10\\include\\10.0.18362.0\\shared\" \"-IC:\\Program Files (x86)\\Windows Kits\\10\\include\\10.0.18362.0\\um\" \"-IC:\\Program Files (x86)\\Windows Kits\\10\\include\\10.0.18362.0\\winrt\" \"-IC:\\Program Files (x86)\\Windows Kits\\10\\include\\10.0.18362.0\\cppwinrt\" /Tcsrc/checkdep_freetype2.c /Fobuild\\temp.win-amd64-3.8\\Release\\src/checkdep_freetype2.obj\n",
            "      checkdep_freetype2.c\n",
            "      src/checkdep_freetype2.c(1): fatal error C1083: Cannot open include file: 'ft2build.h': No such file or directory\n",
            "      error: command 'C:\\\\Program Files (x86)\\\\Microsoft Visual Studio\\\\2019\\\\BuildTools\\\\VC\\\\Tools\\\\MSVC\\\\14.28.29333\\\\bin\\\\HostX86\\\\x64\\\\cl.exe' failed with exit status 2\n",
            "      [end of output]\n",
            "  \n",
            "  note: This error originates from a subprocess, and is likely not a problem with pip.\n",
            "  ERROR: Failed building wheel for matplotlib\n",
            "  error: subprocess-exited-with-error\n",
            "  \n",
            "  × Running setup.py install for matplotlib did not run successfully.\n",
            "  │ exit code: 1\n",
            "  ╰─> [505 lines of output]\n",
            "      ================================================================================\n",
            "      Edit setup.cfg to change the build options\n",
            "      \n",
            "      BUILDING MATPLOTLIB\n",
            "        matplotlib: yes [3.1.0]\n",
            "            python: yes [3.8.0 (tags/v3.8.0:fa919fd, Oct 14 2019, 19:37:50) [MSC\n",
            "                        v.1916 64 bit (AMD64)]]\n",
            "          platform: yes [win32]\n",
            "      \n",
            "      OPTIONAL SUBPACKAGES\n",
            "       sample_data: yes [installing]\n",
            "             tests: no  [skipping due to configuration]\n",
            "      \n",
            "      OPTIONAL BACKEND EXTENSIONS\n",
            "               agg: yes [installing]\n",
            "             tkagg: yes [installing; run-time loading from Python Tcl/Tk]\n",
            "            macosx: no  [Mac OS-X only]\n",
            "      \n",
            "      OPTIONAL PACKAGE DATA\n",
            "              dlls: no  [skipping due to configuration]\n",
            "      \n",
            "      running install\n",
            "      running build\n",
            "      running build_py\n",
            "      creating build\n",
            "      creating build\\lib.win-amd64-3.8\n",
            "      copying lib\\pylab.py -> build\\lib.win-amd64-3.8\n",
            "      creating build\\lib.win-amd64-3.8\\matplotlib\n",
            "      copying lib\\matplotlib\\afm.py -> build\\lib.win-amd64-3.8\\matplotlib\n",
            "      copying lib\\matplotlib\\animation.py -> build\\lib.win-amd64-3.8\\matplotlib\n",
            "      copying lib\\matplotlib\\artist.py -> build\\lib.win-amd64-3.8\\matplotlib\n",
            "      copying lib\\matplotlib\\axis.py -> build\\lib.win-amd64-3.8\\matplotlib\n",
            "      copying lib\\matplotlib\\backend_bases.py -> build\\lib.win-amd64-3.8\\matplotlib\n",
            "      copying lib\\matplotlib\\backend_managers.py -> build\\lib.win-amd64-3.8\\matplotlib\n",
            "      copying lib\\matplotlib\\backend_tools.py -> build\\lib.win-amd64-3.8\\matplotlib\n",
            "      copying lib\\matplotlib\\bezier.py -> build\\lib.win-amd64-3.8\\matplotlib\n",
            "      copying lib\\matplotlib\\blocking_input.py -> build\\lib.win-amd64-3.8\\matplotlib\n",
            "      copying lib\\matplotlib\\category.py -> build\\lib.win-amd64-3.8\\matplotlib\n",
            "      copying lib\\matplotlib\\cm.py -> build\\lib.win-amd64-3.8\\matplotlib\n",
            "      copying lib\\matplotlib\\collections.py -> build\\lib.win-amd64-3.8\\matplotlib\n",
            "      copying lib\\matplotlib\\colorbar.py -> build\\lib.win-amd64-3.8\\matplotlib\n",
            "      copying lib\\matplotlib\\colors.py -> build\\lib.win-amd64-3.8\\matplotlib\n",
            "      copying lib\\matplotlib\\container.py -> build\\lib.win-amd64-3.8\\matplotlib\n",
            "      copying lib\\matplotlib\\contour.py -> build\\lib.win-amd64-3.8\\matplotlib\n",
            "      copying lib\\matplotlib\\dates.py -> build\\lib.win-amd64-3.8\\matplotlib\n",
            "      copying lib\\matplotlib\\docstring.py -> build\\lib.win-amd64-3.8\\matplotlib\n",
            "      copying lib\\matplotlib\\dviread.py -> build\\lib.win-amd64-3.8\\matplotlib\n",
            "      copying lib\\matplotlib\\figure.py -> build\\lib.win-amd64-3.8\\matplotlib\n",
            "      copying lib\\matplotlib\\fontconfig_pattern.py -> build\\lib.win-amd64-3.8\\matplotlib\n",
            "      copying lib\\matplotlib\\font_manager.py -> build\\lib.win-amd64-3.8\\matplotlib\n",
            "      copying lib\\matplotlib\\gridspec.py -> build\\lib.win-amd64-3.8\\matplotlib\n",
            "      copying lib\\matplotlib\\hatch.py -> build\\lib.win-amd64-3.8\\matplotlib\n",
            "      copying lib\\matplotlib\\image.py -> build\\lib.win-amd64-3.8\\matplotlib\n",
            "      copying lib\\matplotlib\\legend.py -> build\\lib.win-amd64-3.8\\matplotlib\n",
            "      copying lib\\matplotlib\\legend_handler.py -> build\\lib.win-amd64-3.8\\matplotlib\n",
            "      copying lib\\matplotlib\\lines.py -> build\\lib.win-amd64-3.8\\matplotlib\n",
            "      copying lib\\matplotlib\\markers.py -> build\\lib.win-amd64-3.8\\matplotlib\n",
            "      copying lib\\matplotlib\\mathtext.py -> build\\lib.win-amd64-3.8\\matplotlib\n",
            "      copying lib\\matplotlib\\mlab.py -> build\\lib.win-amd64-3.8\\matplotlib\n",
            "      copying lib\\matplotlib\\offsetbox.py -> build\\lib.win-amd64-3.8\\matplotlib\n",
            "      copying lib\\matplotlib\\patches.py -> build\\lib.win-amd64-3.8\\matplotlib\n",
            "      copying lib\\matplotlib\\path.py -> build\\lib.win-amd64-3.8\\matplotlib\n",
            "      copying lib\\matplotlib\\patheffects.py -> build\\lib.win-amd64-3.8\\matplotlib\n",
            "      copying lib\\matplotlib\\pylab.py -> build\\lib.win-amd64-3.8\\matplotlib\n",
            "      copying lib\\matplotlib\\pyplot.py -> build\\lib.win-amd64-3.8\\matplotlib\n",
            "      copying lib\\matplotlib\\quiver.py -> build\\lib.win-amd64-3.8\\matplotlib\n",
            "      copying lib\\matplotlib\\rcsetup.py -> build\\lib.win-amd64-3.8\\matplotlib\n",
            "      copying lib\\matplotlib\\sankey.py -> build\\lib.win-amd64-3.8\\matplotlib\n",
            "      copying lib\\matplotlib\\scale.py -> build\\lib.win-amd64-3.8\\matplotlib\n",
            "      copying lib\\matplotlib\\spines.py -> build\\lib.win-amd64-3.8\\matplotlib\n",
            "      copying lib\\matplotlib\\stackplot.py -> build\\lib.win-amd64-3.8\\matplotlib\n",
            "      copying lib\\matplotlib\\streamplot.py -> build\\lib.win-amd64-3.8\\matplotlib\n",
            "      copying lib\\matplotlib\\table.py -> build\\lib.win-amd64-3.8\\matplotlib\n",
            "      copying lib\\matplotlib\\texmanager.py -> build\\lib.win-amd64-3.8\\matplotlib\n",
            "      copying lib\\matplotlib\\text.py -> build\\lib.win-amd64-3.8\\matplotlib\n",
            "      copying lib\\matplotlib\\textpath.py -> build\\lib.win-amd64-3.8\\matplotlib\n",
            "      copying lib\\matplotlib\\ticker.py -> build\\lib.win-amd64-3.8\\matplotlib\n",
            "      copying lib\\matplotlib\\tight_bbox.py -> build\\lib.win-amd64-3.8\\matplotlib\n",
            "      copying lib\\matplotlib\\tight_layout.py -> build\\lib.win-amd64-3.8\\matplotlib\n",
            "      copying lib\\matplotlib\\transforms.py -> build\\lib.win-amd64-3.8\\matplotlib\n",
            "      copying lib\\matplotlib\\type1font.py -> build\\lib.win-amd64-3.8\\matplotlib\n",
            "      copying lib\\matplotlib\\units.py -> build\\lib.win-amd64-3.8\\matplotlib\n",
            "      copying lib\\matplotlib\\widgets.py -> build\\lib.win-amd64-3.8\\matplotlib\n",
            "      copying lib\\matplotlib\\_animation_data.py -> build\\lib.win-amd64-3.8\\matplotlib\n",
            "      copying lib\\matplotlib\\_cm.py -> build\\lib.win-amd64-3.8\\matplotlib\n",
            "      copying lib\\matplotlib\\_cm_listed.py -> build\\lib.win-amd64-3.8\\matplotlib\n",
            "      copying lib\\matplotlib\\_color_data.py -> build\\lib.win-amd64-3.8\\matplotlib\n",
            "      copying lib\\matplotlib\\_constrained_layout.py -> build\\lib.win-amd64-3.8\\matplotlib\n",
            "      copying lib\\matplotlib\\_layoutbox.py -> build\\lib.win-amd64-3.8\\matplotlib\n",
            "      copying lib\\matplotlib\\_mathtext_data.py -> build\\lib.win-amd64-3.8\\matplotlib\n",
            "      copying lib\\matplotlib\\_pylab_helpers.py -> build\\lib.win-amd64-3.8\\matplotlib\n",
            "      copying lib\\matplotlib\\_version.py -> build\\lib.win-amd64-3.8\\matplotlib\n",
            "      copying lib\\matplotlib\\__init__.py -> build\\lib.win-amd64-3.8\\matplotlib\n",
            "      creating build\\lib.win-amd64-3.8\\mpl_toolkits\n",
            "      copying lib\\mpl_toolkits\\__init__.py -> build\\lib.win-amd64-3.8\\mpl_toolkits\n",
            "      creating build\\lib.win-amd64-3.8\\matplotlib\\axes\n",
            "      copying lib\\matplotlib\\axes\\_axes.py -> build\\lib.win-amd64-3.8\\matplotlib\\axes\n",
            "      copying lib\\matplotlib\\axes\\_base.py -> build\\lib.win-amd64-3.8\\matplotlib\\axes\n",
            "      copying lib\\matplotlib\\axes\\_secondary_axes.py -> build\\lib.win-amd64-3.8\\matplotlib\\axes\n",
            "      copying lib\\matplotlib\\axes\\_subplots.py -> build\\lib.win-amd64-3.8\\matplotlib\\axes\n",
            "      copying lib\\matplotlib\\axes\\__init__.py -> build\\lib.win-amd64-3.8\\matplotlib\\axes\n",
            "      creating build\\lib.win-amd64-3.8\\matplotlib\\backends\n",
            "      copying lib\\matplotlib\\backends\\backend_agg.py -> build\\lib.win-amd64-3.8\\matplotlib\\backends\n",
            "      copying lib\\matplotlib\\backends\\backend_cairo.py -> build\\lib.win-amd64-3.8\\matplotlib\\backends\n",
            "      copying lib\\matplotlib\\backends\\backend_gtk3.py -> build\\lib.win-amd64-3.8\\matplotlib\\backends\n",
            "      copying lib\\matplotlib\\backends\\backend_gtk3agg.py -> build\\lib.win-amd64-3.8\\matplotlib\\backends\n",
            "      copying lib\\matplotlib\\backends\\backend_gtk3cairo.py -> build\\lib.win-amd64-3.8\\matplotlib\\backends\n",
            "      copying lib\\matplotlib\\backends\\backend_macosx.py -> build\\lib.win-amd64-3.8\\matplotlib\\backends\n",
            "      copying lib\\matplotlib\\backends\\backend_mixed.py -> build\\lib.win-amd64-3.8\\matplotlib\\backends\n",
            "      copying lib\\matplotlib\\backends\\backend_nbagg.py -> build\\lib.win-amd64-3.8\\matplotlib\\backends\n",
            "      copying lib\\matplotlib\\backends\\backend_pdf.py -> build\\lib.win-amd64-3.8\\matplotlib\\backends\n",
            "      copying lib\\matplotlib\\backends\\backend_pgf.py -> build\\lib.win-amd64-3.8\\matplotlib\\backends\n",
            "      copying lib\\matplotlib\\backends\\backend_ps.py -> build\\lib.win-amd64-3.8\\matplotlib\\backends\n",
            "      copying lib\\matplotlib\\backends\\backend_qt4.py -> build\\lib.win-amd64-3.8\\matplotlib\\backends\n",
            "      copying lib\\matplotlib\\backends\\backend_qt4agg.py -> build\\lib.win-amd64-3.8\\matplotlib\\backends\n",
            "      copying lib\\matplotlib\\backends\\backend_qt4cairo.py -> build\\lib.win-amd64-3.8\\matplotlib\\backends\n",
            "      copying lib\\matplotlib\\backends\\backend_qt5.py -> build\\lib.win-amd64-3.8\\matplotlib\\backends\n",
            "      copying lib\\matplotlib\\backends\\backend_qt5agg.py -> build\\lib.win-amd64-3.8\\matplotlib\\backends\n",
            "      copying lib\\matplotlib\\backends\\backend_qt5cairo.py -> build\\lib.win-amd64-3.8\\matplotlib\\backends\n",
            "      copying lib\\matplotlib\\backends\\backend_svg.py -> build\\lib.win-amd64-3.8\\matplotlib\\backends\n",
            "      copying lib\\matplotlib\\backends\\backend_template.py -> build\\lib.win-amd64-3.8\\matplotlib\\backends\n",
            "      copying lib\\matplotlib\\backends\\backend_tkagg.py -> build\\lib.win-amd64-3.8\\matplotlib\\backends\n",
            "      copying lib\\matplotlib\\backends\\backend_tkcairo.py -> build\\lib.win-amd64-3.8\\matplotlib\\backends\n",
            "      copying lib\\matplotlib\\backends\\backend_webagg.py -> build\\lib.win-amd64-3.8\\matplotlib\\backends\n",
            "      copying lib\\matplotlib\\backends\\backend_webagg_core.py -> build\\lib.win-amd64-3.8\\matplotlib\\backends\n",
            "      copying lib\\matplotlib\\backends\\backend_wx.py -> build\\lib.win-amd64-3.8\\matplotlib\\backends\n",
            "      copying lib\\matplotlib\\backends\\backend_wxagg.py -> build\\lib.win-amd64-3.8\\matplotlib\\backends\n",
            "      copying lib\\matplotlib\\backends\\backend_wxcairo.py -> build\\lib.win-amd64-3.8\\matplotlib\\backends\n",
            "      copying lib\\matplotlib\\backends\\qt_compat.py -> build\\lib.win-amd64-3.8\\matplotlib\\backends\n",
            "      copying lib\\matplotlib\\backends\\tkagg.py -> build\\lib.win-amd64-3.8\\matplotlib\\backends\n",
            "      copying lib\\matplotlib\\backends\\windowing.py -> build\\lib.win-amd64-3.8\\matplotlib\\backends\n",
            "      copying lib\\matplotlib\\backends\\wx_compat.py -> build\\lib.win-amd64-3.8\\matplotlib\\backends\n",
            "      copying lib\\matplotlib\\backends\\_backend_pdf_ps.py -> build\\lib.win-amd64-3.8\\matplotlib\\backends\n",
            "      copying lib\\matplotlib\\backends\\_backend_tk.py -> build\\lib.win-amd64-3.8\\matplotlib\\backends\n",
            "      copying lib\\matplotlib\\backends\\__init__.py -> build\\lib.win-amd64-3.8\\matplotlib\\backends\n",
            "      creating build\\lib.win-amd64-3.8\\matplotlib\\cbook\n",
            "      copying lib\\matplotlib\\cbook\\deprecation.py -> build\\lib.win-amd64-3.8\\matplotlib\\cbook\n",
            "      copying lib\\matplotlib\\cbook\\__init__.py -> build\\lib.win-amd64-3.8\\matplotlib\\cbook\n",
            "      creating build\\lib.win-amd64-3.8\\matplotlib\\compat\n",
            "      copying lib\\matplotlib\\compat\\subprocess.py -> build\\lib.win-amd64-3.8\\matplotlib\\compat\n",
            "      copying lib\\matplotlib\\compat\\__init__.py -> build\\lib.win-amd64-3.8\\matplotlib\\compat\n",
            "      creating build\\lib.win-amd64-3.8\\matplotlib\\projections\n",
            "      copying lib\\matplotlib\\projections\\geo.py -> build\\lib.win-amd64-3.8\\matplotlib\\projections\n",
            "      copying lib\\matplotlib\\projections\\polar.py -> build\\lib.win-amd64-3.8\\matplotlib\\projections\n",
            "      copying lib\\matplotlib\\projections\\__init__.py -> build\\lib.win-amd64-3.8\\matplotlib\\projections\n",
            "      creating build\\lib.win-amd64-3.8\\matplotlib\\sphinxext\n",
            "      copying lib\\matplotlib\\sphinxext\\mathmpl.py -> build\\lib.win-amd64-3.8\\matplotlib\\sphinxext\n",
            "      copying lib\\matplotlib\\sphinxext\\plot_directive.py -> build\\lib.win-amd64-3.8\\matplotlib\\sphinxext\n",
            "      copying lib\\matplotlib\\sphinxext\\__init__.py -> build\\lib.win-amd64-3.8\\matplotlib\\sphinxext\n",
            "      creating build\\lib.win-amd64-3.8\\matplotlib\\style\n",
            "      copying lib\\matplotlib\\style\\core.py -> build\\lib.win-amd64-3.8\\matplotlib\\style\n",
            "      copying lib\\matplotlib\\style\\__init__.py -> build\\lib.win-amd64-3.8\\matplotlib\\style\n",
            "      creating build\\lib.win-amd64-3.8\\matplotlib\\testing\n",
            "      copying lib\\matplotlib\\testing\\compare.py -> build\\lib.win-amd64-3.8\\matplotlib\\testing\n",
            "      copying lib\\matplotlib\\testing\\conftest.py -> build\\lib.win-amd64-3.8\\matplotlib\\testing\n",
            "      copying lib\\matplotlib\\testing\\decorators.py -> build\\lib.win-amd64-3.8\\matplotlib\\testing\n",
            "      copying lib\\matplotlib\\testing\\determinism.py -> build\\lib.win-amd64-3.8\\matplotlib\\testing\n",
            "      copying lib\\matplotlib\\testing\\disable_internet.py -> build\\lib.win-amd64-3.8\\matplotlib\\testing\n",
            "      copying lib\\matplotlib\\testing\\exceptions.py -> build\\lib.win-amd64-3.8\\matplotlib\\testing\n",
            "      copying lib\\matplotlib\\testing\\__init__.py -> build\\lib.win-amd64-3.8\\matplotlib\\testing\n",
            "      creating build\\lib.win-amd64-3.8\\matplotlib\\tri\n",
            "      copying lib\\matplotlib\\tri\\triangulation.py -> build\\lib.win-amd64-3.8\\matplotlib\\tri\n",
            "      copying lib\\matplotlib\\tri\\tricontour.py -> build\\lib.win-amd64-3.8\\matplotlib\\tri\n",
            "      copying lib\\matplotlib\\tri\\trifinder.py -> build\\lib.win-amd64-3.8\\matplotlib\\tri\n",
            "      copying lib\\matplotlib\\tri\\triinterpolate.py -> build\\lib.win-amd64-3.8\\matplotlib\\tri\n",
            "      copying lib\\matplotlib\\tri\\tripcolor.py -> build\\lib.win-amd64-3.8\\matplotlib\\tri\n",
            "      copying lib\\matplotlib\\tri\\triplot.py -> build\\lib.win-amd64-3.8\\matplotlib\\tri\n",
            "      copying lib\\matplotlib\\tri\\trirefine.py -> build\\lib.win-amd64-3.8\\matplotlib\\tri\n",
            "      copying lib\\matplotlib\\tri\\tritools.py -> build\\lib.win-amd64-3.8\\matplotlib\\tri\n",
            "      copying lib\\matplotlib\\tri\\__init__.py -> build\\lib.win-amd64-3.8\\matplotlib\\tri\n",
            "      creating build\\lib.win-amd64-3.8\\matplotlib\\backends\\qt_editor\n",
            "      copying lib\\matplotlib\\backends\\qt_editor\\figureoptions.py -> build\\lib.win-amd64-3.8\\matplotlib\\backends\\qt_editor\n",
            "      copying lib\\matplotlib\\backends\\qt_editor\\formlayout.py -> build\\lib.win-amd64-3.8\\matplotlib\\backends\\qt_editor\n",
            "      copying lib\\matplotlib\\backends\\qt_editor\\formsubplottool.py -> build\\lib.win-amd64-3.8\\matplotlib\\backends\\qt_editor\n",
            "      copying lib\\matplotlib\\backends\\qt_editor\\_formlayout.py -> build\\lib.win-amd64-3.8\\matplotlib\\backends\\qt_editor\n",
            "      copying lib\\matplotlib\\backends\\qt_editor\\__init__.py -> build\\lib.win-amd64-3.8\\matplotlib\\backends\\qt_editor\n",
            "      creating build\\lib.win-amd64-3.8\\matplotlib\\testing\\jpl_units\n",
            "      copying lib\\matplotlib\\testing\\jpl_units\\Duration.py -> build\\lib.win-amd64-3.8\\matplotlib\\testing\\jpl_units\n",
            "      copying lib\\matplotlib\\testing\\jpl_units\\Epoch.py -> build\\lib.win-amd64-3.8\\matplotlib\\testing\\jpl_units\n",
            "      copying lib\\matplotlib\\testing\\jpl_units\\EpochConverter.py -> build\\lib.win-amd64-3.8\\matplotlib\\testing\\jpl_units\n",
            "      copying lib\\matplotlib\\testing\\jpl_units\\StrConverter.py -> build\\lib.win-amd64-3.8\\matplotlib\\testing\\jpl_units\n",
            "      copying lib\\matplotlib\\testing\\jpl_units\\UnitDbl.py -> build\\lib.win-amd64-3.8\\matplotlib\\testing\\jpl_units\n",
            "      copying lib\\matplotlib\\testing\\jpl_units\\UnitDblConverter.py -> build\\lib.win-amd64-3.8\\matplotlib\\testing\\jpl_units\n",
            "      copying lib\\matplotlib\\testing\\jpl_units\\UnitDblFormatter.py -> build\\lib.win-amd64-3.8\\matplotlib\\testing\\jpl_units\n",
            "      copying lib\\matplotlib\\testing\\jpl_units\\__init__.py -> build\\lib.win-amd64-3.8\\matplotlib\\testing\\jpl_units\n",
            "      creating build\\lib.win-amd64-3.8\\mpl_toolkits\\axes_grid\n",
            "      copying lib\\mpl_toolkits\\axes_grid\\anchored_artists.py -> build\\lib.win-amd64-3.8\\mpl_toolkits\\axes_grid\n",
            "      copying lib\\mpl_toolkits\\axes_grid\\angle_helper.py -> build\\lib.win-amd64-3.8\\mpl_toolkits\\axes_grid\n",
            "      copying lib\\mpl_toolkits\\axes_grid\\axes_divider.py -> build\\lib.win-amd64-3.8\\mpl_toolkits\\axes_grid\n",
            "      copying lib\\mpl_toolkits\\axes_grid\\axes_grid.py -> build\\lib.win-amd64-3.8\\mpl_toolkits\\axes_grid\n",
            "      copying lib\\mpl_toolkits\\axes_grid\\axes_rgb.py -> build\\lib.win-amd64-3.8\\mpl_toolkits\\axes_grid\n",
            "      copying lib\\mpl_toolkits\\axes_grid\\axes_size.py -> build\\lib.win-amd64-3.8\\mpl_toolkits\\axes_grid\n",
            "      copying lib\\mpl_toolkits\\axes_grid\\axislines.py -> build\\lib.win-amd64-3.8\\mpl_toolkits\\axes_grid\n",
            "      copying lib\\mpl_toolkits\\axes_grid\\axisline_style.py -> build\\lib.win-amd64-3.8\\mpl_toolkits\\axes_grid\n",
            "      copying lib\\mpl_toolkits\\axes_grid\\axis_artist.py -> build\\lib.win-amd64-3.8\\mpl_toolkits\\axes_grid\n",
            "      copying lib\\mpl_toolkits\\axes_grid\\clip_path.py -> build\\lib.win-amd64-3.8\\mpl_toolkits\\axes_grid\n",
            "      copying lib\\mpl_toolkits\\axes_grid\\colorbar.py -> build\\lib.win-amd64-3.8\\mpl_toolkits\\axes_grid\n",
            "      copying lib\\mpl_toolkits\\axes_grid\\floating_axes.py -> build\\lib.win-amd64-3.8\\mpl_toolkits\\axes_grid\n",
            "      copying lib\\mpl_toolkits\\axes_grid\\grid_finder.py -> build\\lib.win-amd64-3.8\\mpl_toolkits\\axes_grid\n",
            "      copying lib\\mpl_toolkits\\axes_grid\\grid_helper_curvelinear.py -> build\\lib.win-amd64-3.8\\mpl_toolkits\\axes_grid\n",
            "      copying lib\\mpl_toolkits\\axes_grid\\inset_locator.py -> build\\lib.win-amd64-3.8\\mpl_toolkits\\axes_grid\n",
            "      copying lib\\mpl_toolkits\\axes_grid\\parasite_axes.py -> build\\lib.win-amd64-3.8\\mpl_toolkits\\axes_grid\n",
            "      copying lib\\mpl_toolkits\\axes_grid\\__init__.py -> build\\lib.win-amd64-3.8\\mpl_toolkits\\axes_grid\n",
            "      creating build\\lib.win-amd64-3.8\\mpl_toolkits\\axes_grid1\n",
            "      copying lib\\mpl_toolkits\\axes_grid1\\anchored_artists.py -> build\\lib.win-amd64-3.8\\mpl_toolkits\\axes_grid1\n",
            "      copying lib\\mpl_toolkits\\axes_grid1\\axes_divider.py -> build\\lib.win-amd64-3.8\\mpl_toolkits\\axes_grid1\n",
            "      copying lib\\mpl_toolkits\\axes_grid1\\axes_grid.py -> build\\lib.win-amd64-3.8\\mpl_toolkits\\axes_grid1\n",
            "      copying lib\\mpl_toolkits\\axes_grid1\\axes_rgb.py -> build\\lib.win-amd64-3.8\\mpl_toolkits\\axes_grid1\n",
            "      copying lib\\mpl_toolkits\\axes_grid1\\axes_size.py -> build\\lib.win-amd64-3.8\\mpl_toolkits\\axes_grid1\n",
            "      copying lib\\mpl_toolkits\\axes_grid1\\colorbar.py -> build\\lib.win-amd64-3.8\\mpl_toolkits\\axes_grid1\n",
            "      copying lib\\mpl_toolkits\\axes_grid1\\inset_locator.py -> build\\lib.win-amd64-3.8\\mpl_toolkits\\axes_grid1\n",
            "      copying lib\\mpl_toolkits\\axes_grid1\\mpl_axes.py -> build\\lib.win-amd64-3.8\\mpl_toolkits\\axes_grid1\n",
            "      copying lib\\mpl_toolkits\\axes_grid1\\parasite_axes.py -> build\\lib.win-amd64-3.8\\mpl_toolkits\\axes_grid1\n",
            "      copying lib\\mpl_toolkits\\axes_grid1\\__init__.py -> build\\lib.win-amd64-3.8\\mpl_toolkits\\axes_grid1\n",
            "      creating build\\lib.win-amd64-3.8\\mpl_toolkits\\axisartist\n",
            "      copying lib\\mpl_toolkits\\axisartist\\angle_helper.py -> build\\lib.win-amd64-3.8\\mpl_toolkits\\axisartist\n",
            "      copying lib\\mpl_toolkits\\axisartist\\axes_divider.py -> build\\lib.win-amd64-3.8\\mpl_toolkits\\axisartist\n",
            "      copying lib\\mpl_toolkits\\axisartist\\axes_grid.py -> build\\lib.win-amd64-3.8\\mpl_toolkits\\axisartist\n",
            "      copying lib\\mpl_toolkits\\axisartist\\axes_rgb.py -> build\\lib.win-amd64-3.8\\mpl_toolkits\\axisartist\n",
            "      copying lib\\mpl_toolkits\\axisartist\\axislines.py -> build\\lib.win-amd64-3.8\\mpl_toolkits\\axisartist\n",
            "      copying lib\\mpl_toolkits\\axisartist\\axisline_style.py -> build\\lib.win-amd64-3.8\\mpl_toolkits\\axisartist\n",
            "      copying lib\\mpl_toolkits\\axisartist\\axis_artist.py -> build\\lib.win-amd64-3.8\\mpl_toolkits\\axisartist\n",
            "      copying lib\\mpl_toolkits\\axisartist\\clip_path.py -> build\\lib.win-amd64-3.8\\mpl_toolkits\\axisartist\n",
            "      copying lib\\mpl_toolkits\\axisartist\\floating_axes.py -> build\\lib.win-amd64-3.8\\mpl_toolkits\\axisartist\n",
            "      copying lib\\mpl_toolkits\\axisartist\\grid_finder.py -> build\\lib.win-amd64-3.8\\mpl_toolkits\\axisartist\n",
            "      copying lib\\mpl_toolkits\\axisartist\\grid_helper_curvelinear.py -> build\\lib.win-amd64-3.8\\mpl_toolkits\\axisartist\n",
            "      copying lib\\mpl_toolkits\\axisartist\\parasite_axes.py -> build\\lib.win-amd64-3.8\\mpl_toolkits\\axisartist\n",
            "      copying lib\\mpl_toolkits\\axisartist\\__init__.py -> build\\lib.win-amd64-3.8\\mpl_toolkits\\axisartist\n",
            "      creating build\\lib.win-amd64-3.8\\mpl_toolkits\\mplot3d\n",
            "      copying lib\\mpl_toolkits\\mplot3d\\art3d.py -> build\\lib.win-amd64-3.8\\mpl_toolkits\\mplot3d\n",
            "      copying lib\\mpl_toolkits\\mplot3d\\axes3d.py -> build\\lib.win-amd64-3.8\\mpl_toolkits\\mplot3d\n",
            "      copying lib\\mpl_toolkits\\mplot3d\\axis3d.py -> build\\lib.win-amd64-3.8\\mpl_toolkits\\mplot3d\n",
            "      copying lib\\mpl_toolkits\\mplot3d\\proj3d.py -> build\\lib.win-amd64-3.8\\mpl_toolkits\\mplot3d\n",
            "      copying lib\\mpl_toolkits\\mplot3d\\__init__.py -> build\\lib.win-amd64-3.8\\mpl_toolkits\\mplot3d\n",
            "      creating build\\lib.win-amd64-3.8\\matplotlib\\mpl-data\n",
            "      creating build\\lib.win-amd64-3.8\\matplotlib\\mpl-data\\stylelib\n",
            "      copying lib\\matplotlib\\mpl-data\\stylelib\\seaborn-deep.mplstyle -> build\\lib.win-amd64-3.8\\matplotlib\\mpl-data\\stylelib\n",
            "      creating build\\lib.win-amd64-3.8\\matplotlib\\mpl-data\\images\n",
            "      copying lib\\matplotlib\\mpl-data\\images\\home.svg -> build\\lib.win-amd64-3.8\\matplotlib\\mpl-data\\images\n",
            "      creating build\\lib.win-amd64-3.8\\matplotlib\\mpl-data\\fonts\n",
            "      creating build\\lib.win-amd64-3.8\\matplotlib\\mpl-data\\fonts\\pdfcorefonts\n",
            "      copying lib\\matplotlib\\mpl-data\\fonts\\pdfcorefonts\\Times-BoldItalic.afm -> build\\lib.win-amd64-3.8\\matplotlib\\mpl-data\\fonts\\pdfcorefonts\n",
            "      creating build\\lib.win-amd64-3.8\\matplotlib\\backends\\web_backend\n",
            "      creating build\\lib.win-amd64-3.8\\matplotlib\\backends\\web_backend\\css\n",
            "      copying lib\\matplotlib\\backends\\web_backend\\css\\boilerplate.css -> build\\lib.win-amd64-3.8\\matplotlib\\backends\\web_backend\\css\n",
            "      creating build\\lib.win-amd64-3.8\\matplotlib\\backends\\web_backend\\jquery-ui-1.12.1\n",
            "      creating build\\lib.win-amd64-3.8\\matplotlib\\backends\\web_backend\\jquery-ui-1.12.1\\external\n",
            "      creating build\\lib.win-amd64-3.8\\matplotlib\\backends\\web_backend\\jquery-ui-1.12.1\\external\\jquery\n",
            "      copying lib\\matplotlib\\backends\\web_backend\\jquery-ui-1.12.1\\external\\jquery\\jquery.js -> build\\lib.win-amd64-3.8\\matplotlib\\backends\\web_backend\\jquery-ui-1.12.1\\external\\jquery\n",
            "      copying lib\\matplotlib\\mpl-data\\stylelib\\bmh.mplstyle -> build\\lib.win-amd64-3.8\\matplotlib\\mpl-data\\stylelib\n",
            "      copying lib\\matplotlib\\mpl-data\\stylelib\\seaborn-bright.mplstyle -> build\\lib.win-amd64-3.8\\matplotlib\\mpl-data\\stylelib\n",
            "      creating build\\lib.win-amd64-3.8\\matplotlib\\mpl-data\\fonts\\ttf\n",
            "      copying lib\\matplotlib\\mpl-data\\fonts\\ttf\\cmtt10.ttf -> build\\lib.win-amd64-3.8\\matplotlib\\mpl-data\\fonts\\ttf\n",
            "      copying lib\\matplotlib\\backends\\web_backend\\jquery-ui-1.12.1\\jquery-ui.js -> build\\lib.win-amd64-3.8\\matplotlib\\backends\\web_backend\\jquery-ui-1.12.1\n",
            "      creating build\\lib.win-amd64-3.8\\matplotlib\\backends\\web_backend\\jquery-ui-1.12.1\\images\n",
            "      copying lib\\matplotlib\\backends\\web_backend\\jquery-ui-1.12.1\\images\\ui-icons_444444_256x240.png -> build\\lib.win-amd64-3.8\\matplotlib\\backends\\web_backend\\jquery-ui-1.12.1\\images\n",
            "      creating build\\lib.win-amd64-3.8\\matplotlib\\mpl-data\\fonts\\afm\n",
            "      copying lib\\matplotlib\\mpl-data\\fonts\\afm\\pagd8a.afm -> build\\lib.win-amd64-3.8\\matplotlib\\mpl-data\\fonts\\afm\n",
            "      copying lib\\matplotlib\\mpl-data\\fonts\\afm\\phvbo8a.afm -> build\\lib.win-amd64-3.8\\matplotlib\\mpl-data\\fonts\\afm\n",
            "      copying lib\\matplotlib\\mpl-data\\stylelib\\seaborn-dark-palette.mplstyle -> build\\lib.win-amd64-3.8\\matplotlib\\mpl-data\\stylelib\n",
            "      copying lib\\matplotlib\\mpl-data\\images\\back.pdf -> build\\lib.win-amd64-3.8\\matplotlib\\mpl-data\\images\n",
            "      copying lib\\matplotlib\\mpl-data\\fonts\\afm\\pbkli8a.afm -> build\\lib.win-amd64-3.8\\matplotlib\\mpl-data\\fonts\\afm\n",
            "      copying lib\\matplotlib\\mpl-data\\images\\hand.pdf -> build\\lib.win-amd64-3.8\\matplotlib\\mpl-data\\images\n",
            "      copying lib\\matplotlib\\backends\\web_backend\\jquery-ui-1.12.1\\jquery-ui.theme.min.css -> build\\lib.win-amd64-3.8\\matplotlib\\backends\\web_backend\\jquery-ui-1.12.1\n",
            "      copying lib\\matplotlib\\mpl-data\\fonts\\ttf\\cmex10.ttf -> build\\lib.win-amd64-3.8\\matplotlib\\mpl-data\\fonts\\ttf\n",
            "      copying lib\\matplotlib\\mpl-data\\fonts\\ttf\\cmmi10.ttf -> build\\lib.win-amd64-3.8\\matplotlib\\mpl-data\\fonts\\ttf\n",
            "      copying lib\\matplotlib\\mpl-data\\images\\move.pdf -> build\\lib.win-amd64-3.8\\matplotlib\\mpl-data\\images\n",
            "      copying lib\\matplotlib\\mpl-data\\stylelib\\fast.mplstyle -> build\\lib.win-amd64-3.8\\matplotlib\\mpl-data\\stylelib\n",
            "      copying lib\\matplotlib\\mpl-data\\images\\home_large.gif -> build\\lib.win-amd64-3.8\\matplotlib\\mpl-data\\images\n",
            "      creating build\\lib.win-amd64-3.8\\matplotlib\\mpl-data\\sample_data\n",
            "      copying lib\\matplotlib\\mpl-data\\sample_data\\ct.raw.gz -> build\\lib.win-amd64-3.8\\matplotlib\\mpl-data\\sample_data\n",
            "      copying lib\\matplotlib\\mpl-data\\images\\help_large.png -> build\\lib.win-amd64-3.8\\matplotlib\\mpl-data\\images\n",
            "      copying lib\\matplotlib\\mpl-data\\images\\matplotlib.pdf -> build\\lib.win-amd64-3.8\\matplotlib\\mpl-data\\images\n",
            "      copying lib\\matplotlib\\mpl-data\\sample_data\\demodata.csv -> build\\lib.win-amd64-3.8\\matplotlib\\mpl-data\\sample_data\n",
            "      copying lib\\matplotlib\\backends\\web_backend\\jquery-ui-1.12.1\\jquery-ui.css -> build\\lib.win-amd64-3.8\\matplotlib\\backends\\web_backend\\jquery-ui-1.12.1\n",
            "      copying lib\\matplotlib\\mpl-data\\images\\matplotlib.ppm -> build\\lib.win-amd64-3.8\\matplotlib\\mpl-data\\images\n",
            "      copying lib\\matplotlib\\mpl-data\\fonts\\ttf\\STIXNonUniBolIta.ttf -> build\\lib.win-amd64-3.8\\matplotlib\\mpl-data\\fonts\\ttf\n",
            "      copying lib\\matplotlib\\mpl-data\\images\\matplotlib.png -> build\\lib.win-amd64-3.8\\matplotlib\\mpl-data\\images\n",
            "      copying lib\\matplotlib\\mpl-data\\fonts\\afm\\pbkl8a.afm -> build\\lib.win-amd64-3.8\\matplotlib\\mpl-data\\fonts\\afm\n",
            "      copying lib\\matplotlib\\mpl-data\\images\\qt4_editor_options.svg -> build\\lib.win-amd64-3.8\\matplotlib\\mpl-data\\images\n",
            "      copying lib\\matplotlib\\mpl-data\\fonts\\afm\\pcrr8a.afm -> build\\lib.win-amd64-3.8\\matplotlib\\mpl-data\\fonts\\afm\n",
            "      copying lib\\matplotlib\\mpl-data\\fonts\\afm\\psyr.afm -> build\\lib.win-amd64-3.8\\matplotlib\\mpl-data\\fonts\\afm\n",
            "      copying lib\\matplotlib\\mpl-data\\fonts\\afm\\cmtt10.afm -> build\\lib.win-amd64-3.8\\matplotlib\\mpl-data\\fonts\\afm\n",
            "      copying lib\\matplotlib\\mpl-data\\fonts\\ttf\\cmss10.ttf -> build\\lib.win-amd64-3.8\\matplotlib\\mpl-data\\fonts\\ttf\n",
            "      copying lib\\matplotlib\\mpl-data\\fonts\\ttf\\LICENSE_STIX -> build\\lib.win-amd64-3.8\\matplotlib\\mpl-data\\fonts\\ttf\n",
            "      copying lib\\matplotlib\\mpl-data\\images\\filesave.svg -> build\\lib.win-amd64-3.8\\matplotlib\\mpl-data\\images\n",
            "      copying lib\\matplotlib\\mpl-data\\images\\zoom_to_rect.svg -> build\\lib.win-amd64-3.8\\matplotlib\\mpl-data\\images\n",
            "      copying lib\\matplotlib\\mpl-data\\sample_data\\goog.npz -> build\\lib.win-amd64-3.8\\matplotlib\\mpl-data\\sample_data\n",
            "      copying lib\\matplotlib\\mpl-data\\fonts\\afm\\putr8a.afm -> build\\lib.win-amd64-3.8\\matplotlib\\mpl-data\\fonts\\afm\n",
            "      copying lib\\matplotlib\\mpl-data\\images\\move.gif -> build\\lib.win-amd64-3.8\\matplotlib\\mpl-data\\images\n",
            "      copying lib\\matplotlib\\mpl-data\\fonts\\afm\\pagk8a.afm -> build\\lib.win-amd64-3.8\\matplotlib\\mpl-data\\fonts\\afm\n",
            "      copying lib\\matplotlib\\mpl-data\\images\\back.svg -> build\\lib.win-amd64-3.8\\matplotlib\\mpl-data\\images\n",
            "      copying lib\\matplotlib\\mpl-data\\fonts\\afm\\phvb8a.afm -> build\\lib.win-amd64-3.8\\matplotlib\\mpl-data\\fonts\\afm\n",
            "      copying lib\\matplotlib\\backends\\web_backend\\jquery-ui-1.12.1\\jquery-ui.min.js -> build\\lib.win-amd64-3.8\\matplotlib\\backends\\web_backend\\jquery-ui-1.12.1\n",
            "      copying lib\\matplotlib\\mpl-data\\fonts\\ttf\\STIXGeneral.ttf -> build\\lib.win-amd64-3.8\\matplotlib\\mpl-data\\fonts\\ttf\n",
            "      copying lib\\matplotlib\\mpl-data\\fonts\\afm\\pcrb8a.afm -> build\\lib.win-amd64-3.8\\matplotlib\\mpl-data\\fonts\\afm\n",
            "      copying lib\\matplotlib\\mpl-data\\fonts\\ttf\\STIXSizThreeSymReg.ttf -> build\\lib.win-amd64-3.8\\matplotlib\\mpl-data\\fonts\\ttf\n",
            "      copying lib\\matplotlib\\backends\\web_backend\\jquery-ui-1.12.1\\jquery-ui.min.css -> build\\lib.win-amd64-3.8\\matplotlib\\backends\\web_backend\\jquery-ui-1.12.1\n",
            "      copying lib\\matplotlib\\backends\\web_backend\\jquery-ui-1.12.1\\images\\ui-icons_555555_256x240.png -> build\\lib.win-amd64-3.8\\matplotlib\\backends\\web_backend\\jquery-ui-1.12.1\\images\n",
            "      copying lib\\matplotlib\\mpl-data\\fonts\\ttf\\DejaVuSans-Oblique.ttf -> build\\lib.win-amd64-3.8\\matplotlib\\mpl-data\\fonts\\ttf\n",
            "      copying lib\\matplotlib\\mpl-data\\stylelib\\seaborn-muted.mplstyle -> build\\lib.win-amd64-3.8\\matplotlib\\mpl-data\\stylelib\n",
            "      copying lib\\matplotlib\\mpl-data\\images\\zoom_to_rect.png -> build\\lib.win-amd64-3.8\\matplotlib\\mpl-data\\images\n",
            "      copying lib\\matplotlib\\mpl-data\\sample_data\\topobathy.npz -> build\\lib.win-amd64-3.8\\matplotlib\\mpl-data\\sample_data\n",
            "      copying lib\\matplotlib\\mpl-data\\images\\subplots.svg -> build\\lib.win-amd64-3.8\\matplotlib\\mpl-data\\images\n",
            "      copying lib\\matplotlib\\mpl-data\\fonts\\pdfcorefonts\\Times-Italic.afm -> build\\lib.win-amd64-3.8\\matplotlib\\mpl-data\\fonts\\pdfcorefonts\n",
            "      copying lib\\matplotlib\\backends\\web_backend\\all_figures.html -> build\\lib.win-amd64-3.8\\matplotlib\\backends\\web_backend\n",
            "      copying lib\\matplotlib\\mpl-data\\images\\help.ppm -> build\\lib.win-amd64-3.8\\matplotlib\\mpl-data\\images\n",
            "      copying lib\\matplotlib\\mpl-data\\fonts\\pdfcorefonts\\Helvetica-Oblique.afm -> build\\lib.win-amd64-3.8\\matplotlib\\mpl-data\\fonts\\pdfcorefonts\n",
            "      copying lib\\matplotlib\\mpl-data\\fonts\\ttf\\STIXSizOneSymBol.ttf -> build\\lib.win-amd64-3.8\\matplotlib\\mpl-data\\fonts\\ttf\n",
            "      copying lib\\matplotlib\\mpl-data\\images\\back_large.gif -> build\\lib.win-amd64-3.8\\matplotlib\\mpl-data\\images\n",
            "      copying lib\\matplotlib\\mpl-data\\fonts\\afm\\putb8a.afm -> build\\lib.win-amd64-3.8\\matplotlib\\mpl-data\\fonts\\afm\n",
            "      copying lib\\matplotlib\\mpl-data\\images\\forward_large.png -> build\\lib.win-amd64-3.8\\matplotlib\\mpl-data\\images\n",
            "      copying lib\\matplotlib\\mpl-data\\images\\zoom_to_rect.gif -> build\\lib.win-amd64-3.8\\matplotlib\\mpl-data\\images\n",
            "      copying lib\\matplotlib\\mpl-data\\images\\subplots.gif -> build\\lib.win-amd64-3.8\\matplotlib\\mpl-data\\images\n",
            "      copying lib\\matplotlib\\mpl-data\\images\\subplots_large.png -> build\\lib.win-amd64-3.8\\matplotlib\\mpl-data\\images\n",
            "      copying lib\\matplotlib\\mpl-data\\fonts\\pdfcorefonts\\Times-Bold.afm -> build\\lib.win-amd64-3.8\\matplotlib\\mpl-data\\fonts\\pdfcorefonts\n",
            "      copying lib\\matplotlib\\mpl-data\\sample_data\\logo2.png -> build\\lib.win-amd64-3.8\\matplotlib\\mpl-data\\sample_data\n",
            "      copying lib\\matplotlib\\mpl-data\\fonts\\afm\\phvr8an.afm -> build\\lib.win-amd64-3.8\\matplotlib\\mpl-data\\fonts\\afm\n",
            "      copying lib\\matplotlib\\mpl-data\\fonts\\afm\\ptmr8a.afm -> build\\lib.win-amd64-3.8\\matplotlib\\mpl-data\\fonts\\afm\n",
            "      creating build\\lib.win-amd64-3.8\\matplotlib\\backends\\web_backend\\jquery\n",
            "      creating build\\lib.win-amd64-3.8\\matplotlib\\backends\\web_backend\\jquery\\js\n",
            "      copying lib\\matplotlib\\backends\\web_backend\\jquery\\js\\jquery.min.js -> build\\lib.win-amd64-3.8\\matplotlib\\backends\\web_backend\\jquery\\js\n",
            "      copying lib\\matplotlib\\mpl-data\\images\\back.gif -> build\\lib.win-amd64-3.8\\matplotlib\\mpl-data\\images\n",
            "      copying lib\\matplotlib\\mpl-data\\images\\filesave.gif -> build\\lib.win-amd64-3.8\\matplotlib\\mpl-data\\images\n",
            "      creating build\\lib.win-amd64-3.8\\matplotlib\\backends\\web_backend\\js\n",
            "      copying lib\\matplotlib\\backends\\web_backend\\js\\mpl_tornado.js -> build\\lib.win-amd64-3.8\\matplotlib\\backends\\web_backend\\js\n",
            "      copying lib\\matplotlib\\mpl-data\\fonts\\afm\\pncri8a.afm -> build\\lib.win-amd64-3.8\\matplotlib\\mpl-data\\fonts\\afm\n",
            "      copying lib\\matplotlib\\mpl-data\\sample_data\\jacksboro_fault_dem.npz -> build\\lib.win-amd64-3.8\\matplotlib\\mpl-data\\sample_data\n",
            "      copying lib\\matplotlib\\mpl-data\\stylelib\\seaborn-pastel.mplstyle -> build\\lib.win-amd64-3.8\\matplotlib\\mpl-data\\stylelib\n",
            "      copying lib\\matplotlib\\mpl-data\\fonts\\afm\\pzdr.afm -> build\\lib.win-amd64-3.8\\matplotlib\\mpl-data\\fonts\\afm\n",
            "      copying lib\\matplotlib\\mpl-data\\fonts\\afm\\cmsy10.afm -> build\\lib.win-amd64-3.8\\matplotlib\\mpl-data\\fonts\\afm\n",
            "      copying lib\\matplotlib\\mpl-data\\images\\hand_large.gif -> build\\lib.win-amd64-3.8\\matplotlib\\mpl-data\\images\n",
            "      copying lib\\matplotlib\\mpl-data\\stylelib\\seaborn-colorblind.mplstyle -> build\\lib.win-amd64-3.8\\matplotlib\\mpl-data\\stylelib\n",
            "      copying lib\\matplotlib\\mpl-data\\sample_data\\None_vs_nearest-pdf.png -> build\\lib.win-amd64-3.8\\matplotlib\\mpl-data\\sample_data\n",
            "      copying lib\\matplotlib\\mpl-data\\fonts\\afm\\phvb8an.afm -> build\\lib.win-amd64-3.8\\matplotlib\\mpl-data\\fonts\\afm\n",
            "      copying lib\\matplotlib\\mpl-data\\stylelib\\seaborn-talk.mplstyle -> build\\lib.win-amd64-3.8\\matplotlib\\mpl-data\\stylelib\n",
            "      copying lib\\matplotlib\\mpl-data\\fonts\\afm\\pbkd8a.afm -> build\\lib.win-amd64-3.8\\matplotlib\\mpl-data\\fonts\\afm\n",
            "      copying lib\\matplotlib\\mpl-data\\images\\home_large.png -> build\\lib.win-amd64-3.8\\matplotlib\\mpl-data\\images\n",
            "      copying lib\\matplotlib\\mpl-data\\fonts\\afm\\cmmi10.afm -> build\\lib.win-amd64-3.8\\matplotlib\\mpl-data\\fonts\\afm\n",
            "      copying lib\\matplotlib\\mpl-data\\fonts\\ttf\\DejaVuSerif-Bold.ttf -> build\\lib.win-amd64-3.8\\matplotlib\\mpl-data\\fonts\\ttf\n",
            "      copying lib\\matplotlib\\mpl-data\\fonts\\afm\\pncbi8a.afm -> build\\lib.win-amd64-3.8\\matplotlib\\mpl-data\\fonts\\afm\n",
            "      copying lib\\matplotlib\\mpl-data\\fonts\\ttf\\STIXNonUniIta.ttf -> build\\lib.win-amd64-3.8\\matplotlib\\mpl-data\\fonts\\ttf\n",
            "      copying lib\\matplotlib\\mpl-data\\images\\hand.gif -> build\\lib.win-amd64-3.8\\matplotlib\\mpl-data\\images\n",
            "      copying lib\\matplotlib\\backends\\web_backend\\jquery-ui-1.12.1\\jquery-ui.structure.css -> build\\lib.win-amd64-3.8\\matplotlib\\backends\\web_backend\\jquery-ui-1.12.1\n",
            "      copying lib\\matplotlib\\mpl-data\\images\\help.pdf -> build\\lib.win-amd64-3.8\\matplotlib\\mpl-data\\images\n",
            "      copying lib\\matplotlib\\mpl-data\\fonts\\afm\\phvlo8a.afm -> build\\lib.win-amd64-3.8\\matplotlib\\mpl-data\\fonts\\afm\n",
            "      copying lib\\matplotlib\\mpl-data\\matplotlibrc -> build\\lib.win-amd64-3.8\\matplotlib\\mpl-data\n",
            "      copying lib\\matplotlib\\mpl-data\\fonts\\afm\\phvr8a.afm -> build\\lib.win-amd64-3.8\\matplotlib\\mpl-data\\fonts\\afm\n",
            "      copying lib\\matplotlib\\mpl-data\\fonts\\afm\\pplbi8a.afm -> build\\lib.win-amd64-3.8\\matplotlib\\mpl-data\\fonts\\afm\n",
            "      copying lib\\matplotlib\\mpl-data\\fonts\\pdfcorefonts\\Helvetica-Bold.afm -> build\\lib.win-amd64-3.8\\matplotlib\\mpl-data\\fonts\\pdfcorefonts\n",
            "      copying lib\\matplotlib\\mpl-data\\fonts\\ttf\\DejaVuSansMono.ttf -> build\\lib.win-amd64-3.8\\matplotlib\\mpl-data\\fonts\\ttf\n",
            "      copying lib\\matplotlib\\backends\\web_backend\\css\\fbm.css -> build\\lib.win-amd64-3.8\\matplotlib\\backends\\web_backend\\css\n",
            "      copying lib\\matplotlib\\mpl-data\\fonts\\ttf\\DejaVuSansMono-BoldOblique.ttf -> build\\lib.win-amd64-3.8\\matplotlib\\mpl-data\\fonts\\ttf\n",
            "      copying lib\\matplotlib\\mpl-data\\stylelib\\seaborn-poster.mplstyle -> build\\lib.win-amd64-3.8\\matplotlib\\mpl-data\\stylelib\n",
            "      copying lib\\matplotlib\\mpl-data\\stylelib\\_classic_test.mplstyle -> build\\lib.win-amd64-3.8\\matplotlib\\mpl-data\\stylelib\n",
            "      copying lib\\matplotlib\\mpl-data\\images\\move_large.png -> build\\lib.win-amd64-3.8\\matplotlib\\mpl-data\\images\n",
            "      copying lib\\matplotlib\\mpl-data\\images\\forward.svg -> build\\lib.win-amd64-3.8\\matplotlib\\mpl-data\\images\n",
            "      copying lib\\matplotlib\\mpl-data\\sample_data\\eeg.dat -> build\\lib.win-amd64-3.8\\matplotlib\\mpl-data\\sample_data\n",
            "      copying lib\\matplotlib\\mpl-data\\fonts\\ttf\\STIXSizFourSymReg.ttf -> build\\lib.win-amd64-3.8\\matplotlib\\mpl-data\\fonts\\ttf\n",
            "      copying lib\\matplotlib\\mpl-data\\fonts\\afm\\pncb8a.afm -> build\\lib.win-amd64-3.8\\matplotlib\\mpl-data\\fonts\\afm\n",
            "      copying lib\\matplotlib\\mpl-data\\stylelib\\seaborn-whitegrid.mplstyle -> build\\lib.win-amd64-3.8\\matplotlib\\mpl-data\\stylelib\n",
            "      copying lib\\matplotlib\\mpl-data\\fonts\\ttf\\DejaVuSerif.ttf -> build\\lib.win-amd64-3.8\\matplotlib\\mpl-data\\fonts\\ttf\n",
            "      copying lib\\matplotlib\\mpl-data\\fonts\\ttf\\STIXNonUni.ttf -> build\\lib.win-amd64-3.8\\matplotlib\\mpl-data\\fonts\\ttf\n",
            "      copying lib\\matplotlib\\mpl-data\\fonts\\afm\\phvro8a.afm -> build\\lib.win-amd64-3.8\\matplotlib\\mpl-data\\fonts\\afm\n",
            "      copying lib\\matplotlib\\mpl-data\\sample_data\\aapl.npz -> build\\lib.win-amd64-3.8\\matplotlib\\mpl-data\\sample_data\n",
            "      copying lib\\matplotlib\\mpl-data\\fonts\\ttf\\STIXGeneralBol.ttf -> build\\lib.win-amd64-3.8\\matplotlib\\mpl-data\\fonts\\ttf\n",
            "      copying lib\\matplotlib\\mpl-data\\stylelib\\tableau-colorblind10.mplstyle -> build\\lib.win-amd64-3.8\\matplotlib\\mpl-data\\stylelib\n",
            "      copying lib\\matplotlib\\mpl-data\\fonts\\afm\\phvro8an.afm -> build\\lib.win-amd64-3.8\\matplotlib\\mpl-data\\fonts\\afm\n",
            "      copying lib\\matplotlib\\mpl-data\\stylelib\\fivethirtyeight.mplstyle -> build\\lib.win-amd64-3.8\\matplotlib\\mpl-data\\stylelib\n",
            "      copying lib\\matplotlib\\mpl-data\\sample_data\\s1045.ima.gz -> build\\lib.win-amd64-3.8\\matplotlib\\mpl-data\\sample_data\n",
            "      copying lib\\matplotlib\\mpl-data\\fonts\\afm\\pplri8a.afm -> build\\lib.win-amd64-3.8\\matplotlib\\mpl-data\\fonts\\afm\n",
            "      copying lib\\matplotlib\\backends\\web_backend\\nbagg_uat.ipynb -> build\\lib.win-amd64-3.8\\matplotlib\\backends\\web_backend\n",
            "      copying lib\\matplotlib\\mpl-data\\sample_data\\ada.png -> build\\lib.win-amd64-3.8\\matplotlib\\mpl-data\\sample_data\n",
            "      copying lib\\matplotlib\\mpl-data\\images\\qt4_editor_options_large.png -> build\\lib.win-amd64-3.8\\matplotlib\\mpl-data\\images\n",
            "      copying lib\\matplotlib\\mpl-data\\stylelib\\grayscale.mplstyle -> build\\lib.win-amd64-3.8\\matplotlib\\mpl-data\\stylelib\n",
            "      copying lib\\matplotlib\\mpl-data\\sample_data\\embedding_in_wx3.xrc -> build\\lib.win-amd64-3.8\\matplotlib\\mpl-data\\sample_data\n",
            "      copying lib\\matplotlib\\mpl-data\\sample_data\\percent_bachelors_degrees_women_usa.csv -> build\\lib.win-amd64-3.8\\matplotlib\\mpl-data\\sample_data\n",
            "      copying lib\\matplotlib\\mpl-data\\fonts\\afm\\ptmb8a.afm -> build\\lib.win-amd64-3.8\\matplotlib\\mpl-data\\fonts\\afm\n",
            "      copying lib\\matplotlib\\mpl-data\\stylelib\\seaborn.mplstyle -> build\\lib.win-amd64-3.8\\matplotlib\\mpl-data\\stylelib\n",
            "      copying lib\\matplotlib\\mpl-data\\fonts\\afm\\pcrro8a.afm -> build\\lib.win-amd64-3.8\\matplotlib\\mpl-data\\fonts\\afm\n",
            "      copying lib\\matplotlib\\mpl-data\\images\\subplots.png -> build\\lib.win-amd64-3.8\\matplotlib\\mpl-data\\images\n",
            "      copying lib\\matplotlib\\backends\\web_backend\\jquery-ui-1.12.1\\images\\ui-icons_777620_256x240.png -> build\\lib.win-amd64-3.8\\matplotlib\\backends\\web_backend\\jquery-ui-1.12.1\\images\n",
            "      copying lib\\matplotlib\\mpl-data\\fonts\\afm\\pbkdi8a.afm -> build\\lib.win-amd64-3.8\\matplotlib\\mpl-data\\fonts\\afm\n",
            "      copying lib\\matplotlib\\mpl-data\\fonts\\pdfcorefonts\\Times-Roman.afm -> build\\lib.win-amd64-3.8\\matplotlib\\mpl-data\\fonts\\pdfcorefonts\n",
            "      copying lib\\matplotlib\\mpl-data\\images\\forward.png -> build\\lib.win-amd64-3.8\\matplotlib\\mpl-data\\images\n",
            "      copying lib\\matplotlib\\mpl-data\\images\\qt4_editor_options.png -> build\\lib.win-amd64-3.8\\matplotlib\\mpl-data\\images\n",
            "      copying lib\\matplotlib\\mpl-data\\fonts\\ttf\\DejaVuSansDisplay.ttf -> build\\lib.win-amd64-3.8\\matplotlib\\mpl-data\\fonts\\ttf\n",
            "      copying lib\\matplotlib\\mpl-data\\stylelib\\seaborn-darkgrid.mplstyle -> build\\lib.win-amd64-3.8\\matplotlib\\mpl-data\\stylelib\n",
            "      copying lib\\matplotlib\\mpl-data\\fonts\\afm\\phvl8a.afm -> build\\lib.win-amd64-3.8\\matplotlib\\mpl-data\\fonts\\afm\n",
            "      copying lib\\matplotlib\\mpl-data\\fonts\\afm\\pzcmi8a.afm -> build\\lib.win-amd64-3.8\\matplotlib\\mpl-data\\fonts\\afm\n",
            "      copying lib\\matplotlib\\mpl-data\\stylelib\\seaborn-white.mplstyle -> build\\lib.win-amd64-3.8\\matplotlib\\mpl-data\\stylelib\n",
            "      copying lib\\matplotlib\\mpl-data\\images\\forward.gif -> build\\lib.win-amd64-3.8\\matplotlib\\mpl-data\\images\n",
            "      copying lib\\matplotlib\\mpl-data\\fonts\\ttf\\DejaVuSans-BoldOblique.ttf -> build\\lib.win-amd64-3.8\\matplotlib\\mpl-data\\fonts\\ttf\n",
            "      copying lib\\matplotlib\\mpl-data\\fonts\\ttf\\DejaVuSansMono-Oblique.ttf -> build\\lib.win-amd64-3.8\\matplotlib\\mpl-data\\fonts\\ttf\n",
            "      copying lib\\matplotlib\\mpl-data\\stylelib\\seaborn-notebook.mplstyle -> build\\lib.win-amd64-3.8\\matplotlib\\mpl-data\\stylelib\n",
            "      copying lib\\matplotlib\\mpl-data\\images\\help.svg -> build\\lib.win-amd64-3.8\\matplotlib\\mpl-data\\images\n",
            "      copying lib\\matplotlib\\mpl-data\\stylelib\\seaborn-ticks.mplstyle -> build\\lib.win-amd64-3.8\\matplotlib\\mpl-data\\stylelib\n",
            "      copying lib\\matplotlib\\mpl-data\\fonts\\afm\\pagko8a.afm -> build\\lib.win-amd64-3.8\\matplotlib\\mpl-data\\fonts\\afm\n",
            "      copying lib\\matplotlib\\backends\\web_backend\\single_figure.html -> build\\lib.win-amd64-3.8\\matplotlib\\backends\\web_backend\n",
            "      copying lib\\matplotlib\\mpl-data\\fonts\\pdfcorefonts\\Courier-Bold.afm -> build\\lib.win-amd64-3.8\\matplotlib\\mpl-data\\fonts\\pdfcorefonts\n",
            "      copying lib\\matplotlib\\mpl-data\\fonts\\pdfcorefonts\\Symbol.afm -> build\\lib.win-amd64-3.8\\matplotlib\\mpl-data\\fonts\\pdfcorefonts\n",
            "      copying lib\\matplotlib\\mpl-data\\fonts\\ttf\\DejaVuSansMono-Bold.ttf -> build\\lib.win-amd64-3.8\\matplotlib\\mpl-data\\fonts\\ttf\n",
            "      copying lib\\matplotlib\\mpl-data\\stylelib\\ggplot.mplstyle -> build\\lib.win-amd64-3.8\\matplotlib\\mpl-data\\stylelib\n",
            "      copying lib\\matplotlib\\mpl-data\\sample_data\\msft.csv -> build\\lib.win-amd64-3.8\\matplotlib\\mpl-data\\sample_data\n",
            "      copying lib\\matplotlib\\mpl-data\\fonts\\afm\\pcrbo8a.afm -> build\\lib.win-amd64-3.8\\matplotlib\\mpl-data\\fonts\\afm\n",
            "      copying lib\\matplotlib\\mpl-data\\fonts\\pdfcorefonts\\readme.txt -> build\\lib.win-amd64-3.8\\matplotlib\\mpl-data\\fonts\\pdfcorefonts\n",
            "      copying lib\\matplotlib\\mpl-data\\fonts\\afm\\putbi8a.afm -> build\\lib.win-amd64-3.8\\matplotlib\\mpl-data\\fonts\\afm\n",
            "      copying lib\\matplotlib\\mpl-data\\images\\matplotlib.svg -> build\\lib.win-amd64-3.8\\matplotlib\\mpl-data\\images\n",
            "      copying lib\\matplotlib\\backends\\web_backend\\jquery-ui-1.12.1\\LICENSE.txt -> build\\lib.win-amd64-3.8\\matplotlib\\backends\\web_backend\\jquery-ui-1.12.1\n",
            "      copying lib\\matplotlib\\mpl-data\\fonts\\pdfcorefonts\\Courier-BoldOblique.afm -> build\\lib.win-amd64-3.8\\matplotlib\\mpl-data\\fonts\\pdfcorefonts\n",
            "      copying lib\\matplotlib\\mpl-data\\images\\forward.pdf -> build\\lib.win-amd64-3.8\\matplotlib\\mpl-data\\images\n",
            "      copying lib\\matplotlib\\mpl-data\\images\\zoom_to_rect.pdf -> build\\lib.win-amd64-3.8\\matplotlib\\mpl-data\\images\n",
            "      copying lib\\matplotlib\\mpl-data\\images\\filesave_large.gif -> build\\lib.win-amd64-3.8\\matplotlib\\mpl-data\\images\n",
            "      copying lib\\matplotlib\\mpl-data\\images\\matplotlib_large.png -> build\\lib.win-amd64-3.8\\matplotlib\\mpl-data\\images\n",
            "      copying lib\\matplotlib\\mpl-data\\images\\filesave_large.png -> build\\lib.win-amd64-3.8\\matplotlib\\mpl-data\\images\n",
            "      copying lib\\matplotlib\\mpl-data\\fonts\\pdfcorefonts\\Courier-Oblique.afm -> build\\lib.win-amd64-3.8\\matplotlib\\mpl-data\\fonts\\pdfcorefonts\n",
            "      copying lib\\matplotlib\\mpl-data\\fonts\\ttf\\STIXSizThreeSymBol.ttf -> build\\lib.win-amd64-3.8\\matplotlib\\mpl-data\\fonts\\ttf\n",
            "      copying lib\\matplotlib\\mpl-data\\fonts\\afm\\pncr8a.afm -> build\\lib.win-amd64-3.8\\matplotlib\\mpl-data\\fonts\\afm\n",
            "      copying lib\\matplotlib\\mpl-data\\fonts\\ttf\\DejaVuSans-Bold.ttf -> build\\lib.win-amd64-3.8\\matplotlib\\mpl-data\\fonts\\ttf\n",
            "      copying lib\\matplotlib\\mpl-data\\images\\home.gif -> build\\lib.win-amd64-3.8\\matplotlib\\mpl-data\\images\n",
            "      copying lib\\matplotlib\\mpl-data\\fonts\\ttf\\STIXSizFourSymBol.ttf -> build\\lib.win-amd64-3.8\\matplotlib\\mpl-data\\fonts\\ttf\n",
            "      copying lib\\matplotlib\\mpl-data\\stylelib\\seaborn-dark.mplstyle -> build\\lib.win-amd64-3.8\\matplotlib\\mpl-data\\stylelib\n",
            "      copying lib\\matplotlib\\mpl-data\\images\\hand.svg -> build\\lib.win-amd64-3.8\\matplotlib\\mpl-data\\images\n",
            "      copying lib\\matplotlib\\mpl-data\\stylelib\\classic.mplstyle -> build\\lib.win-amd64-3.8\\matplotlib\\mpl-data\\stylelib\n",
            "      copying lib\\matplotlib\\mpl-data\\stylelib\\seaborn-paper.mplstyle -> build\\lib.win-amd64-3.8\\matplotlib\\mpl-data\\stylelib\n",
            "      copying lib\\matplotlib\\mpl-data\\fonts\\ttf\\DejaVuSerif-BoldItalic.ttf -> build\\lib.win-amd64-3.8\\matplotlib\\mpl-data\\fonts\\ttf\n",
            "      copying lib\\matplotlib\\backends\\web_backend\\js\\nbagg_mpl.js -> build\\lib.win-amd64-3.8\\matplotlib\\backends\\web_backend\\js\n",
            "      copying lib\\matplotlib\\mpl-data\\images\\filesave.pdf -> build\\lib.win-amd64-3.8\\matplotlib\\mpl-data\\images\n",
            "      copying lib\\matplotlib\\mpl-data\\sample_data\\grace_hopper.png -> build\\lib.win-amd64-3.8\\matplotlib\\mpl-data\\sample_data\n",
            "      copying lib\\matplotlib\\mpl-data\\images\\subplots.pdf -> build\\lib.win-amd64-3.8\\matplotlib\\mpl-data\\images\n",
            "      copying lib\\matplotlib\\mpl-data\\sample_data\\membrane.dat -> build\\lib.win-amd64-3.8\\matplotlib\\mpl-data\\sample_data\n",
            "      copying lib\\matplotlib\\mpl-data\\sample_data\\Minduka_Present_Blue_Pack.png -> build\\lib.win-amd64-3.8\\matplotlib\\mpl-data\\sample_data\n",
            "      copying lib\\matplotlib\\mpl-data\\images\\filesave.png -> build\\lib.win-amd64-3.8\\matplotlib\\mpl-data\\images\n",
            "      copying lib\\matplotlib\\mpl-data\\images\\back_large.png -> build\\lib.win-amd64-3.8\\matplotlib\\mpl-data\\images\n",
            "      copying lib\\matplotlib\\backends\\web_backend\\jquery-ui-1.12.1\\images\\ui-icons_ffffff_256x240.png -> build\\lib.win-amd64-3.8\\matplotlib\\backends\\web_backend\\jquery-ui-1.12.1\\images\n",
            "      copying lib\\matplotlib\\mpl-data\\fonts\\pdfcorefonts\\ZapfDingbats.afm -> build\\lib.win-amd64-3.8\\matplotlib\\mpl-data\\fonts\\pdfcorefonts\n",
            "      copying lib\\matplotlib\\mpl-data\\fonts\\pdfcorefonts\\Helvetica.afm -> build\\lib.win-amd64-3.8\\matplotlib\\mpl-data\\fonts\\pdfcorefonts\n",
            "      copying lib\\matplotlib\\mpl-data\\fonts\\afm\\cmr10.afm -> build\\lib.win-amd64-3.8\\matplotlib\\mpl-data\\fonts\\afm\n",
            "      copying lib\\matplotlib\\mpl-data\\fonts\\afm\\pplr8a.afm -> build\\lib.win-amd64-3.8\\matplotlib\\mpl-data\\fonts\\afm\n",
            "      copying lib\\matplotlib\\mpl-data\\fonts\\ttf\\STIXGeneralItalic.ttf -> build\\lib.win-amd64-3.8\\matplotlib\\mpl-data\\fonts\\ttf\n",
            "      copying lib\\matplotlib\\mpl-data\\fonts\\afm\\pplb8a.afm -> build\\lib.win-amd64-3.8\\matplotlib\\mpl-data\\fonts\\afm\n",
            "      copying lib\\matplotlib\\mpl-data\\images\\hand.png -> build\\lib.win-amd64-3.8\\matplotlib\\mpl-data\\images\n",
            "      copying lib\\matplotlib\\mpl-data\\images\\help_large.ppm -> build\\lib.win-amd64-3.8\\matplotlib\\mpl-data\\images\n",
            "      copying lib\\matplotlib\\mpl-data\\images\\subplots_large.gif -> build\\lib.win-amd64-3.8\\matplotlib\\mpl-data\\images\n",
            "      copying lib\\matplotlib\\mpl-data\\images\\qt4_editor_options.pdf -> build\\lib.win-amd64-3.8\\matplotlib\\mpl-data\\images\n",
            "      copying lib\\matplotlib\\backends\\web_backend\\jquery-ui-1.12.1\\images\\ui-icons_cc0000_256x240.png -> build\\lib.win-amd64-3.8\\matplotlib\\backends\\web_backend\\jquery-ui-1.12.1\\images\n",
            "      copying lib\\matplotlib\\mpl-data\\images\\back.png -> build\\lib.win-amd64-3.8\\matplotlib\\mpl-data\\images\n",
            "      copying lib\\matplotlib\\mpl-data\\fonts\\afm\\putri8a.afm -> build\\lib.win-amd64-3.8\\matplotlib\\mpl-data\\fonts\\afm\n",
            "      copying lib\\matplotlib\\mpl-data\\fonts\\pdfcorefonts\\Courier.afm -> build\\lib.win-amd64-3.8\\matplotlib\\mpl-data\\fonts\\pdfcorefonts\n",
            "      copying lib\\matplotlib\\mpl-data\\fonts\\ttf\\STIXSizTwoSymReg.ttf -> build\\lib.win-amd64-3.8\\matplotlib\\mpl-data\\fonts\\ttf\n",
            "      copying lib\\matplotlib\\mpl-data\\images\\help.png -> build\\lib.win-amd64-3.8\\matplotlib\\mpl-data\\images\n",
            "      copying lib\\matplotlib\\mpl-data\\fonts\\ttf\\DejaVuSans.ttf -> build\\lib.win-amd64-3.8\\matplotlib\\mpl-data\\fonts\\ttf\n",
            "      copying lib\\matplotlib\\mpl-data\\images\\home.png -> build\\lib.win-amd64-3.8\\matplotlib\\mpl-data\\images\n",
            "      copying lib\\matplotlib\\backends\\web_backend\\css\\page.css -> build\\lib.win-amd64-3.8\\matplotlib\\backends\\web_backend\\css\n",
            "      creating build\\lib.win-amd64-3.8\\matplotlib\\mpl-data\\sample_data\\axes_grid\n",
            "      copying lib\\matplotlib\\mpl-data\\sample_data\\axes_grid\\bivariate_normal.npy -> build\\lib.win-amd64-3.8\\matplotlib\\mpl-data\\sample_data\\axes_grid\n",
            "      copying lib\\matplotlib\\backends\\web_backend\\jquery-ui-1.12.1\\jquery-ui.structure.min.css -> build\\lib.win-amd64-3.8\\matplotlib\\backends\\web_backend\\jquery-ui-1.12.1\n",
            "      copying lib\\matplotlib\\mpl-data\\fonts\\afm\\phvbo8an.afm -> build\\lib.win-amd64-3.8\\matplotlib\\mpl-data\\fonts\\afm\n",
            "      copying lib\\matplotlib\\mpl-data\\fonts\\ttf\\LICENSE_DEJAVU -> build\\lib.win-amd64-3.8\\matplotlib\\mpl-data\\fonts\\ttf\n",
            "      copying lib\\matplotlib\\backends\\web_backend\\jquery-ui-1.12.1\\jquery-ui.theme.css -> build\\lib.win-amd64-3.8\\matplotlib\\backends\\web_backend\\jquery-ui-1.12.1\n",
            "      copying lib\\matplotlib\\mpl-data\\fonts\\ttf\\cmr10.ttf -> build\\lib.win-amd64-3.8\\matplotlib\\mpl-data\\fonts\\ttf\n",
            "      copying lib\\matplotlib\\mpl-data\\images\\forward_large.gif -> build\\lib.win-amd64-3.8\\matplotlib\\mpl-data\\images\n",
            "      copying lib\\matplotlib\\mpl-data\\fonts\\afm\\ptmbi8a.afm -> build\\lib.win-amd64-3.8\\matplotlib\\mpl-data\\fonts\\afm\n",
            "      copying lib\\matplotlib\\mpl-data\\fonts\\ttf\\DejaVuSerif-Italic.ttf -> build\\lib.win-amd64-3.8\\matplotlib\\mpl-data\\fonts\\ttf\n",
            "      copying lib\\matplotlib\\mpl-data\\fonts\\afm\\ptmri8a.afm -> build\\lib.win-amd64-3.8\\matplotlib\\mpl-data\\fonts\\afm\n",
            "      copying lib\\matplotlib\\mpl-data\\sample_data\\data_x_x2_x3.csv -> build\\lib.win-amd64-3.8\\matplotlib\\mpl-data\\sample_data\n",
            "      copying lib\\matplotlib\\mpl-data\\fonts\\ttf\\cmb10.ttf -> build\\lib.win-amd64-3.8\\matplotlib\\mpl-data\\fonts\\ttf\n",
            "      copying lib\\matplotlib\\mpl-data\\fonts\\ttf\\DejaVuSerifDisplay.ttf -> build\\lib.win-amd64-3.8\\matplotlib\\mpl-data\\fonts\\ttf\n",
            "      copying lib\\matplotlib\\mpl-data\\fonts\\ttf\\STIXNonUniBol.ttf -> build\\lib.win-amd64-3.8\\matplotlib\\mpl-data\\fonts\\ttf\n",
            "      copying lib\\matplotlib\\mpl-data\\images\\zoom_to_rect_large.gif -> build\\lib.win-amd64-3.8\\matplotlib\\mpl-data\\images\n",
            "      copying lib\\matplotlib\\mpl-data\\fonts\\ttf\\STIXGeneralBolIta.ttf -> build\\lib.win-amd64-3.8\\matplotlib\\mpl-data\\fonts\\ttf\n",
            "      copying lib\\matplotlib\\mpl-data\\fonts\\ttf\\STIXSizFiveSymReg.ttf -> build\\lib.win-amd64-3.8\\matplotlib\\mpl-data\\fonts\\ttf\n",
            "      copying lib\\matplotlib\\backends\\web_backend\\jquery-ui-1.12.1\\AUTHORS.txt -> build\\lib.win-amd64-3.8\\matplotlib\\backends\\web_backend\\jquery-ui-1.12.1\n",
            "      copying lib\\matplotlib\\mpl-data\\images\\move.svg -> build\\lib.win-amd64-3.8\\matplotlib\\mpl-data\\images\n",
            "      copying lib\\matplotlib\\mpl-data\\images\\move.png -> build\\lib.win-amd64-3.8\\matplotlib\\mpl-data\\images\n",
            "      copying lib\\matplotlib\\mpl-data\\fonts\\pdfcorefonts\\Helvetica-BoldOblique.afm -> build\\lib.win-amd64-3.8\\matplotlib\\mpl-data\\fonts\\pdfcorefonts\n",
            "      copying lib\\matplotlib\\mpl-data\\stylelib\\dark_background.mplstyle -> build\\lib.win-amd64-3.8\\matplotlib\\mpl-data\\stylelib\n",
            "      copying lib\\matplotlib\\mpl-data\\fonts\\ttf\\cmsy10.ttf -> build\\lib.win-amd64-3.8\\matplotlib\\mpl-data\\fonts\\ttf\n",
            "      copying lib\\matplotlib\\mpl-data\\images\\home.pdf -> build\\lib.win-amd64-3.8\\matplotlib\\mpl-data\\images\n",
            "      copying lib\\matplotlib\\backends\\web_backend\\jquery-ui-1.12.1\\images\\ui-icons_777777_256x240.png -> build\\lib.win-amd64-3.8\\matplotlib\\backends\\web_backend\\jquery-ui-1.12.1\\images\n",
            "      copying lib\\matplotlib\\backends\\web_backend\\jquery\\js\\jquery.js -> build\\lib.win-amd64-3.8\\matplotlib\\backends\\web_backend\\jquery\\js\n",
            "      copying lib\\matplotlib\\mpl-data\\sample_data\\README.txt -> build\\lib.win-amd64-3.8\\matplotlib\\mpl-data\\sample_data\n",
            "      copying lib\\matplotlib\\mpl-data\\images\\zoom_to_rect_large.png -> build\\lib.win-amd64-3.8\\matplotlib\\mpl-data\\images\n",
            "      copying lib\\matplotlib\\backends\\web_backend\\jquery-ui-1.12.1\\package.json -> build\\lib.win-amd64-3.8\\matplotlib\\backends\\web_backend\\jquery-ui-1.12.1\n",
            "      copying lib\\matplotlib\\mpl-data\\fonts\\ttf\\STIXSizTwoSymBol.ttf -> build\\lib.win-amd64-3.8\\matplotlib\\mpl-data\\fonts\\ttf\n",
            "      copying lib\\matplotlib\\mpl-data\\sample_data\\grace_hopper.jpg -> build\\lib.win-amd64-3.8\\matplotlib\\mpl-data\\sample_data\n",
            "      copying lib\\matplotlib\\mpl-data\\fonts\\afm\\pagdo8a.afm -> build\\lib.win-amd64-3.8\\matplotlib\\mpl-data\\fonts\\afm\n",
            "      copying lib\\matplotlib\\mpl-data\\images\\move_large.gif -> build\\lib.win-amd64-3.8\\matplotlib\\mpl-data\\images\n",
            "      copying lib\\matplotlib\\mpl-data\\fonts\\ttf\\STIXSizOneSymReg.ttf -> build\\lib.win-amd64-3.8\\matplotlib\\mpl-data\\fonts\\ttf\n",
            "      copying lib\\matplotlib\\backends\\web_backend\\ipython_inline_figure.html -> build\\lib.win-amd64-3.8\\matplotlib\\backends\\web_backend\n",
            "      copying lib\\matplotlib\\mpl-data\\fonts\\afm\\cmex10.afm -> build\\lib.win-amd64-3.8\\matplotlib\\mpl-data\\fonts\\afm\n",
            "      copying lib\\matplotlib\\backends\\web_backend\\jquery-ui-1.12.1\\index.html -> build\\lib.win-amd64-3.8\\matplotlib\\backends\\web_backend\\jquery-ui-1.12.1\n",
            "      copying lib\\matplotlib\\backends\\web_backend\\js\\mpl.js -> build\\lib.win-amd64-3.8\\matplotlib\\backends\\web_backend\\js\n",
            "      copying lib\\matplotlib\\mpl-data\\stylelib\\Solarize_Light2.mplstyle -> build\\lib.win-amd64-3.8\\matplotlib\\mpl-data\\stylelib\n",
            "      UPDATING build\\lib.win-amd64-3.8\\matplotlib\\_version.py\n",
            "      set build\\lib.win-amd64-3.8\\matplotlib\\_version.py to '3.1.0'\n",
            "      running build_ext\n",
            "      building 'matplotlib.ft2font' extension\n",
            "      creating build\\temp.win-amd64-3.8\n",
            "      creating build\\temp.win-amd64-3.8\\Release\n",
            "      creating build\\temp.win-amd64-3.8\\Release\\src\n",
            "      C:\\Program Files (x86)\\Microsoft Visual Studio\\2019\\BuildTools\\VC\\Tools\\MSVC\\14.28.29333\\bin\\HostX86\\x64\\cl.exe /c /nologo /Ox /W3 /GL /DNDEBUG /MD -DFREETYPE_BUILD_TYPE=system -DPY_ARRAY_UNIQUE_SYMBOL=MPL_matplotlib_ft2font_ARRAY_API -DNPY_NO_DEPRECATED_API=NPY_1_7_API_VERSION -D__STDC_FORMAT_MACROS=1 -Iextern/agg24-svn/include -Ih:\\vafatech\\code\\sentiment-analysis\\venv\\lib\\site-packages\\numpy\\core\\include -Ih:\\vafatech\\code\\sentiment-analysis\\venv\\include -IC:\\Users\\Hamid\\AppData\\Local\\Programs\\Python\\Python38\\include -IC:\\Users\\Hamid\\AppData\\Local\\Programs\\Python\\Python38\\include \"-IC:\\Program Files (x86)\\Microsoft Visual Studio\\2019\\BuildTools\\VC\\Tools\\MSVC\\14.28.29333\\include\" \"-IC:\\Program Files (x86)\\Windows Kits\\10\\include\\10.0.18362.0\\ucrt\" \"-IC:\\Program Files (x86)\\Windows Kits\\10\\include\\10.0.18362.0\\shared\" \"-IC:\\Program Files (x86)\\Windows Kits\\10\\include\\10.0.18362.0\\um\" \"-IC:\\Program Files (x86)\\Windows Kits\\10\\include\\10.0.18362.0\\winrt\" \"-IC:\\Program Files (x86)\\Windows Kits\\10\\include\\10.0.18362.0\\cppwinrt\" /Tcsrc/checkdep_freetype2.c /Fobuild\\temp.win-amd64-3.8\\Release\\src/checkdep_freetype2.obj\n",
            "      checkdep_freetype2.c\n",
            "      src/checkdep_freetype2.c(1): fatal error C1083: Cannot open include file: 'ft2build.h': No such file or directory\n",
            "      error: command 'C:\\\\Program Files (x86)\\\\Microsoft Visual Studio\\\\2019\\\\BuildTools\\\\VC\\\\Tools\\\\MSVC\\\\14.28.29333\\\\bin\\\\HostX86\\\\x64\\\\cl.exe' failed with exit status 2\n",
            "      [end of output]\n",
            "  \n",
            "  note: This error originates from a subprocess, and is likely not a problem with pip.\n",
            "error: legacy-install-failure\n",
            "\n",
            "× Encountered error while trying to install package.\n",
            "╰─> matplotlib\n",
            "\n",
            "note: This is an issue with the package mentioned above, not pip.\n",
            "hint: See above for output from the failure.\n"
          ]
        }
      ],
      "source": [
        "!pip install matplotlib==3.1.0"
      ]
    },
    {
      "cell_type": "code",
      "execution_count": 2,
      "metadata": {
        "colab": {
          "base_uri": "https://localhost:8080/",
          "height": 105
        },
        "colab_type": "code",
        "id": "0yHgWvqWBAqS",
        "outputId": "0d6a5968-d5f0-47c3-b464-c73d27d3bd55"
      },
      "outputs": [
        {
          "name": "stdout",
          "output_type": "stream",
          "text": [
            "Requirement already satisfied: hazm in h:\\vafatech\\code\\sentiment-analysis\\venv\\lib\\site-packages (0.7.0)\n",
            "Requirement already satisfied: nltk==3.3 in h:\\vafatech\\code\\sentiment-analysis\\venv\\lib\\site-packages (from hazm) (3.3)\n",
            "Requirement already satisfied: six in h:\\vafatech\\code\\sentiment-analysis\\venv\\lib\\site-packages (from nltk==3.3->hazm) (1.16.0)\n",
            "Requirement already satisfied: stopwords_guilannlp in h:\\vafatech\\code\\sentiment-analysis\\venv\\lib\\site-packages (13.2019.3.5)\n"
          ]
        }
      ],
      "source": [
        "!pip install hazm\n",
        "!pip install stopwords_guilannlp"
      ]
    },
    {
      "cell_type": "markdown",
      "metadata": {
        "colab_type": "text",
        "id": "CcZrLDljhnub"
      },
      "source": [
        "## Get FastText"
      ]
    },
    {
      "cell_type": "markdown",
      "metadata": {
        "colab_type": "text",
        "id": "nki6x2MGbEF-"
      },
      "source": [
        "Download FastText word vectors file for Persian\n",
        "\n",
        "(The list of all model vector files are available [here](https://fasttext.cc/docs/en/pretrained-vectors.html))"
      ]
    },
    {
      "cell_type": "code",
      "execution_count": 3,
      "metadata": {
        "colab": {
          "base_uri": "https://localhost:8080/",
          "height": 212
        },
        "colab_type": "code",
        "id": "4wCOcr1ao1VX",
        "outputId": "e743e3f0-223a-486d-d75f-3778551e6f77"
      },
      "outputs": [
        {
          "name": "stderr",
          "output_type": "stream",
          "text": [
            "'wget' is not recognized as an internal or external command,\n",
            "operable program or batch file.\n"
          ]
        }
      ],
      "source": [
        "!wget https://dl.fbaipublicfiles.com/fasttext/vectors-wiki/wiki.fa.vec"
      ]
    },
    {
      "cell_type": "markdown",
      "metadata": {
        "colab_type": "text",
        "id": "qHENRyUpp-fb"
      },
      "source": [
        "## Import Libraries"
      ]
    },
    {
      "cell_type": "code",
      "execution_count": 27,
      "metadata": {},
      "outputs": [
        {
          "name": "stdout",
          "output_type": "stream",
          "text": [
            "Requirement already satisfied: gensim in h:\\vafatech\\code\\sentiment-analysis\\venv\\lib\\site-packages (4.2.0)\n",
            "Requirement already satisfied: numpy>=1.17.0 in h:\\vafatech\\code\\sentiment-analysis\\venv\\lib\\site-packages (from gensim) (1.23.4)\n",
            "Requirement already satisfied: scipy>=0.18.1 in h:\\vafatech\\code\\sentiment-analysis\\venv\\lib\\site-packages (from gensim) (1.9.3)\n",
            "Requirement already satisfied: smart-open>=1.8.1 in h:\\vafatech\\code\\sentiment-analysis\\venv\\lib\\site-packages (from gensim) (6.2.0)\n",
            "Requirement already satisfied: Cython==0.29.28 in h:\\vafatech\\code\\sentiment-analysis\\venv\\lib\\site-packages (from gensim) (0.29.28)\n"
          ]
        },
        {
          "name": "stderr",
          "output_type": "stream",
          "text": [
            "WARNING: You are using pip version 21.0.1; however, version 22.3 is available.\n",
            "You should consider upgrading via the 'H:\\vafatech\\Code\\Sentiment-Analysis\\venv\\Scripts\\python.exe -m pip install --upgrade pip' command.\n"
          ]
        }
      ],
      "source": [
        "!pip install gensim"
      ]
    },
    {
      "cell_type": "code",
      "execution_count": null,
      "metadata": {},
      "outputs": [],
      "source": []
    },
    {
      "cell_type": "code",
      "execution_count": 7,
      "metadata": {
        "colab": {
          "base_uri": "https://localhost:8080/",
          "height": 81
        },
        "colab_type": "code",
        "id": "DyJ0hqR8nku1",
        "outputId": "d313e28a-d977-45b1-b6e0-f29cca454538"
      },
      "outputs": [],
      "source": [
        "# General\n",
        "import numpy as np\n",
        "import pandas as pd\n",
        "import codecs\n",
        "#from google.colab import files\n",
        "# Word Embedding\n",
        "from gensim.models import KeyedVectors\n",
        "# Keras\n",
        "from keras import optimizers\n",
        "from keras.models import Model, Sequential\n",
        "from keras.layers import Dense, Input, Embedding, Dropout\n",
        "from keras.layers import GlobalMaxPool1D, MaxPooling1D, GlobalMaxPooling1D\n",
        "from keras.layers import CuDNNLSTM, LSTM, Bidirectional\n",
        "from keras.layers.convolutional import Conv1D\n",
        "from keras.utils.np_utils import to_categorical\n",
        "from keras.metrics import categorical_accuracy\n",
        "from keras.utils import plot_model\n",
        "from keras.preprocessing.text import Tokenizer\n",
        "#from keras.preprocessing.sequence import pad_sequences\n",
        "from keras_preprocessing.sequence import pad_sequences\n",
        "\n",
        "# Preprocessing\n",
        "from stopwords_guilannlp import stopwords_output\n",
        "from hazm import *\n",
        "# Visualization\n",
        "%matplotlib inline\n",
        "import matplotlib.pyplot as plt\n",
        "from keras.utils import plot_model\n",
        "# Measuring metrics\n",
        "from sklearn.metrics import f1_score"
      ]
    },
    {
      "cell_type": "markdown",
      "metadata": {
        "colab_type": "text",
        "id": "56Zm6edfuwXC"
      },
      "source": [
        "# Upload dataset files"
      ]
    },
    {
      "cell_type": "markdown",
      "metadata": {
        "colab_type": "text",
        "id": "wamGYNk-sbGV"
      },
      "source": [
        "Upload dataset files to colab environment"
      ]
    },
    {
      "cell_type": "code",
      "execution_count": 6,
      "metadata": {
        "colab": {
          "base_uri": "https://localhost:8080/",
          "height": 177,
          "resources": {
            "http://localhost:8080/nbextensions/google.colab/files.js": {
              "data": "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",
              "headers": [
                [
                  "content-type",
                  "application/javascript"
                ]
              ],
              "ok": true,
              "status": 200,
              "status_text": ""
            }
          }
        },
        "colab_type": "code",
        "id": "VvTYlRzbuwcd",
        "outputId": "9e5946be-b1e0-42c6-f972-6f1cbccdadc9"
      },
      "outputs": [],
      "source": [
        "#uploaded = files.upload()"
      ]
    },
    {
      "cell_type": "markdown",
      "metadata": {
        "colab_type": "text",
        "id": "6FbuK-Gmupe2"
      },
      "source": [
        "\n",
        "# Import & Analyze Dataset"
      ]
    },
    {
      "cell_type": "code",
      "execution_count": 8,
      "metadata": {
        "colab": {},
        "colab_type": "code",
        "id": "5-RMCfo2FJFN"
      },
      "outputs": [],
      "source": [
        "test = pd.read_csv('test.csv', index_col=None, header=None, encoding=\"utf-8\")"
      ]
    },
    {
      "cell_type": "code",
      "execution_count": 9,
      "metadata": {
        "colab": {},
        "colab_type": "code",
        "id": "EOGmQC6cFE2n"
      },
      "outputs": [],
      "source": [
        "x_test = test[0]\n",
        "y_test = test[1]"
      ]
    },
    {
      "cell_type": "code",
      "execution_count": 10,
      "metadata": {
        "colab": {
          "base_uri": "https://localhost:8080/",
          "height": 52
        },
        "colab_type": "code",
        "id": "FV8NGfFSFQyf",
        "outputId": "67078252-21c1-458f-fffd-16c5ae82d64d"
      },
      "outputs": [
        {
          "name": "stdout",
          "output_type": "stream",
          "text": [
            "Number of testing sentence:  (1854,)\n",
            "Number of testing label:  (1854,)\n"
          ]
        }
      ],
      "source": [
        "print('Number of testing sentence: ', x_test.shape)\n",
        "print('Number of testing label: ', y_test.shape)"
      ]
    },
    {
      "cell_type": "code",
      "execution_count": 11,
      "metadata": {
        "colab": {},
        "colab_type": "code",
        "id": "QD2oAioUFSZS"
      },
      "outputs": [],
      "source": [
        "x_test = np.asarray(x_test)\n",
        "y_test = np.asarray(y_test)"
      ]
    },
    {
      "cell_type": "code",
      "execution_count": 12,
      "metadata": {
        "colab": {},
        "colab_type": "code",
        "id": "nzNz61eOEvE2"
      },
      "outputs": [],
      "source": [
        "original = pd.read_csv('original.csv', index_col=None, header=None, encoding=\"utf-8\")\n",
        "balanced = pd.read_csv('balanced.csv', index_col=None, header=None, encoding=\"utf-8\")\n",
        "translation = pd.read_csv('translation.csv', index_col=None, header=None, encoding=\"utf-8\")"
      ]
    },
    {
      "cell_type": "code",
      "execution_count": 13,
      "metadata": {
        "colab": {},
        "colab_type": "code",
        "id": "JFWRuK5VFr8b"
      },
      "outputs": [],
      "source": [
        "selected_dataset = original"
      ]
    },
    {
      "cell_type": "code",
      "execution_count": 14,
      "metadata": {
        "colab": {},
        "colab_type": "code",
        "id": "1N4yiewpFvrx"
      },
      "outputs": [],
      "source": [
        "selected_dataset = selected_dataset.sample(frac=1).reset_index(drop=True)"
      ]
    },
    {
      "cell_type": "code",
      "execution_count": 15,
      "metadata": {
        "colab": {},
        "colab_type": "code",
        "id": "RXEXLFZoupUr"
      },
      "outputs": [],
      "source": [
        "x_train = selected_dataset[0]\n",
        "y_train = selected_dataset[1]"
      ]
    },
    {
      "cell_type": "code",
      "execution_count": 16,
      "metadata": {
        "colab": {
          "base_uri": "https://localhost:8080/",
          "height": 52
        },
        "colab_type": "code",
        "id": "MATiU_eixlin",
        "outputId": "4c695390-2bff-4509-8257-26c019fcb3ed"
      },
      "outputs": [
        {
          "name": "stdout",
          "output_type": "stream",
          "text": [
            "Number of training sentence:  (5561,)\n",
            "Number of training label:  (5561,)\n"
          ]
        }
      ],
      "source": [
        "print('Number of training sentence: ', x_train.shape)\n",
        "print('Number of training label: ', y_train.shape)"
      ]
    },
    {
      "cell_type": "code",
      "execution_count": 17,
      "metadata": {
        "colab": {},
        "colab_type": "code",
        "id": "nL5mDIUfzjyG"
      },
      "outputs": [],
      "source": [
        "# Convert dataframes to numpy arrays\n",
        "x_train = np.asarray(x_train)\n",
        "y_train = np.asarray(y_train)"
      ]
    },
    {
      "cell_type": "code",
      "execution_count": 18,
      "metadata": {
        "colab": {
          "base_uri": "https://localhost:8080/",
          "height": 34
        },
        "colab_type": "code",
        "id": "t2oX_KNK4t0p",
        "outputId": "b6e40c39-8e5a-4899-9456-d393658e113d"
      },
      "outputs": [
        {
          "name": "stdout",
          "output_type": "stream",
          "text": [
            "{1: 1623, 0: 2409, 2: 988, -1: 513, -2: 28}\n"
          ]
        }
      ],
      "source": [
        "# See the data number of sentence in each category \n",
        "from collections import Counter\n",
        "cnt = Counter(y_train)\n",
        "cnt = dict(cnt)\n",
        "print(cnt)"
      ]
    },
    {
      "cell_type": "code",
      "execution_count": 19,
      "metadata": {
        "colab": {
          "base_uri": "https://localhost:8080/",
          "height": 300
        },
        "colab_type": "code",
        "id": "iPDHe3qf3hMC",
        "outputId": "4297830a-275f-48e5-95f1-d70ac52d16a4"
      },
      "outputs": [
        {
          "data": {
            "image/png": "[encoded data removed]",
            "text/plain": [
              "<Figure size 640x480 with 1 Axes>"
            ]
          },
          "metadata": {},
          "output_type": "display_data"
        }
      ],
      "source": [
        "import matplotlib.pyplot as plt\n",
        "labels = list(cnt.keys())\n",
        "sizes = list(cnt.values())\n",
        "colors = ['#3fba36', '#66b3ff','#ffcc99','#ff9999', '#d44444']\n",
        "fig1, ax1 = plt.subplots()\n",
        "ax1.pie(sizes, labels=labels, colors=colors,\n",
        "        autopct='%1.1f%%', startangle=90)\n",
        "#draw circle\n",
        "centre_circle = plt.Circle((0,0),0.70,fc='white')\n",
        "fig = plt.gcf()\n",
        "fig.gca().add_artist(centre_circle)\n",
        "# Equal aspect ratio ensures that pie is drawn as a circle\n",
        "ax1.axis('equal')  \n",
        "plt.tight_layout()\n",
        "# Decomment following line if you want to save the figure\n",
        "# plt.savefig('distribution.png')\n",
        "plt.show()"
      ]
    },
    {
      "cell_type": "code",
      "execution_count": null,
      "metadata": {
        "colab": {},
        "colab_type": "code",
        "id": "OBn3mkJKtGgH"
      },
      "outputs": [],
      "source": [
        "# Decomment following line if you want to download dataset figure\n",
        "# files.download('distribution.png')"
      ]
    },
    {
      "cell_type": "markdown",
      "metadata": {
        "colab_type": "text",
        "id": "2imgOHrg7Pzz"
      },
      "source": [
        "# Preprocess"
      ]
    },
    {
      "cell_type": "code",
      "execution_count": 20,
      "metadata": {
        "colab": {},
        "colab_type": "code",
        "id": "4-XiHjK87VpK"
      },
      "outputs": [],
      "source": [
        "puncs = ['،', '.', ',', ':', ';', '\"']\n",
        "normalizer = Normalizer()\n",
        "lemmatizer = Lemmatizer()\n",
        "\n",
        "# turn a doc into clean tokens\n",
        "def clean_doc(doc):\n",
        "    doc = normalizer.normalize(doc) # Normalize document using Hazm Normalizer\n",
        "    tokenized = word_tokenize(doc)  # Tokenize text\n",
        "    tokens = []\n",
        "    for t in tokenized:\n",
        "      temp = t\n",
        "      for p in puncs:\n",
        "        temp = temp.replace(p, '')\n",
        "      tokens.append(temp)\n",
        "    # tokens = [w for w in tokens if not w in stop_set]    # Remove stop words\n",
        "    tokens = [w for w in tokens if not len(w) <= 1]\n",
        "    tokens = [w for w in tokens if not w.isdigit()]\n",
        "    tokens = [lemmatizer.lemmatize(w) for w in tokens] # Lemmatize sentence words using Hazm Lemmatizer\n",
        "    tokens = ' '.join(tokens)\n",
        "    return tokens"
      ]
    },
    {
      "cell_type": "markdown",
      "metadata": {
        "colab_type": "text",
        "id": "S-YylKUoqElV"
      },
      "source": [
        "# Prepare FastText Model"
      ]
    },
    {
      "cell_type": "code",
      "execution_count": 27,
      "metadata": {},
      "outputs": [],
      "source": [
        "EMBEDDING_FILE = 'wiki.fa.vec'\n",
        "\n",
        "ft_model = KeyedVectors.load_word2vec_format(EMBEDDING_FILE)\n"
      ]
    },
    {
      "cell_type": "code",
      "execution_count": 36,
      "metadata": {
        "colab": {
          "base_uri": "https://localhost:8080/",
          "height": 72
        },
        "colab_type": "code",
        "id": "1F_olE5An-5I",
        "outputId": "b298adb0-7a76-42ac-facb-8a7d2a484d6a"
      },
      "outputs": [],
      "source": [
        "EMBEDDING_FILE = 'wiki.fa.vec'\n",
        "\n",
        "def import_with_gensim(file_address):\n",
        "  # Creating the model\n",
        "  ft_model = KeyedVectors.load_word2vec_format(file_address)\n",
        "  # Getting the tokens\n",
        "  ft_words = []\n",
        "\n",
        "  #for ft_word in ft_model.vocab:\n",
        "  for ft_word in ft_model.key_to_index: #-- gensim 3.x to gensim 4.00 (Hamid)\n",
        "\n",
        "      ft_words.append(ft_word)\n",
        "  return ft_model, ft_words\n",
        "  \n",
        "ft_model, ft_words = import_with_gensim(EMBEDDING_FILE)"
      ]
    },
    {
      "cell_type": "code",
      "execution_count": 37,
      "metadata": {
        "colab": {},
        "colab_type": "code",
        "id": "WbXOKymz-OS1"
      },
      "outputs": [],
      "source": [
        "# FastText embedding dimensionality\n",
        "embed_size = 300"
      ]
    },
    {
      "cell_type": "code",
      "execution_count": 38,
      "metadata": {
        "colab": {},
        "colab_type": "code",
        "id": "0lraPVp4ptF1"
      },
      "outputs": [],
      "source": [
        "# We get the mean and standard deviation of the embedding weights so that we could maintain the\n",
        "# same statistics for the rest of our own random generated weights.\n",
        "embedding_list = list()\n",
        "for w in ft_words:\n",
        "  embedding_list.append(ft_model[w])\n",
        "\n",
        "all_embedding = np.stack(embedding_list)\n",
        "emb_mean, emb_std = all_embedding.mean(), all_embedding.std()"
      ]
    },
    {
      "cell_type": "markdown",
      "metadata": {
        "colab_type": "text",
        "id": "CwV8zcFJ8pki"
      },
      "source": [
        "# Prepare data for Deep Learning model"
      ]
    },
    {
      "cell_type": "markdown",
      "metadata": {
        "colab_type": "text",
        "id": "TSEcRKge69NI"
      },
      "source": [
        "## Apply preprocessing to data"
      ]
    },
    {
      "cell_type": "code",
      "execution_count": 39,
      "metadata": {
        "colab": {},
        "colab_type": "code",
        "id": "Eaz_5RG90E8D"
      },
      "outputs": [],
      "source": [
        "# Apply preprocessing step to training data\n",
        "train_docs = np.empty_like(x_train)\n",
        "for index, document in enumerate(x_train):\n",
        "  train_docs[index] = clean_doc(document)"
      ]
    },
    {
      "cell_type": "code",
      "execution_count": 40,
      "metadata": {
        "colab": {},
        "colab_type": "code",
        "id": "ZM1XsKN06BXb"
      },
      "outputs": [],
      "source": [
        "# Applying preprocessing step to test data\n",
        "test_docs = np.empty_like(x_test)\n",
        "for index, document in enumerate(x_test):\n",
        "  test_docs[index] = clean_doc(document)"
      ]
    },
    {
      "cell_type": "markdown",
      "metadata": {
        "colab_type": "text",
        "id": "zOVanzfQ7Etd"
      },
      "source": [
        "## Setting tokenizer up"
      ]
    },
    {
      "cell_type": "code",
      "execution_count": 41,
      "metadata": {
        "colab": {},
        "colab_type": "code",
        "id": "yXOfMkE1yMOG"
      },
      "outputs": [],
      "source": [
        "num_words = 2000\n",
        "\n",
        "# Create the tokenizer\n",
        "tokenizer = Tokenizer(num_words=num_words)\n",
        "\n",
        "# fFt the tokenizer on the training documents\n",
        "tokenizer.fit_on_texts(train_docs)"
      ]
    },
    {
      "cell_type": "code",
      "execution_count": 42,
      "metadata": {
        "colab": {},
        "colab_type": "code",
        "id": "xp3Hgq8m6gnI"
      },
      "outputs": [],
      "source": [
        "# Find maximum length of training sentences\n",
        "max_length = max([len(s.split()) for s in train_docs])"
      ]
    },
    {
      "cell_type": "markdown",
      "metadata": {
        "colab_type": "text",
        "id": "YfKPCiJs7RPS"
      },
      "source": [
        "## Embed sentences"
      ]
    },
    {
      "cell_type": "code",
      "execution_count": 43,
      "metadata": {
        "colab": {},
        "colab_type": "code",
        "id": "Hl42Ym2W6PeU"
      },
      "outputs": [],
      "source": [
        "# Embed training sequences\n",
        "encoded_docs = tokenizer.texts_to_sequences(train_docs)\n",
        "\n",
        "# Pad embeded training sequences\n",
        "x_train_padded = pad_sequences(encoded_docs, maxlen=max_length, padding='post')"
      ]
    },
    {
      "cell_type": "code",
      "execution_count": 44,
      "metadata": {
        "colab": {},
        "colab_type": "code",
        "id": "mQ_6Su9L16J9"
      },
      "outputs": [],
      "source": [
        "# Define vocabulary size (largest integer value)\n",
        "vocab_size = len(tokenizer.word_index)"
      ]
    },
    {
      "cell_type": "code",
      "execution_count": 46,
      "metadata": {
        "colab": {
          "base_uri": "https://localhost:8080/",
          "height": 52
        },
        "colab_type": "code",
        "id": "WZnIkLd4rUrb",
        "outputId": "085a2374-072a-43dc-da8e-28eb0b0fb89c"
      },
      "outputs": [
        {
          "name": "stdout",
          "output_type": "stream",
          "text": [
            "total embedded: 6975 common words\n",
            "Embedding matrix shape: (6975, 300)\n"
          ]
        }
      ],
      "source": [
        "# We are going to set the embedding size to the pre-trained dimension as we are replicating it\n",
        "nb_words = len(tokenizer.word_index)\n",
        "\n",
        "# the size will be Number of Words in Vocab X Embedding Size\n",
        "embedding_matrix = np.random.normal(emb_mean, emb_std, (nb_words, embed_size))\n",
        "\n",
        "# With the newly created embedding matrix, we'll fill it up with the words that we have in both\n",
        "# our own dictionary and loaded pre-trained embedding.\n",
        "embeddedCount = 0\n",
        "for word, i in tokenizer.word_index.items():\n",
        "    i -= 1\n",
        "    # then we see if this word is in glove's dictionary, if yes, get the corresponding weights\n",
        "    if word in ft_model.key_to_index:\n",
        "        embedding_vector = ft_model[word]\n",
        "        # and store inside the embedding matrix that we will train later on.\n",
        "        embedding_matrix[i] = embedding_vector\n",
        "        embeddedCount += 1\n",
        "    else:   # Unknown words\n",
        "        embedding_vector = ft_model['subdivision_name']\n",
        "        embedding_matrix[i] = embedding_vector\n",
        "        embeddedCount += 1\n",
        "\n",
        "print('total embedded:', embeddedCount, 'common words')\n",
        "print('Embedding matrix shape:', embedding_matrix.shape)"
      ]
    },
    {
      "cell_type": "code",
      "execution_count": 47,
      "metadata": {
        "colab": {},
        "colab_type": "code",
        "id": "o8NcUFxQpN1f"
      },
      "outputs": [],
      "source": [
        "# Embed testing sequences\n",
        "encoded_docs = tokenizer.texts_to_sequences(test_docs)\n",
        "# Pad testing sequences\n",
        "x_test_padded = pad_sequences(encoded_docs, maxlen=max_length, padding='post')"
      ]
    },
    {
      "cell_type": "markdown",
      "metadata": {
        "colab_type": "text",
        "id": "f8IrxurU7xXB"
      },
      "source": [
        "# Deep Learning Models"
      ]
    },
    {
      "cell_type": "code",
      "execution_count": 48,
      "metadata": {
        "colab": {},
        "colab_type": "code",
        "id": "Y4WWnDA877aA"
      },
      "outputs": [],
      "source": [
        "# Prepare labels for categorical prediction\n",
        "categorical_y_train = to_categorical(y_train, 5)\n",
        "categorical_y_test = to_categorical(y_test, 5)"
      ]
    },
    {
      "cell_type": "markdown",
      "metadata": {
        "colab_type": "text",
        "id": "UGzX4V3J2U9F"
      },
      "source": [
        "## B-LSTM Model"
      ]
    },
    {
      "cell_type": "code",
      "execution_count": 60,
      "metadata": {
        "colab": {},
        "colab_type": "code",
        "id": "sFdUGLh4-v6P"
      },
      "outputs": [],
      "source": [
        "model_blstm = Sequential()\n",
        "model_blstm.add(Embedding(vocab_size, embedding_matrix.shape[1], weights=[embedding_matrix], trainable=True))\n",
        "#model_blstm.add(Bidirectional(CuDNNLSTM(300, return_sequences=True, name='lstm_layer'))) #when using GPU\n",
        "model_blstm.add(Bidirectional(LSTM(int(300/2), activation='tanh', return_sequences=True), merge_mode='concat')) # when using CPU\n",
        "model_blstm.add(GlobalMaxPool1D())\n",
        "model_blstm.add(Dropout(0.2))\n",
        "model_blstm.add(Dense(300, activation=\"relu\"))\n",
        "model_blstm.add(Dropout(0.1))\n",
        "model_blstm.add(Dense(5, activation='softmax'))"
      ]
    },
    {
      "cell_type": "code",
      "execution_count": 61,
      "metadata": {
        "colab": {
          "base_uri": "https://localhost:8080/",
          "height": 407
        },
        "colab_type": "code",
        "id": "MadF-98Rufk-",
        "outputId": "c1d869cc-96d3-46e8-9483-6d22478488cb"
      },
      "outputs": [
        {
          "name": "stdout",
          "output_type": "stream",
          "text": [
            "Model: \"sequential_3\"\n",
            "_________________________________________________________________\n",
            " Layer (type)                Output Shape              Param #   \n",
            "=================================================================\n",
            " embedding_3 (Embedding)     (None, None, 300)         2092500   \n",
            "                                                                 \n",
            " bidirectional_3 (Bidirectio  (None, None, 300)        541200    \n",
            " nal)                                                            \n",
            "                                                                 \n",
            " global_max_pooling1d_2 (Glo  (None, 300)              0         \n",
            " balMaxPooling1D)                                                \n",
            "                                                                 \n",
            " dropout_4 (Dropout)         (None, 300)               0         \n",
            "                                                                 \n",
            " dense_4 (Dense)             (None, 300)               90300     \n",
            "                                                                 \n",
            " dropout_5 (Dropout)         (None, 300)               0         \n",
            "                                                                 \n",
            " dense_5 (Dense)             (None, 5)                 1505      \n",
            "                                                                 \n",
            "=================================================================\n",
            "Total params: 2,725,505\n",
            "Trainable params: 2,725,505\n",
            "Non-trainable params: 0\n",
            "_________________________________________________________________\n"
          ]
        }
      ],
      "source": [
        "model_blstm.compile(loss='categorical_crossentropy',\n",
        "              optimizer='adam',\n",
        "              metrics=[categorical_accuracy])\n",
        "\n",
        "model_blstm.summary()\n",
        "batch_size_blstm = 64\n",
        "epochs_blstm = 5"
      ]
    },
    {
      "cell_type": "code",
      "execution_count": 62,
      "metadata": {
        "colab": {
          "base_uri": "https://localhost:8080/",
          "height": 194
        },
        "colab_type": "code",
        "id": "Yvltc4_D8Sjp",
        "outputId": "7cdd4775-e8de-4b44-915a-8c0ace0b50a2"
      },
      "outputs": [
        {
          "name": "stdout",
          "output_type": "stream",
          "text": [
            "Epoch 1/5\n",
            "87/87 [==============================] - 411s 5s/step - loss: 1.2459 - categorical_accuracy: 0.4416\n",
            "Epoch 2/5\n",
            "87/87 [==============================] - 376s 4s/step - loss: 0.9561 - categorical_accuracy: 0.6033\n",
            "Epoch 3/5\n",
            "87/87 [==============================] - 417s 5s/step - loss: 0.7764 - categorical_accuracy: 0.6938\n",
            "Epoch 4/5\n",
            "87/87 [==============================] - 424s 5s/step - loss: 0.6434 - categorical_accuracy: 0.7522\n",
            "Epoch 5/5\n",
            "87/87 [==============================] - 425s 5s/step - loss: 0.5221 - categorical_accuracy: 0.8067\n"
          ]
        }
      ],
      "source": [
        "\n",
        "hist_blstm = model_blstm.fit(x_train_padded, categorical_y_train, batch_size=batch_size_blstm, epochs=epochs_blstm, shuffle=True)"
      ]
    },
    {
      "cell_type": "code",
      "execution_count": 64,
      "metadata": {
        "colab": {
          "base_uri": "https://localhost:8080/",
          "height": 34
        },
        "colab_type": "code",
        "id": "hiqdfnXMKlsZ",
        "outputId": "5303d89c-c30a-44b9-f404-71e42324255e"
      },
      "outputs": [
        {
          "name": "stdout",
          "output_type": "stream",
          "text": [
            "Test Accuracy: 65.426105\n"
          ]
        }
      ],
      "source": [
        "model_blstm.save_weights('model_blstm_weights.h5')\n",
        "# Evaluate model\n",
        "loss_blstm, acc_blstm = model_blstm.evaluate(x_test_padded, categorical_y_test, verbose=0)\n",
        "print('Test Accuracy: %f' % (acc_blstm*100))"
      ]
    },
    {
      "cell_type": "code",
      "execution_count": 67,
      "metadata": {
        "colab": {},
        "colab_type": "code",
        "id": "imptdlcYXZF5"
      },
      "outputs": [
        {
          "name": "stdout",
          "output_type": "stream",
          "text": [
            "58/58 [==============================] - 31s 514ms/step\n"
          ]
        }
      ],
      "source": [
        "# Get prediction label\n",
        "#y_pred_blstm = model_blstm.predict_classes(x_test_padded) #This function were removed in TensorFlow version 2.6\n",
        "predict_x=model_blstm.predict(x_test_padded) \n",
        "y_pred_blstm=np.argmax(predict_x,axis=1)"
      ]
    },
    {
      "cell_type": "markdown",
      "metadata": {
        "colab_type": "text",
        "id": "mjCMX44DEv-4"
      },
      "source": [
        "## CNN Model"
      ]
    },
    {
      "cell_type": "code",
      "execution_count": 73,
      "metadata": {
        "colab": {},
        "colab_type": "code",
        "id": "FemjzX3_FJFN"
      },
      "outputs": [],
      "source": [
        "model_cnn = Sequential()\n",
        "model_cnn.add(Embedding(vocab_size, embedding_matrix.shape[1], weights=[embedding_matrix], trainable=True))\n",
        "model_cnn.add(Conv1D(filters=64, kernel_size=4, activation='relu', padding='same'))\n",
        "model_cnn.add(MaxPooling1D(pool_size=2))\n",
        "model_cnn.add(Conv1D(filters=64, kernel_size=8, activation='relu', padding='same'))\n",
        "model_cnn.add(MaxPooling1D(pool_size=2))\n",
        "model_cnn.add(Conv1D(filters=64, kernel_size=16, activation='relu', padding='same'))\n",
        "model_cnn.add(GlobalMaxPooling1D())\n",
        "model_cnn.add(Dropout(0.1))\n",
        "model_cnn.add(Dense(500, activation=\"sigmoid\"))\n",
        "model_cnn.add(Dense(5, activation='softmax'))"
      ]
    },
    {
      "cell_type": "code",
      "execution_count": 74,
      "metadata": {
        "colab": {
          "base_uri": "https://localhost:8080/",
          "height": 514
        },
        "colab_type": "code",
        "id": "k79NbUPiFJFT",
        "outputId": "8a792758-30dc-4dd5-fce1-2877625e44da"
      },
      "outputs": [
        {
          "name": "stdout",
          "output_type": "stream",
          "text": [
            "Model: \"sequential_5\"\n",
            "_________________________________________________________________\n",
            " Layer (type)                Output Shape              Param #   \n",
            "=================================================================\n",
            " embedding_5 (Embedding)     (None, None, 300)         2092500   \n",
            "                                                                 \n",
            " conv1d_3 (Conv1D)           (None, None, 64)          76864     \n",
            "                                                                 \n",
            " max_pooling1d_2 (MaxPooling  (None, None, 64)         0         \n",
            " 1D)                                                             \n",
            "                                                                 \n",
            " conv1d_4 (Conv1D)           (None, None, 64)          32832     \n",
            "                                                                 \n",
            " max_pooling1d_3 (MaxPooling  (None, None, 64)         0         \n",
            " 1D)                                                             \n",
            "                                                                 \n",
            " conv1d_5 (Conv1D)           (None, None, 64)          65600     \n",
            "                                                                 \n",
            " global_max_pooling1d_4 (Glo  (None, 64)               0         \n",
            " balMaxPooling1D)                                                \n",
            "                                                                 \n",
            " dropout_7 (Dropout)         (None, 64)                0         \n",
            "                                                                 \n",
            " dense_8 (Dense)             (None, 500)               32500     \n",
            "                                                                 \n",
            " dense_9 (Dense)             (None, 5)                 2505      \n",
            "                                                                 \n",
            "=================================================================\n",
            "Total params: 2,302,801\n",
            "Trainable params: 2,302,801\n",
            "Non-trainable params: 0\n",
            "_________________________________________________________________\n"
          ]
        }
      ],
      "source": [
        "model_cnn.compile(loss='categorical_crossentropy',\n",
        "              optimizer='adam',\n",
        "              metrics=[categorical_accuracy])\n",
        "\n",
        "model_cnn.summary()\n",
        "batch_size_cnn = 64\n",
        "epochs_cnn = 8"
      ]
    },
    {
      "cell_type": "code",
      "execution_count": 75,
      "metadata": {
        "colab": {
          "base_uri": "https://localhost:8080/",
          "height": 301
        },
        "colab_type": "code",
        "id": "z-k6q09sFJFX",
        "outputId": "5ca9cdba-aaf4-46bc-d6d8-788e08c733ef"
      },
      "outputs": [
        {
          "name": "stdout",
          "output_type": "stream",
          "text": [
            "Epoch 1/8\n",
            "87/87 [==============================] - 36s 386ms/step - loss: 1.2904 - categorical_accuracy: 0.4211\n",
            "Epoch 2/8\n",
            "87/87 [==============================] - 35s 405ms/step - loss: 1.2313 - categorical_accuracy: 0.4742\n",
            "Epoch 3/8\n",
            "87/87 [==============================] - 39s 451ms/step - loss: 0.9281 - categorical_accuracy: 0.6515\n",
            "Epoch 4/8\n",
            "87/87 [==============================] - 37s 429ms/step - loss: 0.7077 - categorical_accuracy: 0.7421\n",
            "Epoch 5/8\n",
            "87/87 [==============================] - 38s 440ms/step - loss: 0.5363 - categorical_accuracy: 0.8146\n",
            "Epoch 6/8\n",
            "87/87 [==============================] - 40s 454ms/step - loss: 0.3715 - categorical_accuracy: 0.8729\n",
            "Epoch 7/8\n",
            "87/87 [==============================] - 39s 453ms/step - loss: 0.2438 - categorical_accuracy: 0.9259\n",
            "Epoch 8/8\n",
            "87/87 [==============================] - 41s 466ms/step - loss: 0.1616 - categorical_accuracy: 0.9531\n"
          ]
        }
      ],
      "source": [
        "# Train model\n",
        "hist_cnn = model_cnn.fit(x_train_padded, categorical_y_train, batch_size=batch_size_cnn, epochs=epochs_cnn, shuffle=True)"
      ]
    },
    {
      "cell_type": "code",
      "execution_count": 76,
      "metadata": {
        "colab": {
          "base_uri": "https://localhost:8080/",
          "height": 34
        },
        "colab_type": "code",
        "id": "96Sh1kXWFJFa",
        "outputId": "bf5c42b6-d57c-410e-d9e4-2d08c2a28467"
      },
      "outputs": [
        {
          "name": "stdout",
          "output_type": "stream",
          "text": [
            "Test Accuracy: 60.787487\n"
          ]
        }
      ],
      "source": [
        "model_cnn.save_weights('model_cnn_weights.h5')\n",
        "\n",
        "# Evaluate model\n",
        "loss_cnn, acc_cnn = model_cnn.evaluate(x_test_padded, categorical_y_test, verbose=0)\n",
        "print('Test Accuracy: %f' % (acc_cnn*100))"
      ]
    },
    {
      "cell_type": "code",
      "execution_count": 77,
      "metadata": {
        "colab": {},
        "colab_type": "code",
        "id": "T4BdQvmYFJFd"
      },
      "outputs": [
        {
          "name": "stdout",
          "output_type": "stream",
          "text": [
            "58/58 [==============================] - 3s 43ms/step\n"
          ]
        }
      ],
      "source": [
        "# Get prediction label\n",
        "#y_pred_cnn = model_cnn.predict_classes(x_test_padded)\n",
        "predict_x_cnn = model_cnn.predict(x_test_padded) \n",
        "y_pred_cnn=np.argmax(predict_x_cnn,axis=1)"
      ]
    },
    {
      "cell_type": "markdown",
      "metadata": {
        "colab_type": "text",
        "id": "UmU5nDXelR39"
      },
      "source": [
        "# Confusion Matrix"
      ]
    },
    {
      "cell_type": "code",
      "execution_count": 78,
      "metadata": {
        "colab": {},
        "colab_type": "code",
        "id": "uaFeqIhbejZz"
      },
      "outputs": [],
      "source": [
        "y_test_label = []\n",
        "for counter in range(0, len(categorical_y_test)):\n",
        "  label = np.argmax(categorical_y_test[:][counter])\n",
        "  y_test_label.append(label)\n",
        "y_test_label = np.array(y_test_label)"
      ]
    },
    {
      "cell_type": "code",
      "execution_count": 79,
      "metadata": {
        "colab": {},
        "colab_type": "code",
        "id": "b5OhWcBv9K3T"
      },
      "outputs": [],
      "source": [
        "from sklearn.metrics import confusion_matrix\n",
        "from sklearn.utils.multiclass import unique_labels\n",
        "\n",
        "def plot_confusion_matrix(y_true, y_pred, classes,\n",
        "                          normalize=False,\n",
        "                          title=None,\n",
        "                          cmap=plt.cm.Blues):\n",
        "    \"\"\"\n",
        "    This function prints and plots the confusion matrix.\n",
        "    Normalization can be applied by setting `normalize=True`.\n",
        "    \"\"\"\n",
        "    # Compute confusion matrix\n",
        "    cm = confusion_matrix(y_true, y_pred)\n",
        "    # Only use the labels that appear in the data\n",
        "    classes = classes[unique_labels(y_true, y_pred)]\n",
        "    if normalize:\n",
        "        cm = cm.astype('float') / cm.sum(axis=1)[:, np.newaxis]\n",
        "        print(\"Normalized confusion matrix\")\n",
        "    else:\n",
        "        print('Confusion matrix, without normalization')\n",
        "    \n",
        "    print(cm)\n",
        "\n",
        "    fig, ax = plt.subplots()\n",
        "    im = ax.imshow(cm, interpolation='nearest', cmap=cmap)\n",
        "    print(im)\n",
        "    ax.figure.colorbar(im, ax=ax)\n",
        "    # We want to show all ticks...\n",
        "    ax.set(xticks=np.arange(cm.shape[1]),\n",
        "           yticks=np.arange(cm.shape[0]),\n",
        "           # ... and label them with the respective list entries\n",
        "           xticklabels=classes, yticklabels=classes,\n",
        "           title=title,\n",
        "           ylabel='True label',\n",
        "           xlabel='Predicted label')\n",
        "\n",
        "    # Rotate the tick labels and set their alignment.\n",
        "    plt.setp(ax.get_xticklabels(), rotation=45, ha=\"right\",\n",
        "             rotation_mode=\"anchor\")\n",
        "\n",
        "    # Loop over data dimensions and create text annotations.\n",
        "    fmt = '.2f' if normalize else 'd'\n",
        "    thresh = cm.max() / 2.\n",
        "    for i in range(cm.shape[0]):\n",
        "        for j in range(cm.shape[1]):\n",
        "            ax.text(j, i, format(cm[i, j], fmt),\n",
        "                    ha=\"center\", va=\"center\",\n",
        "                    color=\"white\" if cm[i, j] > thresh else \"black\")\n",
        "    fig.tight_layout()\n",
        "    return ax\n",
        "\n",
        "class_names = np.array([0, 1, 2, -2, -1])\n",
        "np.set_printoptions(precision=2)"
      ]
    },
    {
      "cell_type": "code",
      "execution_count": 71,
      "metadata": {
        "colab": {
          "base_uri": "https://localhost:8080/",
          "height": 825
        },
        "colab_type": "code",
        "id": "O0LipgtoEYLb",
        "outputId": "7079e0b7-5692-4ab7-e61c-8f47d4a02290"
      },
      "outputs": [
        {
          "name": "stdout",
          "output_type": "stream",
          "text": [
            "Confusion matrix, without normalization\n",
            "[[625 109   2   0   7]\n",
            " [169 359  25   0   8]\n",
            " [ 19 121 214   0   0]\n",
            " [  5   1   3   0   3]\n",
            " [107  61   1   0  15]]\n",
            "AxesImage(size=(5, 5))\n",
            "Normalized confusion matrix\n",
            "[[0.84 0.15 0.   0.   0.01]\n",
            " [0.3  0.64 0.04 0.   0.01]\n",
            " [0.05 0.34 0.6  0.   0.  ]\n",
            " [0.42 0.08 0.25 0.   0.25]\n",
            " [0.58 0.33 0.01 0.   0.08]]\n",
            "AxesImage(size=(5, 5))\n"
          ]
        },
        {
          "data": {
            "image/png": "[encoded data removed]",
            "text/plain": [
              "<Figure size 640x480 with 2 Axes>"
            ]
          },
          "metadata": {},
          "output_type": "display_data"
        },
        {
          "data": {
            "image/png": "[encoded data removed]",
            "text/plain": [
              "<Figure size 640x480 with 2 Axes>"
            ]
          },
          "metadata": {},
          "output_type": "display_data"
        }
      ],
      "source": [
        "# Plot non-normalized confusion matrix\n",
        "plot_confusion_matrix(y_test_label, y_pred_blstm, classes=class_names)\n",
        "# plt.savefig('cm-blstm.png')\n",
        "# Plot normalized confusion matrix\n",
        "plot_confusion_matrix(y_test_label, y_pred_blstm, classes=class_names, normalize=True)\n",
        "# plt.savefig('cm-blstm-normalized.png')\n",
        "plt.show()"
      ]
    },
    {
      "cell_type": "code",
      "execution_count": 80,
      "metadata": {
        "colab": {
          "base_uri": "https://localhost:8080/",
          "height": 825
        },
        "colab_type": "code",
        "id": "k9qtpFehmYah",
        "outputId": "e447e78a-bb9a-4a71-9048-f79e0ba96d33"
      },
      "outputs": [
        {
          "name": "stdout",
          "output_type": "stream",
          "text": [
            "Confusion matrix, without normalization\n",
            "[[524  82  11   0 126]\n",
            " [118 270  75   0  98]\n",
            " [ 10  59 267   0  18]\n",
            " [  3   0   3   0   6]\n",
            " [ 71  36  11   0  66]]\n",
            "AxesImage(size=(5, 5))\n",
            "Normalized confusion matrix\n",
            "[[0.71 0.11 0.01 0.   0.17]\n",
            " [0.21 0.48 0.13 0.   0.17]\n",
            " [0.03 0.17 0.75 0.   0.05]\n",
            " [0.25 0.   0.25 0.   0.5 ]\n",
            " [0.39 0.2  0.06 0.   0.36]]\n",
            "AxesImage(size=(5, 5))\n"
          ]
        },
        {
          "data": {
            "image/png": "[encoded data removed]",
            "text/plain": [
              "<Figure size 640x480 with 2 Axes>"
            ]
          },
          "metadata": {},
          "output_type": "display_data"
        },
        {
          "data": {
            "image/png": "[encoded data removed]",
            "text/plain": [
              "<Figure size 640x480 with 2 Axes>"
            ]
          },
          "metadata": {},
          "output_type": "display_data"
        }
      ],
      "source": [
        "# Plot non-normalized confusion matrix\n",
        "plot_confusion_matrix(y_test_label, y_pred_cnn, classes=class_names)\n",
        "# plt.savefig('cm-cnn.png')\n",
        "# Plot normalized confusion matrix\n",
        "plot_confusion_matrix(y_test_label, y_pred_cnn, classes=class_names, normalize=True)\n",
        "# plt.savefig('cm-cnn-normalized.png')\n",
        "plt.show()"
      ]
    },
    {
      "cell_type": "markdown",
      "metadata": {
        "colab_type": "text",
        "id": "ZUCXVkw5acDF"
      },
      "source": [
        "## F1 Score"
      ]
    },
    {
      "cell_type": "code",
      "execution_count": 81,
      "metadata": {
        "colab": {
          "base_uri": "https://localhost:8080/",
          "height": 107
        },
        "colab_type": "code",
        "id": "YJy1sBACadfl",
        "outputId": "508a6fe3-7c6a-4328-d8e3-614d2771d361"
      },
      "outputs": [
        {
          "name": "stdout",
          "output_type": "stream",
          "text": [
            "(Weighted) F1 score of FastTextEmb B-LSTM model:\n"
          ]
        },
        {
          "data": {
            "text/plain": [
              "0.6297332782167756"
            ]
          },
          "execution_count": 81,
          "metadata": {},
          "output_type": "execute_result"
        }
      ],
      "source": [
        "print(\"(Weighted) F1 score of FastTextEmb B-LSTM model:\")\n",
        "f1_score(y_test_label, y_pred_blstm, average='weighted')"
      ]
    },
    {
      "cell_type": "code",
      "execution_count": 82,
      "metadata": {
        "colab": {
          "base_uri": "https://localhost:8080/",
          "height": 107
        },
        "colab_type": "code",
        "id": "dMRJQcoiampM",
        "outputId": "9294e236-fdf2-4b77-d765-53a49dddb096"
      },
      "outputs": [
        {
          "name": "stdout",
          "output_type": "stream",
          "text": [
            "(Weighted) F1 score of FastTextEmb CNN model:\n"
          ]
        },
        {
          "data": {
            "text/plain": [
              "0.6157263434267907"
            ]
          },
          "execution_count": 82,
          "metadata": {},
          "output_type": "execute_result"
        }
      ],
      "source": [
        "print(\"(Weighted) F1 score of FastTextEmb CNN model:\")\n",
        "f1_score(y_test_label, y_pred_cnn, average='weighted')"
      ]
    },
    {
      "cell_type": "markdown",
      "metadata": {
        "colab_type": "text",
        "id": "sm3iEv4qrRpb"
      },
      "source": [
        "# Model Visualization"
      ]
    },
    {
      "cell_type": "code",
      "execution_count": 83,
      "metadata": {
        "colab": {
          "base_uri": "https://localhost:8080/",
          "height": 757
        },
        "colab_type": "code",
        "id": "ONz-Y-uRHAAS",
        "outputId": "ba643deb-230d-4d0b-e535-f3e1f4c4a4d3"
      },
      "outputs": [
        {
          "name": "stdout",
          "output_type": "stream",
          "text": [
            "You must install pydot (`pip install pydot`) and install graphviz (see instructions at https://graphviz.gitlab.io/download/) for plot_model to work.\n"
          ]
        }
      ],
      "source": [
        "plot_model(model_blstm, to_file='multiclass-blstm.png')"
      ]
    },
    {
      "cell_type": "code",
      "execution_count": null,
      "metadata": {
        "colab": {},
        "colab_type": "code",
        "id": "lmjcuNfT05vZ"
      },
      "outputs": [],
      "source": [
        "# Decomment following line if you want to download model figure\n",
        "# files.download('multiclass-blstm.png')"
      ]
    },
    {
      "cell_type": "code",
      "execution_count": 496,
      "metadata": {
        "colab": {
          "base_uri": "https://localhost:8080/",
          "height": 1000
        },
        "colab_type": "code",
        "id": "qxhbbDPfrvD8",
        "outputId": "118702af-3a28-4afb-aaab-acc0d7a907ae"
      },
      "outputs": [
        {
          "data": {
            "image/png": "[encoded data removed]",
            "text/plain": [
              "<IPython.core.display.Image object>"
            ]
          },
          "execution_count": 496,
          "metadata": {
            "tags": []
          },
          "output_type": "execute_result"
        }
      ],
      "source": [
        "plot_model(model_cnn, to_file='multiclass-cnn.png')"
      ]
    },
    {
      "cell_type": "code",
      "execution_count": null,
      "metadata": {
        "colab": {},
        "colab_type": "code",
        "id": "-ItW2BcC0WKB"
      },
      "outputs": [],
      "source": [
        "# Decomment following line if you want to download model figure\n",
        "# files.download('multiclass-cnn.png')"
      ]
    },
    {
      "cell_type": "code",
      "execution_count": null,
      "metadata": {
        "colab": {},
        "colab_type": "code",
        "id": "EnH-wBSQ1BTl"
      },
      "outputs": [],
      "source": []
    }
  ],
  "metadata": {
    "accelerator": "GPU",
    "colab": {
      "collapsed_sections": [],
      "include_colab_link": true,
      "name": "DL-FastTextEmb.ipynb",
      "provenance": []
    },
    "kernelspec": {
      "display_name": "Python 3.8.0 ('venv')",
      "language": "python",
      "name": "python3"
    },
    "language_info": {
      "codemirror_mode": {
        "name": "ipython",
        "version": 3
      },
      "file_extension": ".py",
      "mimetype": "text/x-python",
      "name": "python",
      "nbconvert_exporter": "python",
      "pygments_lexer": "ipython3",
      "version": "3.8.0"
    },
    "vscode": {
      "interpreter": {
        "hash": "159ceeb68d01a2f66cd9a438bb6a84137563ab7d8384751194c87aff3d444026"
      }
    }
  },
  "nbformat": 4,
  "nbformat_minor": 0
}
